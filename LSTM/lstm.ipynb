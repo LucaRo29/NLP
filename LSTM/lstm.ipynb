{
 "cells": [
  {
   "cell_type": "markdown",
   "source": [
    "#LSTM"
   ],
   "metadata": {
    "collapsed": false,
    "id": "ZJA3K7rUvClM"
   }
  },
  {
   "cell_type": "code",
   "execution_count": 1,
   "metadata": {
    "collapsed": true,
    "id": "A6nQRfGEvClN"
   },
   "outputs": [],
   "source": [
    "import pandas as pd\n",
    "import matplotlib.pyplot as plt\n",
    "plt.style.use('dark_background')\n",
    "import warnings\n",
    "warnings.simplefilter(action='ignore', category=Warning)\n",
    "from keras.layers import Dense, Embedding, LSTM, Dropout\n",
    "from keras.models import Sequential\n",
    "from keras.preprocessing.text import Tokenizer\n",
    "from keras.preprocessing.sequence import pad_sequences\n",
    "import numpy as np\n",
    "import tensorflow as tf"
   ]
  },
  {
   "cell_type": "markdown",
   "source": [
    "Unpreprocessed file: not executable on Colab because of to little RAM, not executable on own machine since it takes for ever..."
   ],
   "metadata": {
    "collapsed": false,
    "id": "hs2sUomesIn9"
   }
  },
  {
   "cell_type": "markdown",
   "source": [
    "Use only one of the following codeblocks to load data and set the image folder of the appropriate dataset.\n",
    "\n",
    "spam_preprocessed.csv:"
   ],
   "metadata": {
    "id": "VGexcW7vsaO-"
   }
  },
  {
   "cell_type": "code",
   "execution_count": null,
   "outputs": [],
   "source": [
    "image_folder = 'Figures/lstm_SMS_preprocessed/LSTM_SMS_'\n",
    "data_path = '../Data/preprocessed/spam_preprocessed.csv'"
   ],
   "metadata": {
    "pycharm": {
     "name": "#%%\n"
    },
    "id": "rPvfOTcssIn9"
   }
  },
  {
   "cell_type": "markdown",
   "source": [
    "enron_preprocessed.csv:"
   ],
   "metadata": {
    "collapsed": false,
    "id": "HvQrs7TXsIn-"
   }
  },
  {
   "cell_type": "code",
   "execution_count": null,
   "outputs": [],
   "source": [
    "image_folder = 'Figures/lstm_enron_preprocessed/LSTM_ENRON_'\n",
    "data_path = '../Data/preprocessed/enron_preprocessed.csv'"
   ],
   "metadata": {
    "pycharm": {
     "name": "#%%\n"
    },
    "id": "Fu0Jgd2EsIn-"
   }
  },
  {
   "cell_type": "markdown",
   "source": [
    "The following code block should only be used in google colab: "
   ],
   "metadata": {
    "id": "VlkEyDv8sLVW"
   }
  },
  {
   "cell_type": "code",
   "source": [
    "data_path = \"merged_preprocessed.csv\""
   ],
   "metadata": {
    "id": "l95vckyXsfUC"
   },
   "execution_count": 2,
   "outputs": []
  },
  {
   "cell_type": "markdown",
   "source": [
    "#MAIN:"
   ],
   "metadata": {
    "collapsed": false,
    "id": "UV7Weq2YsIn_"
   }
  },
  {
   "cell_type": "code",
   "execution_count": 3,
   "outputs": [
    {
     "output_type": "execute_result",
     "data": {
      "text/plain": [
       "   label                                               text\n",
       "0      0  go jurong point crazy available bugis n great ...\n",
       "1      0                            ok lar joking wif u oni\n",
       "2      1  free entry wkly comp win fa cup final tkts may...\n",
       "3      0                u dun say early hor u c already say\n",
       "4      0                nah think go usf life around though"
      ],
      "text/html": [
       "\n",
       "  <div id=\"df-ab0b0afd-dbc9-4818-8166-c0b1a5182144\">\n",
       "    <div class=\"colab-df-container\">\n",
       "      <div>\n",
       "<style scoped>\n",
       "    .dataframe tbody tr th:only-of-type {\n",
       "        vertical-align: middle;\n",
       "    }\n",
       "\n",
       "    .dataframe tbody tr th {\n",
       "        vertical-align: top;\n",
       "    }\n",
       "\n",
       "    .dataframe thead th {\n",
       "        text-align: right;\n",
       "    }\n",
       "</style>\n",
       "<table border=\"1\" class=\"dataframe\">\n",
       "  <thead>\n",
       "    <tr style=\"text-align: right;\">\n",
       "      <th></th>\n",
       "      <th>label</th>\n",
       "      <th>text</th>\n",
       "    </tr>\n",
       "  </thead>\n",
       "  <tbody>\n",
       "    <tr>\n",
       "      <th>0</th>\n",
       "      <td>0</td>\n",
       "      <td>go jurong point crazy available bugis n great ...</td>\n",
       "    </tr>\n",
       "    <tr>\n",
       "      <th>1</th>\n",
       "      <td>0</td>\n",
       "      <td>ok lar joking wif u oni</td>\n",
       "    </tr>\n",
       "    <tr>\n",
       "      <th>2</th>\n",
       "      <td>1</td>\n",
       "      <td>free entry wkly comp win fa cup final tkts may...</td>\n",
       "    </tr>\n",
       "    <tr>\n",
       "      <th>3</th>\n",
       "      <td>0</td>\n",
       "      <td>u dun say early hor u c already say</td>\n",
       "    </tr>\n",
       "    <tr>\n",
       "      <th>4</th>\n",
       "      <td>0</td>\n",
       "      <td>nah think go usf life around though</td>\n",
       "    </tr>\n",
       "  </tbody>\n",
       "</table>\n",
       "</div>\n",
       "      <button class=\"colab-df-convert\" onclick=\"convertToInteractive('df-ab0b0afd-dbc9-4818-8166-c0b1a5182144')\"\n",
       "              title=\"Convert this dataframe to an interactive table.\"\n",
       "              style=\"display:none;\">\n",
       "        \n",
       "  <svg xmlns=\"http://www.w3.org/2000/svg\" height=\"24px\"viewBox=\"0 0 24 24\"\n",
       "       width=\"24px\">\n",
       "    <path d=\"M0 0h24v24H0V0z\" fill=\"none\"/>\n",
       "    <path d=\"M18.56 5.44l.94 2.06.94-2.06 2.06-.94-2.06-.94-.94-2.06-.94 2.06-2.06.94zm-11 1L8.5 8.5l.94-2.06 2.06-.94-2.06-.94L8.5 2.5l-.94 2.06-2.06.94zm10 10l.94 2.06.94-2.06 2.06-.94-2.06-.94-.94-2.06-.94 2.06-2.06.94z\"/><path d=\"M17.41 7.96l-1.37-1.37c-.4-.4-.92-.59-1.43-.59-.52 0-1.04.2-1.43.59L10.3 9.45l-7.72 7.72c-.78.78-.78 2.05 0 2.83L4 21.41c.39.39.9.59 1.41.59.51 0 1.02-.2 1.41-.59l7.78-7.78 2.81-2.81c.8-.78.8-2.07 0-2.86zM5.41 20L4 18.59l7.72-7.72 1.47 1.35L5.41 20z\"/>\n",
       "  </svg>\n",
       "      </button>\n",
       "      \n",
       "  <style>\n",
       "    .colab-df-container {\n",
       "      display:flex;\n",
       "      flex-wrap:wrap;\n",
       "      gap: 12px;\n",
       "    }\n",
       "\n",
       "    .colab-df-convert {\n",
       "      background-color: #E8F0FE;\n",
       "      border: none;\n",
       "      border-radius: 50%;\n",
       "      cursor: pointer;\n",
       "      display: none;\n",
       "      fill: #1967D2;\n",
       "      height: 32px;\n",
       "      padding: 0 0 0 0;\n",
       "      width: 32px;\n",
       "    }\n",
       "\n",
       "    .colab-df-convert:hover {\n",
       "      background-color: #E2EBFA;\n",
       "      box-shadow: 0px 1px 2px rgba(60, 64, 67, 0.3), 0px 1px 3px 1px rgba(60, 64, 67, 0.15);\n",
       "      fill: #174EA6;\n",
       "    }\n",
       "\n",
       "    [theme=dark] .colab-df-convert {\n",
       "      background-color: #3B4455;\n",
       "      fill: #D2E3FC;\n",
       "    }\n",
       "\n",
       "    [theme=dark] .colab-df-convert:hover {\n",
       "      background-color: #434B5C;\n",
       "      box-shadow: 0px 1px 3px 1px rgba(0, 0, 0, 0.15);\n",
       "      filter: drop-shadow(0px 1px 2px rgba(0, 0, 0, 0.3));\n",
       "      fill: #FFFFFF;\n",
       "    }\n",
       "  </style>\n",
       "\n",
       "      <script>\n",
       "        const buttonEl =\n",
       "          document.querySelector('#df-ab0b0afd-dbc9-4818-8166-c0b1a5182144 button.colab-df-convert');\n",
       "        buttonEl.style.display =\n",
       "          google.colab.kernel.accessAllowed ? 'block' : 'none';\n",
       "\n",
       "        async function convertToInteractive(key) {\n",
       "          const element = document.querySelector('#df-ab0b0afd-dbc9-4818-8166-c0b1a5182144');\n",
       "          const dataTable =\n",
       "            await google.colab.kernel.invokeFunction('convertToInteractive',\n",
       "                                                     [key], {});\n",
       "          if (!dataTable) return;\n",
       "\n",
       "          const docLinkHtml = 'Like what you see? Visit the ' +\n",
       "            '<a target=\"_blank\" href=https://colab.research.google.com/notebooks/data_table.ipynb>data table notebook</a>'\n",
       "            + ' to learn more about interactive tables.';\n",
       "          element.innerHTML = '';\n",
       "          dataTable['output_type'] = 'display_data';\n",
       "          await google.colab.output.renderOutput(dataTable, element);\n",
       "          const docLink = document.createElement('div');\n",
       "          docLink.innerHTML = docLinkHtml;\n",
       "          element.appendChild(docLink);\n",
       "        }\n",
       "      </script>\n",
       "    </div>\n",
       "  </div>\n",
       "  "
      ]
     },
     "metadata": {},
     "execution_count": 3
    }
   ],
   "source": [
    "print(\"reading file: \", data_path)\n",
    "df = pd.read_csv(data_path, encoding = \"latin-1\")\n",
    "df.head()"
   ],
   "metadata": {
    "pycharm": {
     "name": "#%%\n"
    },
    "id": "xDIV1NycvClO",
    "colab": {
     "base_uri": "https://localhost:8080/",
     "height": 206
    },
    "outputId": "807cb02a-8115-4247-9ad4-d84e2a6dbb52"
   }
  },
  {
   "cell_type": "code",
   "execution_count": 4,
   "outputs": [
    {
     "output_type": "execute_result",
     "data": {
      "text/plain": [
       "(35193, 2)"
      ]
     },
     "metadata": {},
     "execution_count": 4
    }
   ],
   "source": [
    "df.shape"
   ],
   "metadata": {
    "pycharm": {
     "name": "#%%\n"
    },
    "id": "WNbu-9SovClO",
    "colab": {
     "base_uri": "https://localhost:8080/"
    },
    "outputId": "a1ed9b4e-ca31-46c2-cfda-f5a226500bb9"
   }
  },
  {
   "cell_type": "markdown",
   "source": [
    "#Drop Null values:\n",
    "Somehow it did not work to drop NULL values in preprocessing... Out of any reason there are some null falues in the data after reading the CSV even though they have not been there before writing the CSV file in the preprocessing skript!"
   ],
   "metadata": {
    "collapsed": false,
    "pycharm": {
     "name": "#%% md\n"
    },
    "id": "VAVSp0djvClP"
   }
  },
  {
   "cell_type": "code",
   "execution_count": 5,
   "outputs": [
    {
     "output_type": "execute_result",
     "data": {
      "text/plain": [
       "label     0\n",
       "text     14\n",
       "dtype: int64"
      ]
     },
     "metadata": {},
     "execution_count": 5
    }
   ],
   "source": [
    "df.isnull().sum()"
   ],
   "metadata": {
    "pycharm": {
     "name": "#%%\n"
    },
    "id": "fmJD54WmvClP",
    "colab": {
     "base_uri": "https://localhost:8080/"
    },
    "outputId": "b7ddbf4b-59f1-40d7-a05b-249025249b3a"
   }
  },
  {
   "cell_type": "code",
   "execution_count": 6,
   "outputs": [
    {
     "output_type": "execute_result",
     "data": {
      "text/plain": [
       "label    0\n",
       "text     0\n",
       "dtype: int64"
      ]
     },
     "metadata": {},
     "execution_count": 6
    }
   ],
   "source": [
    "df.dropna(inplace=True)\n",
    "df.isnull().sum()"
   ],
   "metadata": {
    "pycharm": {
     "name": "#%%\n"
    },
    "id": "QdX6u0tHvClP",
    "colab": {
     "base_uri": "https://localhost:8080/"
    },
    "outputId": "e06e69de-0f83-446e-c181-769f285e79b4"
   }
  },
  {
   "cell_type": "markdown",
   "source": [
    "#Balancing Dataset: "
   ],
   "metadata": {
    "id": "m3KaY1nbQm7B"
   }
  },
  {
   "cell_type": "code",
   "source": [
    "df_spam = df[df['label'] == 1]\n",
    "df_ham  = df[df['label'] == 0]\n",
    "print(\"Ham Dataset Shape:\", df_ham.shape)\n",
    "print(\"Spam Dataset Shape:\", df_spam.shape)\n"
   ],
   "metadata": {
    "colab": {
     "base_uri": "https://localhost:8080/"
    },
    "id": "4Ht8QCjTQmq-",
    "outputId": "0750330b-ecfb-4996-de41-12881fcf5fdd"
   },
   "execution_count": 7,
   "outputs": [
    {
     "output_type": "stream",
     "name": "stdout",
     "text": [
      "Ham Dataset Shape: (20367, 2)\n",
      "Spam Dataset Shape: (14812, 2)\n"
     ]
    }
   ]
  },
  {
   "cell_type": "code",
   "source": [
    "df_ham_downsampled = df_ham.sample(df_spam.shape[0])\n",
    "df_ham_downsampled.shape"
   ],
   "metadata": {
    "colab": {
     "base_uri": "https://localhost:8080/"
    },
    "id": "ZdqeusHKRz4X",
    "outputId": "b31037a4-5f94-42c9-beb7-c6345ba7d476"
   },
   "execution_count": 8,
   "outputs": [
    {
     "output_type": "execute_result",
     "data": {
      "text/plain": [
       "(14812, 2)"
      ]
     },
     "metadata": {},
     "execution_count": 8
    }
   ]
  },
  {
   "cell_type": "code",
   "source": [
    "df = pd.concat([df_spam, df_ham_downsampled])"
   ],
   "metadata": {
    "id": "BaSrK06wSGnz"
   },
   "execution_count": 9,
   "outputs": []
  },
  {
   "cell_type": "code",
   "source": [
    "import seaborn as sns\n",
    "sns.countplot(x=df[\"label\"])"
   ],
   "metadata": {
    "colab": {
     "base_uri": "https://localhost:8080/",
     "height": 296
    },
    "id": "C6LB2EOtQmE0",
    "outputId": "aada3149-f6d4-45d7-ef68-4939beb6aee8"
   },
   "execution_count": 10,
   "outputs": [
    {
     "output_type": "execute_result",
     "data": {
      "text/plain": [
       "<matplotlib.axes._subplots.AxesSubplot at 0x7f030bee3710>"
      ]
     },
     "metadata": {},
     "execution_count": 10
    },
    {
     "output_type": "display_data",
     "data": {
      "text/plain": [
       "<Figure size 432x288 with 1 Axes>"
      ],
      "image/png": "[encoded data removed]"
     },
     "metadata": {
      "needs_background": "dark"
     }
    }
   ]
  },
  {
   "cell_type": "markdown",
   "source": [
    "#Convert tokens into a numerical sequence:"
   ],
   "metadata": {
    "collapsed": false,
    "id": "-PwM1PK8vClP"
   }
  },
  {
   "cell_type": "code",
   "execution_count": 12,
   "outputs": [],
   "source": [
    "X=df[\"text\"]\n",
    "#X=df[\"transformed_text\"]\n",
    "\n",
    "tokenizer = Tokenizer() #initializing the tokenizer\n",
    "tokenizer.fit_on_texts(X)# fitting on the sms data\n",
    "text_to_sequence = tokenizer.texts_to_sequences(X) # creating the numerical sequence"
   ],
   "metadata": {
    "pycharm": {
     "name": "#%%\n"
    },
    "id": "ZFyLdSkpvClP"
   }
  },
  {
   "cell_type": "code",
   "execution_count": 13,
   "outputs": [],
   "source": [
    "#tokenizer.index_word"
   ],
   "metadata": {
    "pycharm": {
     "name": "#%%\n"
    },
    "id": "_TS4CgdtvClP"
   }
  },
  {
   "cell_type": "code",
   "execution_count": 14,
   "outputs": [
    {
     "output_type": "execute_result",
     "data": {
      "text/plain": [
       "130902"
      ]
     },
     "metadata": {},
     "execution_count": 14
    }
   ],
   "source": [
    "len(tokenizer.index_word)"
   ],
   "metadata": {
    "pycharm": {
     "name": "#%%\n"
    },
    "id": "fYxEkluSvClP",
    "colab": {
     "base_uri": "https://localhost:8080/"
    },
    "outputId": "b75d899b-7433-4c31-9f52-650164f8a8e7"
   }
  },
  {
   "cell_type": "markdown",
   "source": [
    "#Normalization:\n",
    "Since all the messages are of different lengths also the sequences are of different length, so we have to padding the sequences with 0 to get equal length. Otherwise the sequences would not be compatible for the model!"
   ],
   "metadata": {
    "collapsed": false,
    "id": "7Mi1NXxUvClQ"
   }
  },
  {
   "cell_type": "code",
   "execution_count": 16,
   "outputs": [
    {
     "output_type": "execute_result",
     "data": {
      "text/plain": [
       "array([[    0,     0,     0, ...,   144,    50,  1425],\n",
       "       [    0,     0,     0, ..., 64908,   127, 50734],\n",
       "       [    0,     0,     0, ...,   678,  1629,   143],\n",
       "       ...,\n",
       "       [    0,     0,     0, ...,  9087, 31381, 10197],\n",
       "       [    0,     0,     0, ...,   127,   141,   108],\n",
       "       [    0,     0,     0, ...,    51,   111,   523]], dtype=int32)"
      ]
     },
     "metadata": {},
     "execution_count": 16
    }
   ],
   "source": [
    "max_length_sequence = max([len(i) for i in text_to_sequence]) # finding the length of largest sequence\n",
    "padded_sequence = pad_sequences(text_to_sequence, maxlen=max_length_sequence, padding = \"pre\")\n",
    "padded_sequence"
   ],
   "metadata": {
    "pycharm": {
     "name": "#%%\n"
    },
    "id": "c0m_ZlcCvClQ",
    "colab": {
     "base_uri": "https://localhost:8080/"
    },
    "outputId": "0c5dfde4-e25e-47f6-a3c8-389ccd2bfc22"
   }
  },
  {
   "cell_type": "code",
   "source": [
    "print(\"shape\",len(padded_sequence), \"rows x \",len(padded_sequence[0]),\"cols\")"
   ],
   "metadata": {
    "id": "goO7LQ0lTTVs",
    "colab": {
     "base_uri": "https://localhost:8080/"
    },
    "outputId": "e352d44b-f725-4ae7-9f7e-1c3b396fd4a5"
   },
   "execution_count": 17,
   "outputs": [
    {
     "output_type": "stream",
     "name": "stdout",
     "text": [
      "shape 29624 rows x  21227 cols\n"
     ]
    }
   ]
  },
  {
   "cell_type": "markdown",
   "source": [
    "#Create LSTM Model:"
   ],
   "metadata": {
    "collapsed": false,
    "id": "XZhSzVfzvClQ"
   }
  },
  {
   "cell_type": "code",
   "execution_count": 18,
   "outputs": [
    {
     "output_type": "stream",
     "name": "stdout",
     "text": [
      "Model: \"sequential\"\n",
      "_________________________________________________________________\n",
      " Layer (type)                Output Shape              Param #   \n",
      "=================================================================\n",
      " embedding (Embedding)       (None, 21227, 32)         4188896   \n",
      "                                                                 \n",
      " lstm (LSTM)                 (None, 100)               53200     \n",
      "                                                                 \n",
      " dropout (Dropout)           (None, 100)               0         \n",
      "                                                                 \n",
      " dense (Dense)               (None, 20)                2020      \n",
      "                                                                 \n",
      " dropout_1 (Dropout)         (None, 20)                0         \n",
      "                                                                 \n",
      " dense_1 (Dense)             (None, 1)                 21        \n",
      "                                                                 \n",
      "=================================================================\n",
      "Total params: 4,244,137\n",
      "Trainable params: 4,244,137\n",
      "Non-trainable params: 0\n",
      "_________________________________________________________________\n"
     ]
    }
   ],
   "source": [
    "TOT_SIZE = len(tokenizer.word_index)+1\n",
    "\n",
    "\n",
    "def create_model():\n",
    "      lstm_model = Sequential()\n",
    "      lstm_model.add(Embedding(TOT_SIZE, 32, input_length=max_length_sequence))\n",
    "      lstm_model.add(LSTM(100))\n",
    "      lstm_model.add(Dropout(0.4))\n",
    "      lstm_model.add(Dense(20, activation=\"relu\"))\n",
    "\n",
    "      lstm_model.add(Dropout(0.3))\n",
    "      lstm_model.add(Dense(1, activation = \"sigmoid\"))\n",
    "      return lstm_model\n",
    "\n",
    "Metrics = [tf.keras.metrics.BinaryAccuracy(name='accuracy'),\n",
    "           tf.keras.metrics.Precision(name='precision'),\n",
    "           tf.keras.metrics.Recall(name='recall')\n",
    "           ]\n",
    "\n",
    "lstm_model = create_model()\n",
    "lstm_model.compile(loss = \"binary_crossentropy\", optimizer = \"adam\", metrics=Metrics)\n",
    "\n",
    "lstm_model.summary()"
   ],
   "metadata": {
    "pycharm": {
     "name": "#%%\n"
    },
    "id": "90IOL8zevClQ",
    "colab": {
     "base_uri": "https://localhost:8080/"
    },
    "outputId": "369b9dea-ff3a-46fe-f727-6e6c2d9955db"
   }
  },
  {
   "cell_type": "markdown",
   "source": [
    "#Train Test Validation Split"
   ],
   "metadata": {
    "collapsed": false,
    "id": "lpx-FVILvClR"
   }
  },
  {
   "cell_type": "code",
   "execution_count": 19,
   "outputs": [],
   "source": [
    "from sklearn.model_selection import train_test_split\n",
    "X=padded_sequence\n",
    "y=df[\"label\"]\n",
    "X_train, X_val,  y_train, y_val  = train_test_split(X, y, test_size=0.7, random_state=42)\n",
    "X_val,   X_test, y_val,   y_test = train_test_split(X_val, y_val, train_size=0.5)"
   ],
   "metadata": {
    "pycharm": {
     "name": "#%%\n"
    },
    "id": "WrFgOFTIvClR"
   }
  },
  {
   "cell_type": "markdown",
   "source": [
    "#Train the model: "
   ],
   "metadata": {
    "id": "HAxE5I3HYXE3"
   }
  },
  {
   "cell_type": "code",
   "execution_count": 20,
   "outputs": [
    {
     "output_type": "stream",
     "name": "stdout",
     "text": [
      "Epoch 1/100\n",
      "278/278 [==============================] - 294s 1s/step - loss: 0.2800 - accuracy: 0.8835 - precision: 0.8667 - recall: 0.9039 - val_loss: 0.1102 - val_accuracy: 0.9601 - val_precision: 0.9808 - val_recall: 0.9391\n",
      "Epoch 2/100\n",
      "278/278 [==============================] - 276s 996ms/step - loss: 0.0546 - accuracy: 0.9840 - precision: 0.9872 - recall: 0.9805 - val_loss: 0.1012 - val_accuracy: 0.9645 - val_precision: 0.9667 - val_recall: 0.9627\n",
      "Epoch 3/100\n",
      "278/278 [==============================] - 279s 1s/step - loss: 0.0144 - accuracy: 0.9964 - precision: 0.9984 - recall: 0.9943 - val_loss: 0.1225 - val_accuracy: 0.9621 - val_precision: 0.9526 - val_recall: 0.9732\n",
      "Epoch 4/100\n",
      "278/278 [==============================] - 279s 1s/step - loss: 0.0164 - accuracy: 0.9952 - precision: 0.9943 - recall: 0.9959 - val_loss: 0.1378 - val_accuracy: 0.9634 - val_precision: 0.9587 - val_recall: 0.9692\n",
      "Epoch 5/100\n",
      "278/278 [==============================] - 279s 1s/step - loss: 0.0152 - accuracy: 0.9967 - precision: 0.9966 - recall: 0.9968 - val_loss: 0.1399 - val_accuracy: 0.9665 - val_precision: 0.9667 - val_recall: 0.9669\n",
      "Epoch 6/100\n",
      "278/278 [==============================] - 278s 1s/step - loss: 0.0131 - accuracy: 0.9964 - precision: 0.9979 - recall: 0.9948 - val_loss: 0.1505 - val_accuracy: 0.9630 - val_precision: 0.9717 - val_recall: 0.9542\n",
      "Epoch 7/100\n",
      "278/278 [==============================] - 279s 1s/step - loss: 0.0077 - accuracy: 0.9977 - precision: 0.9984 - recall: 0.9970 - val_loss: 0.1623 - val_accuracy: 0.9660 - val_precision: 0.9708 - val_recall: 0.9615\n",
      "Epoch 8/100\n",
      "278/278 [==============================] - 281s 1s/step - loss: 0.0048 - accuracy: 0.9989 - precision: 0.9986 - recall: 0.9991 - val_loss: 0.1754 - val_accuracy: 0.9624 - val_precision: 0.9743 - val_recall: 0.9504\n",
      "Epoch 9/100\n",
      "278/278 [==============================] - 281s 1s/step - loss: 0.0019 - accuracy: 0.9997 - precision: 1.0000 - recall: 0.9993 - val_loss: 0.1863 - val_accuracy: 0.9640 - val_precision: 0.9687 - val_recall: 0.9596\n",
      "Epoch 10/100\n",
      "278/278 [==============================] - 279s 1s/step - loss: 0.0016 - accuracy: 0.9999 - precision: 1.0000 - recall: 0.9998 - val_loss: 0.1955 - val_accuracy: 0.9621 - val_precision: 0.9598 - val_recall: 0.9651\n",
      "Epoch 11/100\n",
      "278/278 [==============================] - 279s 1s/step - loss: 9.5591e-04 - accuracy: 0.9999 - precision: 1.0000 - recall: 0.9998 - val_loss: 0.2236 - val_accuracy: 0.9638 - val_precision: 0.9740 - val_recall: 0.9537\n",
      "Epoch 12/100\n",
      "278/278 [==============================] - 333s 1s/step - loss: 9.6338e-04 - accuracy: 0.9999 - precision: 1.0000 - recall: 0.9998 - val_loss: 0.2271 - val_accuracy: 0.9637 - val_precision: 0.9718 - val_recall: 0.9558\n",
      "Epoch 13/100\n",
      "278/278 [==============================] - 278s 1s/step - loss: 0.0011 - accuracy: 0.9999 - precision: 1.0000 - recall: 0.9998 - val_loss: 0.2248 - val_accuracy: 0.9590 - val_precision: 0.9518 - val_recall: 0.9676\n",
      "Epoch 14/100\n",
      "278/278 [==============================] - 278s 1s/step - loss: 8.1085e-04 - accuracy: 0.9999 - precision: 1.0000 - recall: 0.9998 - val_loss: 0.2293 - val_accuracy: 0.9607 - val_precision: 0.9588 - val_recall: 0.9634\n",
      "Epoch 15/100\n",
      "278/278 [==============================] - 279s 1s/step - loss: 8.8214e-04 - accuracy: 0.9998 - precision: 0.9998 - recall: 0.9998 - val_loss: 0.2796 - val_accuracy: 0.9621 - val_precision: 0.9778 - val_recall: 0.9462\n",
      "Epoch 16/100\n",
      "278/278 [==============================] - 277s 998ms/step - loss: 0.0098 - accuracy: 0.9973 - precision: 0.9961 - recall: 0.9984 - val_loss: 0.2580 - val_accuracy: 0.9446 - val_precision: 0.9296 - val_recall: 0.9630\n",
      "Epoch 17/100\n",
      "278/278 [==============================] - 278s 1s/step - loss: 0.0090 - accuracy: 0.9981 - precision: 0.9982 - recall: 0.9980 - val_loss: 0.1955 - val_accuracy: 0.9600 - val_precision: 0.9519 - val_recall: 0.9696\n",
      "Epoch 18/100\n",
      "278/278 [==============================] - 278s 1s/step - loss: 0.0037 - accuracy: 0.9992 - precision: 0.9989 - recall: 0.9995 - val_loss: 0.2098 - val_accuracy: 0.9597 - val_precision: 0.9660 - val_recall: 0.9535\n",
      "Epoch 19/100\n",
      "278/278 [==============================] - ETA: 0s - loss: 0.0010 - accuracy: 0.9999 - precision: 1.0000 - recall: 0.9998Restoring model weights from the end of the best epoch: 14.\n",
      "278/278 [==============================] - 278s 1s/step - loss: 0.0010 - accuracy: 0.9999 - precision: 1.0000 - recall: 0.9998 - val_loss: 0.2306 - val_accuracy: 0.9617 - val_precision: 0.9685 - val_recall: 0.9550\n",
      "Epoch 19: early stopping\n"
     ]
    }
   ],
   "source": [
    "from keras.callbacks import EarlyStopping\n",
    "\n",
    "num_epochs = 100 #10!\n",
    "\n",
    "es = EarlyStopping(patience=5, verbose=1, min_delta=0.001, monitor='loss', mode='auto',\n",
    "                       restore_best_weights=True)\n",
    "\n",
    "history = lstm_model.fit(\n",
    "               X_train ,\n",
    "               y_train,\n",
    "               epochs=num_epochs,\n",
    "               validation_data=(X_val, y_val),\n",
    "                callbacks=[es]\n",
    "               #callbacks=[EarlyStopping(monitor='val_loss',min_delta=0.0001)]\n",
    "          )"
   ],
   "metadata": {
    "pycharm": {
     "name": "#%%\n"
    },
    "id": "_ZxfltqFvClR",
    "colab": {
     "base_uri": "https://localhost:8080/"
    },
    "outputId": "4ea17377-ea91-4fd0-893e-155fec407caf"
   }
  },
  {
   "cell_type": "markdown",
   "source": [
    "#SAVE MODEL AS PICKLE FILE:"
   ],
   "metadata": {
    "id": "8Du0DgvipdoP"
   }
  },
  {
   "cell_type": "code",
   "source": [
    "y_pred = lstm_model.predict(X_test)\n",
    "y_pred = y_pred.flatten() \n",
    "y_pred = np.where(y_pred > 0.5, 1, 0) #Why?"
   ],
   "metadata": {
    "id": "obqWDrOVc0sd"
   },
   "execution_count": 23,
   "outputs": []
  },
  {
   "cell_type": "markdown",
   "source": [
    "Classification Report:"
   ],
   "metadata": {
    "id": "RWwp2UIYeK44"
   }
  },
  {
   "cell_type": "code",
   "source": [
    "from sklearn.utils import check_matplotlib_support\n",
    "from sklearn.utils.validation import check_memory\n",
    "from sklearn.metrics import confusion_matrix, classification_report"
   ],
   "metadata": {
    "id": "5xmarFF2dWqT"
   },
   "execution_count": 24,
   "outputs": []
  },
  {
   "cell_type": "code",
   "source": [
    "cr = classification_report(y_test, y_pred)\n",
    "print(cr)"
   ],
   "metadata": {
    "colab": {
     "base_uri": "https://localhost:8080/"
    },
    "id": "nwqs2jKBnw5V",
    "outputId": "864c7d4b-7c90-4d4f-9560-238a1cdb5822"
   },
   "execution_count": 25,
   "outputs": [
    {
     "output_type": "stream",
     "name": "stdout",
     "text": [
      "              precision    recall  f1-score   support\n",
      "\n",
      "           0       0.97      0.96      0.96      5180\n",
      "           1       0.96      0.97      0.96      5189\n",
      "\n",
      "    accuracy                           0.96     10369\n",
      "   macro avg       0.96      0.96      0.96     10369\n",
      "weighted avg       0.96      0.96      0.96     10369\n",
      "\n"
     ]
    }
   ]
  },
  {
   "cell_type": "markdown",
   "source": [
    "Confusion Matrix:"
   ],
   "metadata": {
    "collapsed": false
   }
  },
  {
   "cell_type": "code",
   "source": [
    "plt.style.use('default')\n",
    "cm = confusion_matrix(y_test, y_pred)\n",
    "sns.heatmap(cm, annot=True, fmt='d')\n",
    "#plt.title(image_title_info+'Training and Validation loss')\n",
    "plt.xlabel('Predicted')\n",
    "plt.ylabel('Actual')\n",
    "#plt.savefig(image_folder+'cm.png')\n",
    "plt.show()"
   ],
   "metadata": {
    "colab": {
     "base_uri": "https://localhost:8080/",
     "height": 453
    },
    "id": "LRWJkrnQeO7p",
    "outputId": "8fff8622-a01c-48ff-f1a1-71e6b23768d8"
   },
   "execution_count": 26,
   "outputs": [
    {
     "output_type": "display_data",
     "data": {
      "text/plain": [
       "<Figure size 640x480 with 2 Axes>"
      ],
      "image/png": "[encoded data removed]"
     },
     "metadata": {}
    }
   ]
  },
  {
   "cell_type": "markdown",
   "source": [
    "Loss:"
   ],
   "metadata": {
    "id": "pVD9RuLnfK1g"
   }
  },
  {
   "cell_type": "code",
   "source": [
    "best_epoch = es.best_epoch + 1\n",
    "\n",
    "#epochs = range(1, num_epochs+1)\n",
    "plt.plot(history.history['loss'], 'g', label='Training loss')\n",
    "plt.plot(history.history['val_loss'], 'b', label='validation loss')\n",
    "plt.axvline(x=best_epoch, color='r', label='best_epoch')\n",
    "plt.title('Training and Validation Loss')\n",
    "plt.xlabel('Epochs')\n",
    "plt.ylabel('Loss')\n",
    "plt.legend()\n",
    "#plt.savefig(image_folder+'loss.png')\n",
    "plt.show()"
   ],
   "metadata": {
    "colab": {
     "base_uri": "https://localhost:8080/",
     "height": 472
    },
    "id": "9iKy5ovqfNT3",
    "outputId": "609c312e-bab6-4856-cbc8-956fd31d8195"
   },
   "execution_count": 28,
   "outputs": [
    {
     "output_type": "display_data",
     "data": {
      "text/plain": [
       "<Figure size 640x480 with 1 Axes>"
      ],
      "image/png": "[encoded data removed]"
     },
     "metadata": {}
    }
   ]
  },
  {
   "cell_type": "markdown",
   "source": [
    "Accuracy: "
   ],
   "metadata": {
    "id": "awIY0HaufQaW"
   }
  },
  {
   "cell_type": "code",
   "source": [
    "plt.plot( history.history['accuracy'], 'g', label='Training accuracy')\n",
    "plt.plot(history.history['val_accuracy'], 'b', label='validation accuracy')\n",
    "plt.axvline(x=best_epoch, color='r', label='best_epoch')\n",
    "plt.title('Training and Validation Accuracy')\n",
    "plt.xlabel('Epochs')\n",
    "plt.ylabel('accuracy')\n",
    "plt.legend()\n",
    "#plt.savefig(image_folder+'accuracy.png')\n",
    "plt.show()"
   ],
   "metadata": {
    "colab": {
     "base_uri": "https://localhost:8080/",
     "height": 472
    },
    "id": "TfNfgJQ7fV_X",
    "outputId": "afab02f7-4103-4551-c055-2ad2adf36d27"
   },
   "execution_count": 29,
   "outputs": [
    {
     "output_type": "display_data",
     "data": {
      "text/plain": [
       "<Figure size 640x480 with 1 Axes>"
      ],
      "image/png": "[encoded data removed]"
     },
     "metadata": {}
    }
   ]
  },
  {
   "cell_type": "markdown",
   "source": [
    "Precission:"
   ],
   "metadata": {
    "id": "KyP4gjojfOJG"
   }
  },
  {
   "cell_type": "code",
   "source": [
    "epochs = range(1, num_epochs+1)\n",
    "plt.plot(history.history['precision'], 'g', label='Training precision')\n",
    "plt.plot(history.history['val_precision'], 'b', label='validation precision')\n",
    "plt.axvline(x=best_epoch, color='r', label='best_epoch')\n",
    "plt.title('Training and Validation Precision')\n",
    "plt.xlabel('Epochs')\n",
    "plt.ylabel('precision')\n",
    "plt.legend()\n",
    "#plt.savefig(image_folder+'precision.png')\n",
    "plt.show()"
   ],
   "metadata": {
    "colab": {
     "base_uri": "https://localhost:8080/",
     "height": 472
    },
    "id": "XfwXjdOPfTe3",
    "outputId": "31f5bd63-136f-4629-a288-3bdc392f77b8",
    "pycharm": {
     "name": "#%%\n"
    }
   },
   "execution_count": 30,
   "outputs": [
    {
     "output_type": "display_data",
     "data": {
      "text/plain": [
       "<Figure size 640x480 with 1 Axes>"
      ],
      "image/png": "[encoded data removed]"
     },
     "metadata": {}
    }
   ]
  }
 ],
 "metadata": {
  "kernelspec": {
   "display_name": "Python 3",
   "language": "python",
   "name": "python3"
  },
  "language_info": {
   "codemirror_mode": {
    "name": "ipython",
    "version": 2
   },
   "file_extension": ".py",
   "mimetype": "text/x-python",
   "name": "python",
   "nbconvert_exporter": "python",
   "pygments_lexer": "ipython2",
   "version": "2.7.6"
  },
  "colab": {
   "name": "lstm_pycharm.ipynb",
   "provenance": [],
   "collapsed_sections": []
  },
  "accelerator": "GPU"
 },
 "nbformat": 4,
 "nbformat_minor": 0
}