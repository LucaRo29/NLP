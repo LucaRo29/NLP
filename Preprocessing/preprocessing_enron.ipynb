{
 "cells": [
  {
   "cell_type": "code",
   "execution_count": 82,
   "metadata": {
    "collapsed": true,
    "id": "kGzrg70Oo0OW",
    "pycharm": {
     "name": "#%%\n"
    }
   },
   "outputs": [],
   "source": [
    "import pandas as pd\n",
    "import nltk\n"
   ]
  },
  {
   "cell_type": "code",
   "execution_count": 83,
   "outputs": [
    {
     "data": {
      "text/plain": "       Message ID                                   Subject  \\\n1610         1610  enron / hpl actuals for sept . 13 , 2000   \n31781       31781                   yearly member breakdown   \n21660       21660                           message subject   \n457           457                                 team room   \n1419         1419        enron actuals for august 17 , 2000   \n\n                                                 Message Spam/Ham        Date  \n1610                           teco tap 10 . 938 / enron      ham  2000-09-14  \n31781  been ok lately ? ,\\nwhile searching google i f...     spam  2005-02-13  \n21660  w . o . w . . . . highhest quality medds at gr...     spam  2005-04-06  \n457    - - - - - - - - - - - - - - - - - - - - - - fo...      ham  2000-03-19  \n1419   teco tap 120 . 000 / iferc 20 . 000 / enron\\nl...      ham  2000-08-18  ",
      "text/html": "<div>\n<style scoped>\n    .dataframe tbody tr th:only-of-type {\n        vertical-align: middle;\n    }\n\n    .dataframe tbody tr th {\n        vertical-align: top;\n    }\n\n    .dataframe thead th {\n        text-align: right;\n    }\n</style>\n<table border=\"1\" class=\"dataframe\">\n  <thead>\n    <tr style=\"text-align: right;\">\n      <th></th>\n      <th>Message ID</th>\n      <th>Subject</th>\n      <th>Message</th>\n      <th>Spam/Ham</th>\n      <th>Date</th>\n    </tr>\n  </thead>\n  <tbody>\n    <tr>\n      <th>1610</th>\n      <td>1610</td>\n      <td>enron / hpl actuals for sept . 13 , 2000</td>\n      <td>teco tap 10 . 938 / enron</td>\n      <td>ham</td>\n      <td>2000-09-14</td>\n    </tr>\n    <tr>\n      <th>31781</th>\n      <td>31781</td>\n      <td>yearly member breakdown</td>\n      <td>been ok lately ? ,\\nwhile searching google i f...</td>\n      <td>spam</td>\n      <td>2005-02-13</td>\n    </tr>\n    <tr>\n      <th>21660</th>\n      <td>21660</td>\n      <td>message subject</td>\n      <td>w . o . w . . . . highhest quality medds at gr...</td>\n      <td>spam</td>\n      <td>2005-04-06</td>\n    </tr>\n    <tr>\n      <th>457</th>\n      <td>457</td>\n      <td>team room</td>\n      <td>- - - - - - - - - - - - - - - - - - - - - - fo...</td>\n      <td>ham</td>\n      <td>2000-03-19</td>\n    </tr>\n    <tr>\n      <th>1419</th>\n      <td>1419</td>\n      <td>enron actuals for august 17 , 2000</td>\n      <td>teco tap 120 . 000 / iferc 20 . 000 / enron\\nl...</td>\n      <td>ham</td>\n      <td>2000-08-18</td>\n    </tr>\n  </tbody>\n</table>\n</div>"
     },
     "execution_count": 83,
     "metadata": {},
     "output_type": "execute_result"
    }
   ],
   "source": [
    "df = pd.read_csv('../Data/raw/enron_spam_data.csv', encoding = \"ISO-8859-1\")\n",
    "df.sample(5)"
   ],
   "metadata": {
    "pycharm": {
     "name": "#%%\n"
    },
    "colab": {
     "base_uri": "https://localhost:8080/",
     "height": 206
    },
    "id": "hm9EgELGo0OW",
    "outputId": "d93cbdda-8555-44b2-ce5a-ef2f0e2e0dc3"
   }
  },
  {
   "cell_type": "code",
   "execution_count": 84,
   "outputs": [
    {
     "data": {
      "text/plain": "(33716, 5)"
     },
     "execution_count": 84,
     "metadata": {},
     "output_type": "execute_result"
    }
   ],
   "source": [
    "df.shape"
   ],
   "metadata": {
    "pycharm": {
     "name": "#%%\n"
    },
    "colab": {
     "base_uri": "https://localhost:8080/"
    },
    "id": "ZpYIW5p-o0OX",
    "outputId": "e1738454-76b2-43d8-e96e-8331b19b716a"
   }
  },
  {
   "cell_type": "code",
   "execution_count": 85,
   "outputs": [
    {
     "name": "stdout",
     "output_type": "stream",
     "text": [
      "<class 'pandas.core.frame.DataFrame'>\n",
      "RangeIndex: 33716 entries, 0 to 33715\n",
      "Data columns (total 5 columns):\n",
      " #   Column      Non-Null Count  Dtype \n",
      "---  ------      --------------  ----- \n",
      " 0   Message ID  33716 non-null  int64 \n",
      " 1   Subject     33427 non-null  object\n",
      " 2   Message     33345 non-null  object\n",
      " 3   Spam/Ham    33716 non-null  object\n",
      " 4   Date        33716 non-null  object\n",
      "dtypes: int64(1), object(4)\n",
      "memory usage: 1.3+ MB\n"
     ]
    }
   ],
   "source": [
    "df.info()"
   ],
   "metadata": {
    "pycharm": {
     "name": "#%%\n"
    },
    "colab": {
     "base_uri": "https://localhost:8080/"
    },
    "id": "xav1LjVOo0OX",
    "outputId": "789a20b1-ed0e-4009-add9-48243f9d4c76"
   }
  },
  {
   "cell_type": "code",
   "execution_count": 86,
   "outputs": [
    {
     "name": "stdout",
     "output_type": "stream",
     "text": [
      "<class 'pandas.core.frame.DataFrame'>\n",
      "Int64Index: 33107 entries, 1 to 33715\n",
      "Data columns (total 5 columns):\n",
      " #   Column      Non-Null Count  Dtype \n",
      "---  ------      --------------  ----- \n",
      " 0   Message ID  33107 non-null  int64 \n",
      " 1   Subject     33107 non-null  object\n",
      " 2   Message     33107 non-null  object\n",
      " 3   Spam/Ham    33107 non-null  object\n",
      " 4   Date        33107 non-null  object\n",
      "dtypes: int64(1), object(4)\n",
      "memory usage: 1.5+ MB\n"
     ]
    },
    {
     "data": {
      "text/plain": "(33107, 5)"
     },
     "execution_count": 86,
     "metadata": {},
     "output_type": "execute_result"
    }
   ],
   "source": [
    "#Drop rows with null elements\n",
    "#Drop Cols: message ID and Date\n",
    "df.dropna(inplace=True)\n",
    "df.info()\n",
    "df.shape"
   ],
   "metadata": {
    "collapsed": false,
    "pycharm": {
     "name": "#%%\n"
    }
   }
  },
  {
   "cell_type": "code",
   "execution_count": 87,
   "outputs": [
    {
     "data": {
      "text/plain": "                                                 Subject  \\\n21819                               thanks for yesterady   \n5196                    revised : organizational changes   \n31077                               super viagra is here   \n4717   94 % off on software - autodesk , corel , xp ,...   \n8269                      re : ca for henwood engagement   \n\n                                                 Message Spam/Ham  \n21819  you have to know that first impressions are so...     spam  \n5196   to : enron north america corp .\\nfrom : cliff ...      ham  \n31077  new clalls softtabs = lnstant rockhard erectlo...     spam  \n4717   hi ,\\nfind lots of cheap software in our site ...     spam  \n8269   stinson ,\\nplease find attached a revised vers...      ham  ",
      "text/html": "<div>\n<style scoped>\n    .dataframe tbody tr th:only-of-type {\n        vertical-align: middle;\n    }\n\n    .dataframe tbody tr th {\n        vertical-align: top;\n    }\n\n    .dataframe thead th {\n        text-align: right;\n    }\n</style>\n<table border=\"1\" class=\"dataframe\">\n  <thead>\n    <tr style=\"text-align: right;\">\n      <th></th>\n      <th>Subject</th>\n      <th>Message</th>\n      <th>Spam/Ham</th>\n    </tr>\n  </thead>\n  <tbody>\n    <tr>\n      <th>21819</th>\n      <td>thanks for yesterady</td>\n      <td>you have to know that first impressions are so...</td>\n      <td>spam</td>\n    </tr>\n    <tr>\n      <th>5196</th>\n      <td>revised : organizational changes</td>\n      <td>to : enron north america corp .\\nfrom : cliff ...</td>\n      <td>ham</td>\n    </tr>\n    <tr>\n      <th>31077</th>\n      <td>super viagra is here</td>\n      <td>new clalls softtabs = lnstant rockhard erectlo...</td>\n      <td>spam</td>\n    </tr>\n    <tr>\n      <th>4717</th>\n      <td>94 % off on software - autodesk , corel , xp ,...</td>\n      <td>hi ,\\nfind lots of cheap software in our site ...</td>\n      <td>spam</td>\n    </tr>\n    <tr>\n      <th>8269</th>\n      <td>re : ca for henwood engagement</td>\n      <td>stinson ,\\nplease find attached a revised vers...</td>\n      <td>ham</td>\n    </tr>\n  </tbody>\n</table>\n</div>"
     },
     "execution_count": 87,
     "metadata": {},
     "output_type": "execute_result"
    }
   ],
   "source": [
    " # drop  2 cols\n",
    "df.drop(columns=['Message ID','Date'],inplace=True)\n",
    "df.sample(5)"
   ],
   "metadata": {
    "collapsed": false,
    "pycharm": {
     "name": "#%%\n"
    }
   }
  },
  {
   "cell_type": "code",
   "execution_count": 88,
   "outputs": [
    {
     "data": {
      "text/plain": "                                                     sub  \\\n31323  delivery confirmation , tracking number : yqf ...   \n31623                               awaited response . .   \n14050                  re : what ' s in rawhide - urgent   \n4252                celebrate nicolas ' s birthday today   \n29683                                            re : ok   \n\n                                                     msg label  \n31323  noprepdoc . com\\nthe secret of life is honesty...  spam  \n31623  from the desk of mr . ibrahim mutiu\\nproject i...  spam  \n14050  i ' m not familiar with the individual assets ...   ham  \n4252   fuller harder\\nerectionsstarts working within ...  spam  \n29683  i was well satisfied with my cabin , which was...  spam  ",
      "text/html": "<div>\n<style scoped>\n    .dataframe tbody tr th:only-of-type {\n        vertical-align: middle;\n    }\n\n    .dataframe tbody tr th {\n        vertical-align: top;\n    }\n\n    .dataframe thead th {\n        text-align: right;\n    }\n</style>\n<table border=\"1\" class=\"dataframe\">\n  <thead>\n    <tr style=\"text-align: right;\">\n      <th></th>\n      <th>sub</th>\n      <th>msg</th>\n      <th>label</th>\n    </tr>\n  </thead>\n  <tbody>\n    <tr>\n      <th>31323</th>\n      <td>delivery confirmation , tracking number : yqf ...</td>\n      <td>noprepdoc . com\\nthe secret of life is honesty...</td>\n      <td>spam</td>\n    </tr>\n    <tr>\n      <th>31623</th>\n      <td>awaited response . .</td>\n      <td>from the desk of mr . ibrahim mutiu\\nproject i...</td>\n      <td>spam</td>\n    </tr>\n    <tr>\n      <th>14050</th>\n      <td>re : what ' s in rawhide - urgent</td>\n      <td>i ' m not familiar with the individual assets ...</td>\n      <td>ham</td>\n    </tr>\n    <tr>\n      <th>4252</th>\n      <td>celebrate nicolas ' s birthday today</td>\n      <td>fuller harder\\nerectionsstarts working within ...</td>\n      <td>spam</td>\n    </tr>\n    <tr>\n      <th>29683</th>\n      <td>re : ok</td>\n      <td>i was well satisfied with my cabin , which was...</td>\n      <td>spam</td>\n    </tr>\n  </tbody>\n</table>\n</div>"
     },
     "execution_count": 88,
     "metadata": {},
     "output_type": "execute_result"
    }
   ],
   "source": [
    "# renaming  cols\n",
    "df.rename(columns={'Subject':'sub','Message':'msg','Spam/Ham':'label'},inplace=True)\n",
    "df.sample(5)"
   ],
   "metadata": {
    "pycharm": {
     "name": "#%%\n"
    },
    "colab": {
     "base_uri": "https://localhost:8080/",
     "height": 206
    },
    "id": "p6XL_U5go0OX",
    "outputId": "949301d0-7cef-4be4-b299-bf2f500785f0"
   }
  },
  {
   "cell_type": "code",
   "execution_count": 89,
   "outputs": [
    {
     "data": {
      "text/plain": "                                                     sub  \\\n28387                               pulse survey results   \n10027                        work at home and make money   \n26987  largest collection of dowlnoadable porn d \\ / ...   \n26325  all graphics software available , cheap oem ve...   \n32147          dirty neighbour teen sohwing d - cup tits   \n\n                                                     msg  label  \n28387  thank you for your participation in the pulse ...      0  \n10027  would you like to get rich working part - time...      1  \n26987  we have the hottest pornostars pics and videos...      1  \n26325  good morning ,\\nwe we offer latest oem package...      1  \n32147  ciao , baby ! : )\\nmechikung\\ndarlin ! : )\\nka...      1  ",
      "text/html": "<div>\n<style scoped>\n    .dataframe tbody tr th:only-of-type {\n        vertical-align: middle;\n    }\n\n    .dataframe tbody tr th {\n        vertical-align: top;\n    }\n\n    .dataframe thead th {\n        text-align: right;\n    }\n</style>\n<table border=\"1\" class=\"dataframe\">\n  <thead>\n    <tr style=\"text-align: right;\">\n      <th></th>\n      <th>sub</th>\n      <th>msg</th>\n      <th>label</th>\n    </tr>\n  </thead>\n  <tbody>\n    <tr>\n      <th>28387</th>\n      <td>pulse survey results</td>\n      <td>thank you for your participation in the pulse ...</td>\n      <td>0</td>\n    </tr>\n    <tr>\n      <th>10027</th>\n      <td>work at home and make money</td>\n      <td>would you like to get rich working part - time...</td>\n      <td>1</td>\n    </tr>\n    <tr>\n      <th>26987</th>\n      <td>largest collection of dowlnoadable porn d \\ / ...</td>\n      <td>we have the hottest pornostars pics and videos...</td>\n      <td>1</td>\n    </tr>\n    <tr>\n      <th>26325</th>\n      <td>all graphics software available , cheap oem ve...</td>\n      <td>good morning ,\\nwe we offer latest oem package...</td>\n      <td>1</td>\n    </tr>\n    <tr>\n      <th>32147</th>\n      <td>dirty neighbour teen sohwing d - cup tits</td>\n      <td>ciao , baby ! : )\\nmechikung\\ndarlin ! : )\\nka...</td>\n      <td>1</td>\n    </tr>\n  </tbody>\n</table>\n</div>"
     },
     "execution_count": 89,
     "metadata": {},
     "output_type": "execute_result"
    }
   ],
   "source": [
    "from sklearn.preprocessing import LabelEncoder\n",
    "encoder = LabelEncoder()\n",
    "\n",
    "df['label'] = encoder.fit_transform(df['label'])\n",
    "\n",
    "df.sample(5)"
   ],
   "metadata": {
    "pycharm": {
     "name": "#%%\n"
    },
    "colab": {
     "base_uri": "https://localhost:8080/",
     "height": 206
    },
    "id": "Yl2QzScdo0OX",
    "outputId": "5f1ba26c-190f-448b-8d30-2b2db6a6599b"
   }
  },
  {
   "cell_type": "code",
   "execution_count": 90,
   "outputs": [
    {
     "name": "stdout",
     "output_type": "stream",
     "text": [
      "found  3071 dubs\n",
      "dubs remain:  0\n"
     ]
    }
   ],
   "source": [
    "#search dubs\n",
    "print(\"found \", df.duplicated().sum(), \"dubs\")\n",
    "df = df.drop_duplicates(keep='first')\n",
    "print(\"dubs remain: \",df.duplicated().sum())"
   ],
   "metadata": {
    "pycharm": {
     "name": "#%%\n"
    },
    "colab": {
     "base_uri": "https://localhost:8080/"
    },
    "id": "M-0j54i_o0OY",
    "outputId": "e768f99a-1ba6-4517-fc00-2e277c6bb910"
   }
  },
  {
   "cell_type": "code",
   "execution_count": 91,
   "outputs": [
    {
     "data": {
      "text/plain": "(30036, 3)"
     },
     "execution_count": 91,
     "metadata": {},
     "output_type": "execute_result"
    }
   ],
   "source": [
    "df.shape"
   ],
   "metadata": {
    "pycharm": {
     "name": "#%%\n"
    },
    "colab": {
     "base_uri": "https://localhost:8080/"
    },
    "id": "oKxr3CZSo0OY",
    "outputId": "62e12c91-e3ca-4dd1-9429-94a373ceb502"
   }
  },
  {
   "cell_type": "code",
   "execution_count": 92,
   "outputs": [
    {
     "data": {
      "text/plain": "                            sub  \\\n1      vastar resources , inc .   \n2  calpine daily gas nomination   \n3                    re : issue   \n4     meter 7268 nov allocation   \n5      mcmullen gas for 11 / 99   \n\n                                                 msg  label  \n1  gary , production from the high island larger ...      0  \n2             - calpine daily gas nomination 1 . doc      0  \n3  fyi - see note below - already done .\\nstella\\...      0  \n4  fyi .\\n- - - - - - - - - - - - - - - - - - - -...      0  \n5  jackie ,\\nsince the inlet to 3 river plant is ...      0  ",
      "text/html": "<div>\n<style scoped>\n    .dataframe tbody tr th:only-of-type {\n        vertical-align: middle;\n    }\n\n    .dataframe tbody tr th {\n        vertical-align: top;\n    }\n\n    .dataframe thead th {\n        text-align: right;\n    }\n</style>\n<table border=\"1\" class=\"dataframe\">\n  <thead>\n    <tr style=\"text-align: right;\">\n      <th></th>\n      <th>sub</th>\n      <th>msg</th>\n      <th>label</th>\n    </tr>\n  </thead>\n  <tbody>\n    <tr>\n      <th>1</th>\n      <td>vastar resources , inc .</td>\n      <td>gary , production from the high island larger ...</td>\n      <td>0</td>\n    </tr>\n    <tr>\n      <th>2</th>\n      <td>calpine daily gas nomination</td>\n      <td>- calpine daily gas nomination 1 . doc</td>\n      <td>0</td>\n    </tr>\n    <tr>\n      <th>3</th>\n      <td>re : issue</td>\n      <td>fyi - see note below - already done .\\nstella\\...</td>\n      <td>0</td>\n    </tr>\n    <tr>\n      <th>4</th>\n      <td>meter 7268 nov allocation</td>\n      <td>fyi .\\n- - - - - - - - - - - - - - - - - - - -...</td>\n      <td>0</td>\n    </tr>\n    <tr>\n      <th>5</th>\n      <td>mcmullen gas for 11 / 99</td>\n      <td>jackie ,\\nsince the inlet to 3 river plant is ...</td>\n      <td>0</td>\n    </tr>\n  </tbody>\n</table>\n</div>"
     },
     "execution_count": 92,
     "metadata": {},
     "output_type": "execute_result"
    }
   ],
   "source": [
    "df.head()"
   ],
   "metadata": {
    "pycharm": {
     "name": "#%%\n"
    },
    "colab": {
     "base_uri": "https://localhost:8080/",
     "height": 206
    },
    "id": "yoApnuBMo0OY",
    "outputId": "7de24ee2-e991-4574-8a3f-6bc4cccd1990"
   }
  },
  {
   "cell_type": "code",
   "execution_count": 93,
   "outputs": [
    {
     "data": {
      "text/plain": "0    15861\n1    14175\nName: label, dtype: int64"
     },
     "execution_count": 93,
     "metadata": {},
     "output_type": "execute_result"
    }
   ],
   "source": [
    "df['label'].value_counts()"
   ],
   "metadata": {
    "pycharm": {
     "name": "#%%\n"
    },
    "colab": {
     "base_uri": "https://localhost:8080/"
    },
    "id": "2KUj7A3Zo0OY",
    "outputId": "f80d85b5-a1e2-499e-e888-e2ebc1df3953"
   }
  },
  {
   "cell_type": "code",
   "execution_count": 95,
   "outputs": [
    {
     "data": {
      "text/plain": "       label                                               text\n23195      0  test results of eol management report this is ...\n13054      0  board presentation - revised louise ,\\nthe mul...\n29635      1  we sell regalis for an affordable price hi ,\\n...\n4678       1  the daily stock barometer investor aiert - l r...\n1319       0  hpl nom for august 2 , 2000 ( see attached fil...",
      "text/html": "<div>\n<style scoped>\n    .dataframe tbody tr th:only-of-type {\n        vertical-align: middle;\n    }\n\n    .dataframe tbody tr th {\n        vertical-align: top;\n    }\n\n    .dataframe thead th {\n        text-align: right;\n    }\n</style>\n<table border=\"1\" class=\"dataframe\">\n  <thead>\n    <tr style=\"text-align: right;\">\n      <th></th>\n      <th>label</th>\n      <th>text</th>\n    </tr>\n  </thead>\n  <tbody>\n    <tr>\n      <th>23195</th>\n      <td>0</td>\n      <td>test results of eol management report this is ...</td>\n    </tr>\n    <tr>\n      <th>13054</th>\n      <td>0</td>\n      <td>board presentation - revised louise ,\\nthe mul...</td>\n    </tr>\n    <tr>\n      <th>29635</th>\n      <td>1</td>\n      <td>we sell regalis for an affordable price hi ,\\n...</td>\n    </tr>\n    <tr>\n      <th>4678</th>\n      <td>1</td>\n      <td>the daily stock barometer investor aiert - l r...</td>\n    </tr>\n    <tr>\n      <th>1319</th>\n      <td>0</td>\n      <td>hpl nom for august 2 , 2000 ( see attached fil...</td>\n    </tr>\n  </tbody>\n</table>\n</div>"
     },
     "execution_count": 95,
     "metadata": {},
     "output_type": "execute_result"
    }
   ],
   "source": [
    "#merge sub + msg\n",
    "\n",
    "df['text'] = df['sub'] + \" \" +  df['msg']\n",
    "df.drop(columns=['msg','sub'],inplace=True)\n",
    "df.sample(5)"
   ],
   "metadata": {
    "collapsed": false,
    "pycharm": {
     "name": "#%%\n"
    }
   }
  },
  {
   "cell_type": "markdown",
   "source": [],
   "metadata": {
    "collapsed": false,
    "id": "qVTV1_48o0Oa",
    "pycharm": {
     "name": "#%% md\n"
    }
   }
  },
  {
   "cell_type": "code",
   "execution_count": 104,
   "outputs": [
    {
     "name": "stderr",
     "output_type": "stream",
     "text": [
      "[nltk_data] Downloading package stopwords to\n",
      "[nltk_data]     /Users/jopihabich/nltk_data...\n",
      "[nltk_data]   Package stopwords is already up-to-date!\n",
      "[nltk_data] Downloading package wordnet to\n",
      "[nltk_data]     /Users/jopihabich/nltk_data...\n",
      "[nltk_data]   Package wordnet is already up-to-date!\n",
      "[nltk_data] Downloading package omw-1.4 to\n",
      "[nltk_data]     /Users/jopihabich/nltk_data...\n",
      "[nltk_data]   Package omw-1.4 is already up-to-date!\n"
     ]
    }
   ],
   "source": [
    "from nltk.corpus import stopwords\n",
    "nltk.download('stopwords')\n",
    "nltk.download('wordnet')\n",
    "nltk.download('omw-1.4')\n",
    "from nltk.stem.porter import PorterStemmer\n",
    "from nltk.stem import WordNetLemmatizer\n",
    "ps = PorterStemmer()\n",
    "lemmatizer = WordNetLemmatizer()\n",
    "import string\n",
    "\n",
    "try:\n",
    "    _create_unverified_https_context = ssl._create_unverified_context\n",
    "except AttributeError:\n",
    "    pass\n",
    "else:\n",
    "    ssl._create_default_https_context = _create_unverified_https_context\n",
    "\n",
    "def transform_text(text):\n",
    "    text = text.lower()\n",
    "    text = nltk.word_tokenize(text)\n",
    "\n",
    "    #retaining only numbers and alphabets\n",
    "    y = []\n",
    "    for i in text:\n",
    "        if i.isalpha():\n",
    "            y.append(i)\n",
    "\n",
    "    #clone copy of list y\n",
    "    text = y[:]\n",
    "    y.clear()\n",
    "\n",
    "    for i in text:\n",
    "        if i not in stopwords.words('english') and i not in string.punctuation:\n",
    "            y.append(i)\n",
    "\n",
    "    text = y[:]\n",
    "    y.clear()\n",
    "\n",
    "    #stemming\n",
    "    for i in text:\n",
    "        y.append(lemmatizer.lemmatize(i))\n",
    "\n",
    "\n",
    "    return \" \".join(y)"
   ],
   "metadata": {
    "pycharm": {
     "name": "#%%\n"
    },
    "colab": {
     "base_uri": "https://localhost:8080/"
    },
    "id": "hP_kTAxbo0Oa",
    "outputId": "4c60d163-9b04-4dab-e5bc-48371dde98b8"
   }
  },
  {
   "cell_type": "code",
   "execution_count": 105,
   "outputs": [
    {
     "data": {
      "text/plain": "'gon na home soon want talk stuff anymore tonight k cried enough today'"
     },
     "execution_count": 105,
     "metadata": {},
     "output_type": "execute_result"
    }
   ],
   "source": [
    "#Test preprocessing\n",
    "transform_text(\"I'm gonna be home soon 2 and i don't want to talk about this stuff anymore tonight, k? I've cried enough today.\")"
   ],
   "metadata": {
    "pycharm": {
     "name": "#%%\n"
    },
    "colab": {
     "base_uri": "https://localhost:8080/",
     "height": 36
    },
    "id": "e-RXoXUCo0Oa",
    "outputId": "8d23d5d6-7e9b-4458-8c96-abbff35d3d45"
   }
  },
  {
   "cell_type": "code",
   "execution_count": 106,
   "outputs": [
    {
     "data": {
      "text/plain": "   label                                               text  num_characters  \\\n2      0  calpine daily gas nomination - calpine daily g...              67   \n3      0  re : issue fyi - see note below - already done...            1182   \n4      0  meter 7268 nov allocation fyi .\\n- - - - - - -...            1150   \n5      0  mcmullen gas for 11 / 99 jackie ,\\nsince the i...             559   \n6      0  meter 1517 - jan 1999 george ,\\ni need the fol...             433   \n\n   num_words  num_sentences                                   transformed_text  \n2         12              1  calpine daily gas nomination calpine daily gas...  \n3        347              5  issue fyi see note already done stella forward...  \n4        322              6  meter nov allocation fyi forwarded lauri allen...  \n5        125              5  mcmullen gas jackie since inlet river plant sh...  \n6         95              1  meter jan george need following done jan zero ...  ",
      "text/html": "<div>\n<style scoped>\n    .dataframe tbody tr th:only-of-type {\n        vertical-align: middle;\n    }\n\n    .dataframe tbody tr th {\n        vertical-align: top;\n    }\n\n    .dataframe thead th {\n        text-align: right;\n    }\n</style>\n<table border=\"1\" class=\"dataframe\">\n  <thead>\n    <tr style=\"text-align: right;\">\n      <th></th>\n      <th>label</th>\n      <th>text</th>\n      <th>num_characters</th>\n      <th>num_words</th>\n      <th>num_sentences</th>\n      <th>transformed_text</th>\n    </tr>\n  </thead>\n  <tbody>\n    <tr>\n      <th>2</th>\n      <td>0</td>\n      <td>calpine daily gas nomination - calpine daily g...</td>\n      <td>67</td>\n      <td>12</td>\n      <td>1</td>\n      <td>calpine daily gas nomination calpine daily gas...</td>\n    </tr>\n    <tr>\n      <th>3</th>\n      <td>0</td>\n      <td>re : issue fyi - see note below - already done...</td>\n      <td>1182</td>\n      <td>347</td>\n      <td>5</td>\n      <td>issue fyi see note already done stella forward...</td>\n    </tr>\n    <tr>\n      <th>4</th>\n      <td>0</td>\n      <td>meter 7268 nov allocation fyi .\\n- - - - - - -...</td>\n      <td>1150</td>\n      <td>322</td>\n      <td>6</td>\n      <td>meter nov allocation fyi forwarded lauri allen...</td>\n    </tr>\n    <tr>\n      <th>5</th>\n      <td>0</td>\n      <td>mcmullen gas for 11 / 99 jackie ,\\nsince the i...</td>\n      <td>559</td>\n      <td>125</td>\n      <td>5</td>\n      <td>mcmullen gas jackie since inlet river plant sh...</td>\n    </tr>\n    <tr>\n      <th>6</th>\n      <td>0</td>\n      <td>meter 1517 - jan 1999 george ,\\ni need the fol...</td>\n      <td>433</td>\n      <td>95</td>\n      <td>1</td>\n      <td>meter jan george need following done jan zero ...</td>\n    </tr>\n  </tbody>\n</table>\n</div>"
     },
     "execution_count": 106,
     "metadata": {},
     "output_type": "execute_result"
    }
   ],
   "source": [
    "df['transformed_text'] = df['text'].apply(transform_text)\n",
    "df.head()"
   ],
   "metadata": {
    "pycharm": {
     "name": "#%%\n"
    },
    "colab": {
     "base_uri": "https://localhost:8080/",
     "height": 206
    },
    "id": "zd9zZWUBo0Oa",
    "outputId": "c9238834-10c8-4234-9de6-8d821ef7008d"
   }
  },
  {
   "cell_type": "markdown",
   "source": [],
   "metadata": {
    "collapsed": false,
    "pycharm": {
     "name": "#%% md\n"
    }
   }
  },
  {
   "cell_type": "code",
   "execution_count": 116,
   "outputs": [],
   "source": [
    "df_clean = df.drop(columns=['text'])\n",
    "df = df.dropna(inplace=True)\n",
    "df.rename(columns={'transformed_text':'text'},inplace=True)\n",
    "df_clean.to_csv(\"../Data/preprocessed/enron_preprocessed.csv\",index=False)\n"
   ],
   "metadata": {
    "pycharm": {
     "name": "#%%\n"
    },
    "colab": {
     "base_uri": "https://localhost:8080/",
     "height": 206
    },
    "id": "chL2L2NEo0Oa",
    "outputId": "0d6a0a66-6d6b-4c20-ba77-c43c5d301b43"
   }
  }
 ],
 "metadata": {
  "kernelspec": {
   "display_name": "Python 3",
   "language": "python",
   "name": "python3"
  },
  "language_info": {
   "codemirror_mode": {
    "name": "ipython",
    "version": 2
   },
   "file_extension": ".py",
   "mimetype": "text/x-python",
   "name": "python",
   "nbconvert_exporter": "python",
   "pygments_lexer": "ipython2",
   "version": "2.7.6"
  },
  "colab": {
   "name": "main.ipynb",
   "provenance": []
  }
 },
 "nbformat": 4,
 "nbformat_minor": 0
}