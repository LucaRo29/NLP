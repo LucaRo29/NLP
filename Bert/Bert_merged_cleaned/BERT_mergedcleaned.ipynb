{
  "nbformat": 4,
  "nbformat_minor": 0,
  "metadata": {
    "colab": {
      "name": "NLP_Bert.ipynb",
      "provenance": [],
      "collapsed_sections": []
    },
    "kernelspec": {
      "name": "python3",
      "display_name": "Python 3"
    },
    "language_info": {
      "name": "python"
    },
    "gpuClass": "standard"
  },
  "cells": [
    {
      "cell_type": "code",
      "source": [
        "!pip install tensorflow_text "
      ],
      "metadata": {
        "id": "p6LpWi75NU0_",
        "colab": {
          "base_uri": "https://localhost:8080/"
        },
        "outputId": "cd394f22-cf9b-4a97-ca32-32a8bff36428"
      },
      "execution_count": 1,
      "outputs": [
        {
          "output_type": "stream",
          "name": "stdout",
          "text": [
            "Looking in indexes: https://pypi.org/simple, https://us-python.pkg.dev/colab-wheels/public/simple/\n",
            "Collecting tensorflow_text\n",
            "  Downloading tensorflow_text-2.9.0-cp37-cp37m-manylinux_2_17_x86_64.manylinux2014_x86_64.whl (4.6 MB)\n",
            "\u001b[K     |████████████████████████████████| 4.6 MB 4.3 MB/s \n",
            "\u001b[?25hCollecting tensorflow<2.10,>=2.9.0\n",
            "  Downloading tensorflow-2.9.1-cp37-cp37m-manylinux_2_17_x86_64.manylinux2014_x86_64.whl (511.7 MB)\n",
            "\u001b[K     |████████████████████████████████| 511.7 MB 6.6 kB/s \n",
            "\u001b[?25hRequirement already satisfied: tensorflow-hub>=0.8.0 in /usr/local/lib/python3.7/dist-packages (from tensorflow_text) (0.12.0)\n",
            "Requirement already satisfied: protobuf<3.20,>=3.9.2 in /usr/local/lib/python3.7/dist-packages (from tensorflow<2.10,>=2.9.0->tensorflow_text) (3.17.3)\n",
            "Requirement already satisfied: tensorflow-io-gcs-filesystem>=0.23.1 in /usr/local/lib/python3.7/dist-packages (from tensorflow<2.10,>=2.9.0->tensorflow_text) (0.26.0)\n",
            "Requirement already satisfied: opt-einsum>=2.3.2 in /usr/local/lib/python3.7/dist-packages (from tensorflow<2.10,>=2.9.0->tensorflow_text) (3.3.0)\n",
            "Requirement already satisfied: termcolor>=1.1.0 in /usr/local/lib/python3.7/dist-packages (from tensorflow<2.10,>=2.9.0->tensorflow_text) (1.1.0)\n",
            "Requirement already satisfied: setuptools in /usr/local/lib/python3.7/dist-packages (from tensorflow<2.10,>=2.9.0->tensorflow_text) (57.4.0)\n",
            "Collecting flatbuffers<2,>=1.12\n",
            "  Downloading flatbuffers-1.12-py2.py3-none-any.whl (15 kB)\n",
            "Requirement already satisfied: numpy>=1.20 in /usr/local/lib/python3.7/dist-packages (from tensorflow<2.10,>=2.9.0->tensorflow_text) (1.21.6)\n",
            "Requirement already satisfied: wrapt>=1.11.0 in /usr/local/lib/python3.7/dist-packages (from tensorflow<2.10,>=2.9.0->tensorflow_text) (1.14.1)\n",
            "Requirement already satisfied: libclang>=13.0.0 in /usr/local/lib/python3.7/dist-packages (from tensorflow<2.10,>=2.9.0->tensorflow_text) (14.0.1)\n",
            "Requirement already satisfied: astunparse>=1.6.0 in /usr/local/lib/python3.7/dist-packages (from tensorflow<2.10,>=2.9.0->tensorflow_text) (1.6.3)\n",
            "Collecting tensorflow-estimator<2.10.0,>=2.9.0rc0\n",
            "  Downloading tensorflow_estimator-2.9.0-py2.py3-none-any.whl (438 kB)\n",
            "\u001b[K     |████████████████████████████████| 438 kB 72.5 MB/s \n",
            "\u001b[?25hCollecting keras<2.10.0,>=2.9.0rc0\n",
            "  Downloading keras-2.9.0-py2.py3-none-any.whl (1.6 MB)\n",
            "\u001b[K     |████████████████████████████████| 1.6 MB 51.5 MB/s \n",
            "\u001b[?25hRequirement already satisfied: absl-py>=1.0.0 in /usr/local/lib/python3.7/dist-packages (from tensorflow<2.10,>=2.9.0->tensorflow_text) (1.1.0)\n",
            "Requirement already satisfied: keras-preprocessing>=1.1.1 in /usr/local/lib/python3.7/dist-packages (from tensorflow<2.10,>=2.9.0->tensorflow_text) (1.1.2)\n",
            "Requirement already satisfied: h5py>=2.9.0 in /usr/local/lib/python3.7/dist-packages (from tensorflow<2.10,>=2.9.0->tensorflow_text) (3.1.0)\n",
            "Collecting gast<=0.4.0,>=0.2.1\n",
            "  Downloading gast-0.4.0-py3-none-any.whl (9.8 kB)\n",
            "Requirement already satisfied: typing-extensions>=3.6.6 in /usr/local/lib/python3.7/dist-packages (from tensorflow<2.10,>=2.9.0->tensorflow_text) (4.1.1)\n",
            "Requirement already satisfied: packaging in /usr/local/lib/python3.7/dist-packages (from tensorflow<2.10,>=2.9.0->tensorflow_text) (21.3)\n",
            "Collecting tensorboard<2.10,>=2.9\n",
            "  Downloading tensorboard-2.9.1-py3-none-any.whl (5.8 MB)\n",
            "\u001b[K     |████████████████████████████████| 5.8 MB 51.4 MB/s \n",
            "\u001b[?25hRequirement already satisfied: six>=1.12.0 in /usr/local/lib/python3.7/dist-packages (from tensorflow<2.10,>=2.9.0->tensorflow_text) (1.15.0)\n",
            "Requirement already satisfied: google-pasta>=0.1.1 in /usr/local/lib/python3.7/dist-packages (from tensorflow<2.10,>=2.9.0->tensorflow_text) (0.2.0)\n",
            "Requirement already satisfied: grpcio<2.0,>=1.24.3 in /usr/local/lib/python3.7/dist-packages (from tensorflow<2.10,>=2.9.0->tensorflow_text) (1.46.3)\n",
            "Requirement already satisfied: wheel<1.0,>=0.23.0 in /usr/local/lib/python3.7/dist-packages (from astunparse>=1.6.0->tensorflow<2.10,>=2.9.0->tensorflow_text) (0.37.1)\n",
            "Requirement already satisfied: cached-property in /usr/local/lib/python3.7/dist-packages (from h5py>=2.9.0->tensorflow<2.10,>=2.9.0->tensorflow_text) (1.5.2)\n",
            "Requirement already satisfied: google-auth-oauthlib<0.5,>=0.4.1 in /usr/local/lib/python3.7/dist-packages (from tensorboard<2.10,>=2.9->tensorflow<2.10,>=2.9.0->tensorflow_text) (0.4.6)\n",
            "Requirement already satisfied: google-auth<3,>=1.6.3 in /usr/local/lib/python3.7/dist-packages (from tensorboard<2.10,>=2.9->tensorflow<2.10,>=2.9.0->tensorflow_text) (1.35.0)\n",
            "Requirement already satisfied: markdown>=2.6.8 in /usr/local/lib/python3.7/dist-packages (from tensorboard<2.10,>=2.9->tensorflow<2.10,>=2.9.0->tensorflow_text) (3.3.7)\n",
            "Requirement already satisfied: tensorboard-data-server<0.7.0,>=0.6.0 in /usr/local/lib/python3.7/dist-packages (from tensorboard<2.10,>=2.9->tensorflow<2.10,>=2.9.0->tensorflow_text) (0.6.1)\n",
            "Requirement already satisfied: requests<3,>=2.21.0 in /usr/local/lib/python3.7/dist-packages (from tensorboard<2.10,>=2.9->tensorflow<2.10,>=2.9.0->tensorflow_text) (2.23.0)\n",
            "Requirement already satisfied: tensorboard-plugin-wit>=1.6.0 in /usr/local/lib/python3.7/dist-packages (from tensorboard<2.10,>=2.9->tensorflow<2.10,>=2.9.0->tensorflow_text) (1.8.1)\n",
            "Requirement already satisfied: werkzeug>=1.0.1 in /usr/local/lib/python3.7/dist-packages (from tensorboard<2.10,>=2.9->tensorflow<2.10,>=2.9.0->tensorflow_text) (1.0.1)\n",
            "Requirement already satisfied: rsa<5,>=3.1.4 in /usr/local/lib/python3.7/dist-packages (from google-auth<3,>=1.6.3->tensorboard<2.10,>=2.9->tensorflow<2.10,>=2.9.0->tensorflow_text) (4.8)\n",
            "Requirement already satisfied: cachetools<5.0,>=2.0.0 in /usr/local/lib/python3.7/dist-packages (from google-auth<3,>=1.6.3->tensorboard<2.10,>=2.9->tensorflow<2.10,>=2.9.0->tensorflow_text) (4.2.4)\n",
            "Requirement already satisfied: pyasn1-modules>=0.2.1 in /usr/local/lib/python3.7/dist-packages (from google-auth<3,>=1.6.3->tensorboard<2.10,>=2.9->tensorflow<2.10,>=2.9.0->tensorflow_text) (0.2.8)\n",
            "Requirement already satisfied: requests-oauthlib>=0.7.0 in /usr/local/lib/python3.7/dist-packages (from google-auth-oauthlib<0.5,>=0.4.1->tensorboard<2.10,>=2.9->tensorflow<2.10,>=2.9.0->tensorflow_text) (1.3.1)\n",
            "Requirement already satisfied: importlib-metadata>=4.4 in /usr/local/lib/python3.7/dist-packages (from markdown>=2.6.8->tensorboard<2.10,>=2.9->tensorflow<2.10,>=2.9.0->tensorflow_text) (4.11.4)\n",
            "Requirement already satisfied: zipp>=0.5 in /usr/local/lib/python3.7/dist-packages (from importlib-metadata>=4.4->markdown>=2.6.8->tensorboard<2.10,>=2.9->tensorflow<2.10,>=2.9.0->tensorflow_text) (3.8.0)\n",
            "Requirement already satisfied: pyasn1<0.5.0,>=0.4.6 in /usr/local/lib/python3.7/dist-packages (from pyasn1-modules>=0.2.1->google-auth<3,>=1.6.3->tensorboard<2.10,>=2.9->tensorflow<2.10,>=2.9.0->tensorflow_text) (0.4.8)\n",
            "Requirement already satisfied: idna<3,>=2.5 in /usr/local/lib/python3.7/dist-packages (from requests<3,>=2.21.0->tensorboard<2.10,>=2.9->tensorflow<2.10,>=2.9.0->tensorflow_text) (2.10)\n",
            "Requirement already satisfied: certifi>=2017.4.17 in /usr/local/lib/python3.7/dist-packages (from requests<3,>=2.21.0->tensorboard<2.10,>=2.9->tensorflow<2.10,>=2.9.0->tensorflow_text) (2022.6.15)\n",
            "Requirement already satisfied: chardet<4,>=3.0.2 in /usr/local/lib/python3.7/dist-packages (from requests<3,>=2.21.0->tensorboard<2.10,>=2.9->tensorflow<2.10,>=2.9.0->tensorflow_text) (3.0.4)\n",
            "Requirement already satisfied: urllib3!=1.25.0,!=1.25.1,<1.26,>=1.21.1 in /usr/local/lib/python3.7/dist-packages (from requests<3,>=2.21.0->tensorboard<2.10,>=2.9->tensorflow<2.10,>=2.9.0->tensorflow_text) (1.24.3)\n",
            "Requirement already satisfied: oauthlib>=3.0.0 in /usr/local/lib/python3.7/dist-packages (from requests-oauthlib>=0.7.0->google-auth-oauthlib<0.5,>=0.4.1->tensorboard<2.10,>=2.9->tensorflow<2.10,>=2.9.0->tensorflow_text) (3.2.0)\n",
            "Requirement already satisfied: pyparsing!=3.0.5,>=2.0.2 in /usr/local/lib/python3.7/dist-packages (from packaging->tensorflow<2.10,>=2.9.0->tensorflow_text) (3.0.9)\n",
            "Installing collected packages: tensorflow-estimator, tensorboard, keras, gast, flatbuffers, tensorflow, tensorflow-text\n",
            "  Attempting uninstall: tensorflow-estimator\n",
            "    Found existing installation: tensorflow-estimator 2.8.0\n",
            "    Uninstalling tensorflow-estimator-2.8.0:\n",
            "      Successfully uninstalled tensorflow-estimator-2.8.0\n",
            "  Attempting uninstall: tensorboard\n",
            "    Found existing installation: tensorboard 2.8.0\n",
            "    Uninstalling tensorboard-2.8.0:\n",
            "      Successfully uninstalled tensorboard-2.8.0\n",
            "  Attempting uninstall: keras\n",
            "    Found existing installation: keras 2.8.0\n",
            "    Uninstalling keras-2.8.0:\n",
            "      Successfully uninstalled keras-2.8.0\n",
            "  Attempting uninstall: gast\n",
            "    Found existing installation: gast 0.5.3\n",
            "    Uninstalling gast-0.5.3:\n",
            "      Successfully uninstalled gast-0.5.3\n",
            "  Attempting uninstall: flatbuffers\n",
            "    Found existing installation: flatbuffers 2.0\n",
            "    Uninstalling flatbuffers-2.0:\n",
            "      Successfully uninstalled flatbuffers-2.0\n",
            "  Attempting uninstall: tensorflow\n",
            "    Found existing installation: tensorflow 2.8.2+zzzcolab20220527125636\n",
            "    Uninstalling tensorflow-2.8.2+zzzcolab20220527125636:\n",
            "      Successfully uninstalled tensorflow-2.8.2+zzzcolab20220527125636\n",
            "Successfully installed flatbuffers-1.12 gast-0.4.0 keras-2.9.0 tensorboard-2.9.1 tensorflow-2.9.1 tensorflow-estimator-2.9.0 tensorflow-text-2.9.0\n"
          ]
        }
      ]
    },
    {
      "cell_type": "code",
      "source": [
        "import keras\n",
        "import tensorflow as tf\n",
        "import tensorflow_hub as hub\n",
        "import tensorflow_text as text\n",
        "import pandas as pd\n",
        "import matplotlib.pyplot as plt\n",
        "from sklearn.model_selection import train_test_split\n",
        "from sklearn.metrics import confusion_matrix, classification_report\n",
        "from keras.callbacks import EarlyStopping\n",
        "import numpy as np\n",
        "import seaborn as sns"
      ],
      "metadata": {
        "id": "_ZaqB3eiJHaJ"
      },
      "execution_count": 2,
      "outputs": []
    },
    {
      "cell_type": "code",
      "source": [
        "device_name = tf.test.gpu_device_name()\n",
        "if device_name != '/device:GPU:0':\n",
        "  raise SystemError('GPU device not found')\n",
        "print('Found GPU at: {}'.format(device_name))"
      ],
      "metadata": {
        "colab": {
          "base_uri": "https://localhost:8080/"
        },
        "id": "MS7KKNwfJyLL",
        "outputId": "6a85d446-5ed3-4e61-8d77-c6d236302578"
      },
      "execution_count": null,
      "outputs": [
        {
          "output_type": "stream",
          "name": "stdout",
          "text": [
            "Found GPU at: /device:GPU:0\n"
          ]
        }
      ]
    },
    {
      "cell_type": "code",
      "source": [
        "dataset = 'merged_cleaned'\n",
        "\n",
        "df = pd.read_csv('/content/drive/MyDrive/NLP/'+dataset+'.csv', index_col=False)\n",
        "\n",
        "new_model = True\n",
        "downsample = False \n",
        "\n",
        "\n",
        "# check count and unique and top values and their frequency\n",
        "print(df['label'].value_counts())\n",
        "\n",
        "# creating 2 new dataframe as df_ham , df_spam\n",
        "df_spam = df[df['label'] == 1]\n",
        "df_ham = df[df['label'] == 0]\n",
        "\n",
        "df_ham_downsampled = df_ham.sample(df_spam.shape[0])\n",
        "\n",
        "\n",
        "# concating both dataset - df_spam and df_ham_balanced to create df_balanced dataset\n",
        "df_balanced = pd.concat([df_spam, df_ham_downsampled])\n",
        "\n",
        "\n",
        "X_train, X_val, y_train, y_val = train_test_split(df['text'], df['label'], train_size=0.7)\n",
        "if (downsample):\n",
        "    X_train, X_val, y_train, y_val = train_test_split(df_balanced['text'], df_balanced['label'], train_size=0.7)\n",
        "    print('data is downsampled')\n",
        "X_val, X_test, y_val, y_test = train_test_split(X_val, y_val, train_size=0.5)\n"
      ],
      "metadata": {
        "id": "YteMNt4DLikZ",
        "colab": {
          "base_uri": "https://localhost:8080/"
        },
        "outputId": "2592d75f-d5e1-4241-fd6a-2c22cff993cf"
      },
      "execution_count": 3,
      "outputs": [
        {
          "output_type": "stream",
          "name": "stdout",
          "text": [
            "0    20377\n",
            "1    14816\n",
            "Name: label, dtype: int64\n"
          ]
        }
      ]
    },
    {
      "cell_type": "code",
      "execution_count": 4,
      "metadata": {
        "colab": {
          "base_uri": "https://localhost:8080/"
        },
        "id": "XKs35o9MINRZ",
        "outputId": "61dcf63c-94f7-4cd3-8d96-13426b27202f"
      },
      "outputs": [
        {
          "output_type": "stream",
          "name": "stdout",
          "text": [
            "Generating new model\n",
            "Model: \"model\"\n",
            "__________________________________________________________________________________________________\n",
            " Layer (type)                   Output Shape         Param #     Connected to                     \n",
            "==================================================================================================\n",
            " Inputs (InputLayer)            [(None,)]            0           []                               \n",
            "                                                                                                  \n",
            " keras_layer (KerasLayer)       {'input_type_ids':   0           ['Inputs[0][0]']                 \n",
            "                                (None, 128),                                                      \n",
            "                                 'input_mask': (Non                                               \n",
            "                                e, 128),                                                          \n",
            "                                 'input_word_ids':                                                \n",
            "                                (None, 128)}                                                      \n",
            "                                                                                                  \n",
            " keras_layer_1 (KerasLayer)     {'pooled_output': (  28763649    ['keras_layer[0][0]',            \n",
            "                                None, 512),                       'keras_layer[0][1]',            \n",
            "                                 'encoder_outputs':               'keras_layer[0][2]']            \n",
            "                                 [(None, 128, 512),                                               \n",
            "                                 (None, 128, 512),                                                \n",
            "                                 (None, 128, 512),                                                \n",
            "                                 (None, 128, 512)],                                               \n",
            "                                 'default': (None,                                                \n",
            "                                512),                                                             \n",
            "                                 'sequence_output':                                               \n",
            "                                 (None, 128, 512)}                                                \n",
            "                                                                                                  \n",
            " dropout (Dropout)              (None, 512)          0           ['keras_layer_1[0][5]']          \n",
            "                                                                                                  \n",
            " dense (Dense)                  (None, 256)          131328      ['dropout[0][0]']                \n",
            "                                                                                                  \n",
            " batch_normalization (BatchNorm  (None, 256)         1024        ['dense[0][0]']                  \n",
            " alization)                                                                                       \n",
            "                                                                                                  \n",
            " dropout_1 (Dropout)            (None, 256)          0           ['batch_normalization[0][0]']    \n",
            "                                                                                                  \n",
            " dense_1 (Dense)                (None, 256)          65792       ['dropout_1[0][0]']              \n",
            "                                                                                                  \n",
            " batch_normalization_1 (BatchNo  (None, 256)         1024        ['dense_1[0][0]']                \n",
            " rmalization)                                                                                     \n",
            "                                                                                                  \n",
            " dropout_2 (Dropout)            (None, 256)          0           ['batch_normalization_1[0][0]']  \n",
            "                                                                                                  \n",
            " dense_2 (Dense)                (None, 256)          65792       ['dropout_2[0][0]']              \n",
            "                                                                                                  \n",
            " output (Dense)                 (None, 1)            257         ['dense_2[0][0]']                \n",
            "                                                                                                  \n",
            "==================================================================================================\n",
            "Total params: 29,028,866\n",
            "Trainable params: 264,193\n",
            "Non-trainable params: 28,764,673\n",
            "__________________________________________________________________________________________________\n",
            "None\n",
            "Epoch 1/200\n",
            "493/493 [==============================] - 121s 233ms/step - loss: 0.2999 - accuracy: 0.8740 - precision: 0.8546 - recall: 0.8434 - val_loss: 0.1816 - val_accuracy: 0.9276 - val_precision: 0.9300 - val_recall: 0.8967\n",
            "Epoch 2/200\n",
            "493/493 [==============================] - 114s 231ms/step - loss: 0.2291 - accuracy: 0.9063 - precision: 0.8928 - recall: 0.8828 - val_loss: 0.1512 - val_accuracy: 0.9424 - val_precision: 0.9161 - val_recall: 0.9513\n",
            "Epoch 3/200\n",
            "493/493 [==============================] - 114s 231ms/step - loss: 0.2105 - accuracy: 0.9146 - precision: 0.9028 - recall: 0.8926 - val_loss: 0.1412 - val_accuracy: 0.9458 - val_precision: 0.9412 - val_recall: 0.9303\n",
            "Epoch 4/200\n",
            "493/493 [==============================] - 115s 232ms/step - loss: 0.1953 - accuracy: 0.9221 - precision: 0.9098 - recall: 0.9042 - val_loss: 0.1389 - val_accuracy: 0.9454 - val_precision: 0.9432 - val_recall: 0.9271\n",
            "Epoch 5/200\n",
            "493/493 [==============================] - 113s 230ms/step - loss: 0.1825 - accuracy: 0.9246 - precision: 0.9120 - recall: 0.9080 - val_loss: 0.1307 - val_accuracy: 0.9500 - val_precision: 0.9557 - val_recall: 0.9249\n",
            "Epoch 6/200\n",
            "493/493 [==============================] - 114s 232ms/step - loss: 0.1791 - accuracy: 0.9294 - precision: 0.9162 - recall: 0.9156 - val_loss: 0.1265 - val_accuracy: 0.9538 - val_precision: 0.9548 - val_recall: 0.9352\n",
            "Epoch 7/200\n",
            "493/493 [==============================] - 113s 229ms/step - loss: 0.1768 - accuracy: 0.9291 - precision: 0.9180 - recall: 0.9127 - val_loss: 0.1178 - val_accuracy: 0.9557 - val_precision: 0.9501 - val_recall: 0.9450\n",
            "Epoch 8/200\n",
            "493/493 [==============================] - 113s 229ms/step - loss: 0.1700 - accuracy: 0.9327 - precision: 0.9192 - recall: 0.9205 - val_loss: 0.1232 - val_accuracy: 0.9551 - val_precision: 0.9587 - val_recall: 0.9343\n",
            "Epoch 9/200\n",
            "493/493 [==============================] - 115s 233ms/step - loss: 0.1690 - accuracy: 0.9358 - precision: 0.9245 - recall: 0.9224 - val_loss: 0.1195 - val_accuracy: 0.9553 - val_precision: 0.9394 - val_recall: 0.9562\n",
            "Epoch 10/200\n",
            "493/493 [==============================] - 114s 231ms/step - loss: 0.1624 - accuracy: 0.9366 - precision: 0.9253 - recall: 0.9234 - val_loss: 0.1140 - val_accuracy: 0.9600 - val_precision: 0.9575 - val_recall: 0.9477\n",
            "Epoch 11/200\n",
            "493/493 [==============================] - 115s 233ms/step - loss: 0.1628 - accuracy: 0.9361 - precision: 0.9245 - recall: 0.9230 - val_loss: 0.1124 - val_accuracy: 0.9562 - val_precision: 0.9486 - val_recall: 0.9481\n",
            "Epoch 12/200\n",
            "493/493 [==============================] - 118s 239ms/step - loss: 0.1588 - accuracy: 0.9382 - precision: 0.9283 - recall: 0.9242 - val_loss: 0.1135 - val_accuracy: 0.9555 - val_precision: 0.9345 - val_recall: 0.9624\n",
            "Epoch 13/200\n",
            "493/493 [==============================] - 113s 230ms/step - loss: 0.1513 - accuracy: 0.9396 - precision: 0.9299 - recall: 0.9258 - val_loss: 0.1141 - val_accuracy: 0.9572 - val_precision: 0.9370 - val_recall: 0.9638\n",
            "Epoch 14/200\n",
            "493/493 [==============================] - 113s 229ms/step - loss: 0.1496 - accuracy: 0.9414 - precision: 0.9324 - recall: 0.9277 - val_loss: 0.1160 - val_accuracy: 0.9574 - val_precision: 0.9416 - val_recall: 0.9589\n",
            "Epoch 15/200\n",
            "493/493 [==============================] - 114s 231ms/step - loss: 0.1482 - accuracy: 0.9426 - precision: 0.9329 - recall: 0.9303 - val_loss: 0.1109 - val_accuracy: 0.9581 - val_precision: 0.9607 - val_recall: 0.9397\n",
            "Epoch 16/200\n",
            "493/493 [==============================] - 113s 230ms/step - loss: 0.1493 - accuracy: 0.9416 - precision: 0.9343 - recall: 0.9261 - val_loss: 0.1101 - val_accuracy: 0.9585 - val_precision: 0.9445 - val_recall: 0.9584\n",
            "Epoch 17/200\n",
            "493/493 [==============================] - 114s 232ms/step - loss: 0.1469 - accuracy: 0.9419 - precision: 0.9328 - recall: 0.9285 - val_loss: 0.1075 - val_accuracy: 0.9627 - val_precision: 0.9603 - val_recall: 0.9513\n",
            "Epoch 18/200\n",
            "493/493 [==============================] - 113s 230ms/step - loss: 0.1428 - accuracy: 0.9447 - precision: 0.9358 - recall: 0.9322 - val_loss: 0.1054 - val_accuracy: 0.9612 - val_precision: 0.9484 - val_recall: 0.9607\n",
            "Epoch 19/200\n",
            "493/493 [==============================] - 113s 230ms/step - loss: 0.1406 - accuracy: 0.9464 - precision: 0.9374 - recall: 0.9348 - val_loss: 0.1058 - val_accuracy: 0.9591 - val_precision: 0.9533 - val_recall: 0.9499\n",
            "Epoch 20/200\n",
            "493/493 [==============================] - 114s 231ms/step - loss: 0.1392 - accuracy: 0.9477 - precision: 0.9381 - recall: 0.9372 - val_loss: 0.1036 - val_accuracy: 0.9619 - val_precision: 0.9648 - val_recall: 0.9446\n",
            "Epoch 21/200\n",
            "493/493 [==============================] - 124s 253ms/step - loss: 0.1386 - accuracy: 0.9462 - precision: 0.9378 - recall: 0.9339 - val_loss: 0.1072 - val_accuracy: 0.9595 - val_precision: 0.9554 - val_recall: 0.9486\n",
            "Epoch 22/200\n",
            "493/493 [==============================] - 119s 242ms/step - loss: 0.1341 - accuracy: 0.9462 - precision: 0.9368 - recall: 0.9349 - val_loss: 0.1026 - val_accuracy: 0.9627 - val_precision: 0.9628 - val_recall: 0.9486\n",
            "Epoch 23/200\n",
            "493/493 [==============================] - 116s 235ms/step - loss: 0.1350 - accuracy: 0.9476 - precision: 0.9391 - recall: 0.9360 - val_loss: 0.1043 - val_accuracy: 0.9625 - val_precision: 0.9513 - val_recall: 0.9607\n",
            "Epoch 24/200\n",
            "493/493 [==============================] - 114s 231ms/step - loss: 0.1282 - accuracy: 0.9493 - precision: 0.9403 - recall: 0.9389 - val_loss: 0.1047 - val_accuracy: 0.9602 - val_precision: 0.9555 - val_recall: 0.9504\n",
            "Epoch 25/200\n",
            "493/493 [==============================] - 113s 229ms/step - loss: 0.1300 - accuracy: 0.9493 - precision: 0.9413 - recall: 0.9376 - val_loss: 0.1090 - val_accuracy: 0.9619 - val_precision: 0.9665 - val_recall: 0.9428\n",
            "Epoch 26/200\n",
            "493/493 [==============================] - 113s 230ms/step - loss: 0.1309 - accuracy: 0.9495 - precision: 0.9417 - recall: 0.9376 - val_loss: 0.1047 - val_accuracy: 0.9610 - val_precision: 0.9548 - val_recall: 0.9531\n",
            "Epoch 27/200\n",
            "493/493 [==============================] - 112s 228ms/step - loss: 0.1279 - accuracy: 0.9522 - precision: 0.9453 - recall: 0.9405 - val_loss: 0.1105 - val_accuracy: 0.9589 - val_precision: 0.9376 - val_recall: 0.9674\n",
            "Epoch 28/200\n",
            "493/493 [==============================] - 113s 229ms/step - loss: 0.1307 - accuracy: 0.9496 - precision: 0.9416 - recall: 0.9381 - val_loss: 0.0983 - val_accuracy: 0.9648 - val_precision: 0.9592 - val_recall: 0.9575\n",
            "Epoch 29/200\n",
            "493/493 [==============================] - 113s 230ms/step - loss: 0.1296 - accuracy: 0.9511 - precision: 0.9452 - recall: 0.9379 - val_loss: 0.1031 - val_accuracy: 0.9642 - val_precision: 0.9499 - val_recall: 0.9665\n",
            "Epoch 30/200\n",
            "493/493 [==============================] - 113s 229ms/step - loss: 0.1238 - accuracy: 0.9536 - precision: 0.9462 - recall: 0.9430 - val_loss: 0.0973 - val_accuracy: 0.9636 - val_precision: 0.9612 - val_recall: 0.9526\n",
            "Epoch 31/200\n",
            "493/493 [==============================] - 113s 229ms/step - loss: 0.1256 - accuracy: 0.9515 - precision: 0.9448 - recall: 0.9395 - val_loss: 0.1091 - val_accuracy: 0.9581 - val_precision: 0.9352 - val_recall: 0.9683\n",
            "Epoch 32/200\n",
            "493/493 [==============================] - 113s 230ms/step - loss: 0.1215 - accuracy: 0.9543 - precision: 0.9479 - recall: 0.9428 - val_loss: 0.1004 - val_accuracy: 0.9640 - val_precision: 0.9629 - val_recall: 0.9517\n",
            "Epoch 33/200\n",
            "493/493 [==============================] - 116s 236ms/step - loss: 0.1212 - accuracy: 0.9532 - precision: 0.9459 - recall: 0.9426 - val_loss: 0.0982 - val_accuracy: 0.9648 - val_precision: 0.9564 - val_recall: 0.9607\n",
            "Epoch 34/200\n",
            "493/493 [==============================] - 113s 230ms/step - loss: 0.1214 - accuracy: 0.9526 - precision: 0.9449 - recall: 0.9421 - val_loss: 0.1012 - val_accuracy: 0.9636 - val_precision: 0.9600 - val_recall: 0.9540\n",
            "Epoch 35/200\n",
            "493/493 [==============================] - 113s 229ms/step - loss: 0.1171 - accuracy: 0.9549 - precision: 0.9487 - recall: 0.9437 - val_loss: 0.1017 - val_accuracy: 0.9638 - val_precision: 0.9483 - val_recall: 0.9674\n",
            "Epoch 36/200\n",
            "493/493 [==============================] - 113s 228ms/step - loss: 0.1218 - accuracy: 0.9530 - precision: 0.9458 - recall: 0.9420 - val_loss: 0.1178 - val_accuracy: 0.9597 - val_precision: 0.9738 - val_recall: 0.9298\n",
            "Epoch 37/200\n",
            "493/493 [==============================] - 113s 230ms/step - loss: 0.1223 - accuracy: 0.9532 - precision: 0.9468 - recall: 0.9414 - val_loss: 0.0946 - val_accuracy: 0.9668 - val_precision: 0.9558 - val_recall: 0.9665\n",
            "Epoch 38/200\n",
            "493/493 [==============================] - 113s 229ms/step - loss: 0.1209 - accuracy: 0.9538 - precision: 0.9451 - recall: 0.9448 - val_loss: 0.1002 - val_accuracy: 0.9631 - val_precision: 0.9583 - val_recall: 0.9544\n",
            "Epoch 39/200\n",
            "493/493 [==============================] - 113s 229ms/step - loss: 0.1170 - accuracy: 0.9557 - precision: 0.9493 - recall: 0.9449 - val_loss: 0.1014 - val_accuracy: 0.9627 - val_precision: 0.9509 - val_recall: 0.9616\n",
            "Epoch 40/200\n",
            "493/493 [==============================] - 114s 232ms/step - loss: 0.1191 - accuracy: 0.9535 - precision: 0.9446 - recall: 0.9447 - val_loss: 0.0988 - val_accuracy: 0.9651 - val_precision: 0.9689 - val_recall: 0.9481\n",
            "Epoch 41/200\n",
            "493/493 [==============================] - 113s 230ms/step - loss: 0.1160 - accuracy: 0.9556 - precision: 0.9492 - recall: 0.9449 - val_loss: 0.0956 - val_accuracy: 0.9655 - val_precision: 0.9601 - val_recall: 0.9584\n",
            "Epoch 42/200\n",
            "493/493 [==============================] - 114s 232ms/step - loss: 0.1144 - accuracy: 0.9555 - precision: 0.9490 - recall: 0.9448 - val_loss: 0.0966 - val_accuracy: 0.9665 - val_precision: 0.9661 - val_recall: 0.9544\n",
            "Epoch 43/200\n",
            "493/493 [==============================] - 115s 233ms/step - loss: 0.1168 - accuracy: 0.9545 - precision: 0.9478 - recall: 0.9436 - val_loss: 0.0916 - val_accuracy: 0.9665 - val_precision: 0.9635 - val_recall: 0.9571\n",
            "Epoch 44/200\n",
            "493/493 [==============================] - 115s 233ms/step - loss: 0.1158 - accuracy: 0.9562 - precision: 0.9493 - recall: 0.9463 - val_loss: 0.0957 - val_accuracy: 0.9665 - val_precision: 0.9615 - val_recall: 0.9593\n",
            "Epoch 45/200\n",
            "493/493 [==============================] - 113s 230ms/step - loss: 0.1149 - accuracy: 0.9545 - precision: 0.9463 - recall: 0.9453 - val_loss: 0.0957 - val_accuracy: 0.9665 - val_precision: 0.9586 - val_recall: 0.9624\n",
            "Epoch 46/200\n",
            "493/493 [==============================] - 115s 233ms/step - loss: 0.1148 - accuracy: 0.9563 - precision: 0.9486 - recall: 0.9473 - val_loss: 0.0998 - val_accuracy: 0.9644 - val_precision: 0.9684 - val_recall: 0.9468\n",
            "Epoch 47/200\n",
            "493/493 [==============================] - 114s 230ms/step - loss: 0.1116 - accuracy: 0.9566 - precision: 0.9494 - recall: 0.9471 - val_loss: 0.0965 - val_accuracy: 0.9661 - val_precision: 0.9581 - val_recall: 0.9620\n",
            "Epoch 48/200\n",
            "493/493 [==============================] - 114s 231ms/step - loss: 0.1111 - accuracy: 0.9579 - precision: 0.9500 - recall: 0.9496 - val_loss: 0.0922 - val_accuracy: 0.9684 - val_precision: 0.9616 - val_recall: 0.9638\n",
            "Epoch 49/200\n",
            "493/493 [==============================] - 114s 231ms/step - loss: 0.1137 - accuracy: 0.9583 - precision: 0.9520 - recall: 0.9485 - val_loss: 0.0966 - val_accuracy: 0.9650 - val_precision: 0.9601 - val_recall: 0.9571\n",
            "Epoch 50/200\n",
            "493/493 [==============================] - 114s 230ms/step - loss: 0.1107 - accuracy: 0.9557 - precision: 0.9494 - recall: 0.9449 - val_loss: 0.0946 - val_accuracy: 0.9651 - val_precision: 0.9601 - val_recall: 0.9575\n",
            "Epoch 51/200\n",
            "493/493 [==============================] - 115s 234ms/step - loss: 0.1056 - accuracy: 0.9588 - precision: 0.9529 - recall: 0.9487 - val_loss: 0.0979 - val_accuracy: 0.9665 - val_precision: 0.9602 - val_recall: 0.9607\n",
            "Epoch 52/200\n",
            "493/493 [==============================] - 114s 232ms/step - loss: 0.1075 - accuracy: 0.9584 - precision: 0.9508 - recall: 0.9501 - val_loss: 0.1004 - val_accuracy: 0.9655 - val_precision: 0.9639 - val_recall: 0.9544\n",
            "Epoch 53/200\n",
            "493/493 [==============================] - 113s 229ms/step - loss: 0.1099 - accuracy: 0.9585 - precision: 0.9534 - recall: 0.9474 - val_loss: 0.0995 - val_accuracy: 0.9653 - val_precision: 0.9647 - val_recall: 0.9531\n",
            "Epoch 54/200\n",
            "493/493 [==============================] - 118s 240ms/step - loss: 0.1082 - accuracy: 0.9577 - precision: 0.9513 - recall: 0.9478 - val_loss: 0.0952 - val_accuracy: 0.9672 - val_precision: 0.9599 - val_recall: 0.9629\n",
            "Epoch 55/200\n",
            "493/493 [==============================] - 112s 228ms/step - loss: 0.1102 - accuracy: 0.9570 - precision: 0.9506 - recall: 0.9468 - val_loss: 0.0931 - val_accuracy: 0.9661 - val_precision: 0.9686 - val_recall: 0.9508\n",
            "Epoch 56/200\n",
            "493/493 [==============================] - 113s 230ms/step - loss: 0.1050 - accuracy: 0.9599 - precision: 0.9535 - recall: 0.9508 - val_loss: 0.0967 - val_accuracy: 0.9648 - val_precision: 0.9609 - val_recall: 0.9557\n",
            "Epoch 57/200\n",
            "493/493 [==============================] - 115s 233ms/step - loss: 0.1036 - accuracy: 0.9604 - precision: 0.9544 - recall: 0.9511 - val_loss: 0.0919 - val_accuracy: 0.9657 - val_precision: 0.9606 - val_recall: 0.9584\n",
            "Epoch 58/200\n",
            "493/493 [==============================] - 114s 232ms/step - loss: 0.1081 - accuracy: 0.9575 - precision: 0.9508 - recall: 0.9478 - val_loss: 0.0896 - val_accuracy: 0.9668 - val_precision: 0.9619 - val_recall: 0.9598\n",
            "Epoch 59/200\n",
            "493/493 [==============================] - 114s 231ms/step - loss: 0.1030 - accuracy: 0.9593 - precision: 0.9550 - recall: 0.9477 - val_loss: 0.0954 - val_accuracy: 0.9670 - val_precision: 0.9566 - val_recall: 0.9660\n",
            "Epoch 60/200\n",
            "493/493 [==============================] - 115s 233ms/step - loss: 0.1039 - accuracy: 0.9601 - precision: 0.9537 - recall: 0.9512 - val_loss: 0.0928 - val_accuracy: 0.9644 - val_precision: 0.9559 - val_recall: 0.9602\n",
            "Epoch 61/200\n",
            "493/493 [==============================] - 113s 230ms/step - loss: 0.1059 - accuracy: 0.9584 - precision: 0.9520 - recall: 0.9487 - val_loss: 0.1015 - val_accuracy: 0.9640 - val_precision: 0.9429 - val_recall: 0.9741\n",
            "Epoch 62/200\n",
            "493/493 [==============================] - 113s 230ms/step - loss: 0.1060 - accuracy: 0.9595 - precision: 0.9526 - recall: 0.9509 - val_loss: 0.0937 - val_accuracy: 0.9661 - val_precision: 0.9569 - val_recall: 0.9633\n",
            "Epoch 63/200\n",
            "493/493 [==============================] - 115s 234ms/step - loss: 0.1024 - accuracy: 0.9610 - precision: 0.9564 - recall: 0.9504 - val_loss: 0.0937 - val_accuracy: 0.9668 - val_precision: 0.9603 - val_recall: 0.9616\n",
            "Epoch 64/200\n",
            "493/493 [==============================] - 115s 233ms/step - loss: 0.1024 - accuracy: 0.9598 - precision: 0.9534 - recall: 0.9508 - val_loss: 0.0975 - val_accuracy: 0.9659 - val_precision: 0.9622 - val_recall: 0.9571\n",
            "Epoch 65/200\n",
            "493/493 [==============================] - 117s 238ms/step - loss: 0.1050 - accuracy: 0.9597 - precision: 0.9540 - recall: 0.9497 - val_loss: 0.0948 - val_accuracy: 0.9657 - val_precision: 0.9635 - val_recall: 0.9553\n",
            "Epoch 66/200\n",
            "493/493 [==============================] - 113s 230ms/step - loss: 0.1005 - accuracy: 0.9622 - precision: 0.9567 - recall: 0.9531 - val_loss: 0.0920 - val_accuracy: 0.9680 - val_precision: 0.9670 - val_recall: 0.9571\n",
            "Epoch 67/200\n",
            "493/493 [==============================] - 114s 231ms/step - loss: 0.1027 - accuracy: 0.9600 - precision: 0.9535 - recall: 0.9512 - val_loss: 0.0999 - val_accuracy: 0.9650 - val_precision: 0.9568 - val_recall: 0.9607\n",
            "Epoch 68/200\n",
            "493/493 [==============================] - 116s 235ms/step - loss: 0.1022 - accuracy: 0.9607 - precision: 0.9542 - recall: 0.9522 - val_loss: 0.0983 - val_accuracy: 0.9650 - val_precision: 0.9584 - val_recall: 0.9589\n",
            "Epoch 69/200\n",
            "493/493 [==============================] - 114s 231ms/step - loss: 0.1000 - accuracy: 0.9620 - precision: 0.9557 - recall: 0.9536 - val_loss: 0.0938 - val_accuracy: 0.9691 - val_precision: 0.9680 - val_recall: 0.9589\n",
            "Epoch 70/200\n",
            "493/493 [==============================] - 113s 230ms/step - loss: 0.1031 - accuracy: 0.9601 - precision: 0.9530 - recall: 0.9519 - val_loss: 0.0977 - val_accuracy: 0.9668 - val_precision: 0.9603 - val_recall: 0.9616\n",
            "Epoch 71/200\n",
            "493/493 [==============================] - 115s 233ms/step - loss: 0.0998 - accuracy: 0.9607 - precision: 0.9542 - recall: 0.9519 - val_loss: 0.1024 - val_accuracy: 0.9648 - val_precision: 0.9492 - val_recall: 0.9687\n",
            "Epoch 72/200\n",
            "493/493 [==============================] - 114s 230ms/step - loss: 0.0993 - accuracy: 0.9625 - precision: 0.9562 - recall: 0.9543 - val_loss: 0.0918 - val_accuracy: 0.9678 - val_precision: 0.9645 - val_recall: 0.9593\n",
            "Epoch 73/200\n",
            "493/493 [==============================] - 113s 229ms/step - loss: 0.0978 - accuracy: 0.9636 - precision: 0.9578 - recall: 0.9553 - val_loss: 0.0937 - val_accuracy: 0.9672 - val_precision: 0.9599 - val_recall: 0.9629\n",
            "Epoch 74/200\n",
            "493/493 [==============================] - 115s 234ms/step - loss: 0.0989 - accuracy: 0.9635 - precision: 0.9581 - recall: 0.9547 - val_loss: 0.0941 - val_accuracy: 0.9682 - val_precision: 0.9543 - val_recall: 0.9714\n",
            "Epoch 75/200\n",
            "493/493 [==============================] - 116s 235ms/step - loss: 0.1017 - accuracy: 0.9617 - precision: 0.9567 - recall: 0.9517 - val_loss: 0.0993 - val_accuracy: 0.9636 - val_precision: 0.9451 - val_recall: 0.9705\n",
            "Epoch 76/200\n",
            "493/493 [==============================] - 114s 232ms/step - loss: 0.0975 - accuracy: 0.9623 - precision: 0.9565 - recall: 0.9536 - val_loss: 0.0913 - val_accuracy: 0.9674 - val_precision: 0.9624 - val_recall: 0.9607\n",
            "Epoch 77/200\n",
            "493/493 [==============================] - 115s 234ms/step - loss: 0.1043 - accuracy: 0.9601 - precision: 0.9541 - recall: 0.9506 - val_loss: 0.0977 - val_accuracy: 0.9665 - val_precision: 0.9661 - val_recall: 0.9544\n",
            "Epoch 78/200\n",
            "493/493 [==============================] - 114s 231ms/step - loss: 0.0941 - accuracy: 0.9646 - precision: 0.9589 - recall: 0.9568 - val_loss: 0.0923 - val_accuracy: 0.9646 - val_precision: 0.9609 - val_recall: 0.9553\n",
            "Epoch 79/200\n",
            "493/493 [==============================] - 116s 235ms/step - loss: 0.1008 - accuracy: 0.9606 - precision: 0.9555 - recall: 0.9504 - val_loss: 0.0952 - val_accuracy: 0.9672 - val_precision: 0.9566 - val_recall: 0.9665\n",
            "Epoch 80/200\n",
            "493/493 [==============================] - 114s 231ms/step - loss: 0.0997 - accuracy: 0.9620 - precision: 0.9558 - recall: 0.9536 - val_loss: 0.0972 - val_accuracy: 0.9661 - val_precision: 0.9509 - val_recall: 0.9700\n",
            "Epoch 81/200\n",
            "493/493 [==============================] - 116s 235ms/step - loss: 0.0956 - accuracy: 0.9632 - precision: 0.9578 - recall: 0.9545 - val_loss: 0.0961 - val_accuracy: 0.9650 - val_precision: 0.9488 - val_recall: 0.9696\n",
            "Epoch 82/200\n",
            "493/493 [==============================] - 115s 233ms/step - loss: 0.1028 - accuracy: 0.9607 - precision: 0.9543 - recall: 0.9521 - val_loss: 0.0954 - val_accuracy: 0.9653 - val_precision: 0.9564 - val_recall: 0.9620\n",
            "Epoch 83/200\n",
            "493/493 [==============================] - 114s 231ms/step - loss: 0.0918 - accuracy: 0.9652 - precision: 0.9609 - recall: 0.9559 - val_loss: 0.1019 - val_accuracy: 0.9657 - val_precision: 0.9505 - val_recall: 0.9696\n",
            "Epoch 84/200\n",
            "493/493 [==============================] - 114s 232ms/step - loss: 0.0976 - accuracy: 0.9629 - precision: 0.9563 - recall: 0.9554 - val_loss: 0.0942 - val_accuracy: 0.9665 - val_precision: 0.9490 - val_recall: 0.9732\n",
            "Epoch 85/200\n",
            "493/493 [==============================] - 115s 233ms/step - loss: 0.0975 - accuracy: 0.9625 - precision: 0.9572 - recall: 0.9534 - val_loss: 0.0956 - val_accuracy: 0.9667 - val_precision: 0.9562 - val_recall: 0.9656\n",
            "Epoch 86/200\n",
            "493/493 [==============================] - 116s 235ms/step - loss: 0.0935 - accuracy: 0.9642 - precision: 0.9593 - recall: 0.9553 - val_loss: 0.0956 - val_accuracy: 0.9663 - val_precision: 0.9553 - val_recall: 0.9656\n",
            "Epoch 87/200\n",
            "493/493 [==============================] - 115s 234ms/step - loss: 0.0994 - accuracy: 0.9626 - precision: 0.9567 - recall: 0.9540 - val_loss: 0.0951 - val_accuracy: 0.9650 - val_precision: 0.9492 - val_recall: 0.9692\n",
            "Epoch 88/200\n",
            "493/493 [==============================] - 115s 234ms/step - loss: 0.0975 - accuracy: 0.9622 - precision: 0.9567 - recall: 0.9531 - val_loss: 0.0931 - val_accuracy: 0.9689 - val_precision: 0.9609 - val_recall: 0.9660\n",
            "Epoch 89/200\n",
            "493/493 [==============================] - 114s 232ms/step - loss: 0.0916 - accuracy: 0.9638 - precision: 0.9566 - recall: 0.9573 - val_loss: 0.0918 - val_accuracy: 0.9680 - val_precision: 0.9658 - val_recall: 0.9584\n",
            "Epoch 90/200\n",
            "493/493 [==============================] - 114s 232ms/step - loss: 0.0911 - accuracy: 0.9640 - precision: 0.9580 - recall: 0.9561 - val_loss: 0.0944 - val_accuracy: 0.9674 - val_precision: 0.9503 - val_recall: 0.9741\n",
            "Epoch 91/200\n",
            "493/493 [==============================] - 115s 233ms/step - loss: 0.0953 - accuracy: 0.9631 - precision: 0.9560 - recall: 0.9562 - val_loss: 0.0974 - val_accuracy: 0.9682 - val_precision: 0.9649 - val_recall: 0.9598\n",
            "Epoch 92/200\n",
            "493/493 [==============================] - 114s 232ms/step - loss: 0.0938 - accuracy: 0.9645 - precision: 0.9588 - recall: 0.9565 - val_loss: 0.0983 - val_accuracy: 0.9676 - val_precision: 0.9547 - val_recall: 0.9696\n",
            "Epoch 93/200\n",
            "493/493 [==============================] - ETA: 0s - loss: 0.0927 - accuracy: 0.9642 - precision: 0.9583 - recall: 0.9562Restoring model weights from the end of the best epoch: 83.\n",
            "493/493 [==============================] - 115s 234ms/step - loss: 0.0927 - accuracy: 0.9642 - precision: 0.9583 - recall: 0.9562 - val_loss: 0.0979 - val_accuracy: 0.9661 - val_precision: 0.9699 - val_recall: 0.9495\n",
            "Epoch 93: early stopping\n",
            "165/165 [==============================] - 18s 111ms/step - loss: 0.1094 - accuracy: 0.9615 - precision: 0.9430 - recall: 0.9678\n",
            "165/165 [==============================] - 17s 103ms/step\n"
          ]
        }
      ],
      "source": [
        "model = None\n",
        "if (new_model):\n",
        "\n",
        "    print('Generating new model')\n",
        "    bert_preprocessor = hub.KerasLayer('https://tfhub.dev/tensorflow/bert_en_uncased_preprocess/3')\n",
        "    \n",
        "    bertURL = 'https://tfhub.dev/tensorflow/small_bert/bert_en_uncased_L-4_H-512_A-8/2'\n",
        "\n",
        "    bert_encoder = hub.KerasLayer(bertURL)\n",
        "\n",
        "    text_input = tf.keras.layers.Input(shape=(), dtype=tf.string, name='Inputs')\n",
        "    preprocessed_text = bert_preprocessor(text_input)\n",
        "    embed = bert_encoder(preprocessed_text)\n",
        "    \n",
        "    x = tf.keras.layers.Dropout(0.25)(embed['pooled_output'])\n",
        "    x = tf.keras.layers.Dense(256, activation='relu')(x)\n",
        "    x = tf.keras.layers.BatchNormalization()(x)\n",
        "    x = tf.keras.layers.Dropout(0.25)(x)\n",
        "    x = tf.keras.layers.Dense(256, activation='relu')(x)\n",
        "    x = tf.keras.layers.BatchNormalization()(x)\n",
        "    x = tf.keras.layers.Dropout(0.25)(x)\n",
        "    x = tf.keras.layers.Dense(256, activation='relu')(x)\n",
        "    outputs = tf.keras.layers.Dense(1, activation='sigmoid', name='output')(x)\n",
        "\n",
        "    # creating final model\n",
        "    model = tf.keras.Model(inputs=[text_input], outputs=[outputs])\n",
        "\n",
        "    #model.save(\"../content/Model\")\n",
        "else:\n",
        "    print('Loading old model')\n",
        "    model = keras.models.load_model(\"../Bert/Model\")\n",
        "\n",
        "# if (model is None):\n",
        "#     print(\"Error: No model\")\n",
        "#     return\n",
        "\n",
        "print(model.summary())\n",
        "\n",
        "Metrics = [tf.keras.metrics.BinaryAccuracy(name='accuracy'),\n",
        "            tf.keras.metrics.Precision(name='precision'),\n",
        "            tf.keras.metrics.Recall(name='recall')\n",
        "            ]\n",
        "\n",
        "# compiling our model\n",
        "model.compile(optimizer='adam',loss='binary_crossentropy',  metrics=Metrics)\n",
        "\n",
        "es = EarlyStopping(patience=10, verbose=1, min_delta=0.001, monitor='loss', mode='auto',\n",
        "                       restore_best_weights=True)\n",
        "\n",
        "num_epochs = 200\n",
        "history = model.fit(X_train, y_train, epochs=num_epochs, validation_data=(X_val, y_val),batch_size = 50,\n",
        "                    callbacks=[es],shuffle= True)\n",
        "\n",
        "\n",
        "\n",
        "\n",
        "\n"
      ]
    },
    {
      "cell_type": "code",
      "source": [
        ""
      ],
      "metadata": {
        "id": "_FZkpgZPt5jv"
      },
      "execution_count": null,
      "outputs": []
    },
    {
      "cell_type": "code",
      "source": [
        ""
      ],
      "metadata": {
        "id": "EBYCNYNRyehq"
      },
      "execution_count": null,
      "outputs": []
    },
    {
      "cell_type": "code",
      "source": [
        ""
      ],
      "metadata": {
        "id": "uARWSsEnpd60"
      },
      "execution_count": null,
      "outputs": []
    },
    {
      "cell_type": "code",
      "source": [
        ""
      ],
      "metadata": {
        "id": "sYsr2Jrlk488"
      },
      "execution_count": null,
      "outputs": []
    },
    {
      "cell_type": "code",
      "source": [
        ""
      ],
      "metadata": {
        "id": "5FstKqQggOYF"
      },
      "execution_count": null,
      "outputs": []
    },
    {
      "cell_type": "code",
      "source": [
        ""
      ],
      "metadata": {
        "id": "S3BzLatpblvO"
      },
      "execution_count": null,
      "outputs": []
    },
    {
      "cell_type": "code",
      "source": [
        ""
      ],
      "metadata": {
        "id": "Cs0oQSFlXAxQ"
      },
      "execution_count": null,
      "outputs": []
    },
    {
      "cell_type": "code",
      "source": [
        "model.save('/content/drive/MyDrive/NLP/'+dataset)"
      ],
      "metadata": {
        "id": "7RbiDMQFJso3",
        "colab": {
          "base_uri": "https://localhost:8080/"
        },
        "outputId": "db28500f-0a83-4d32-c0a6-361850febf48"
      },
      "execution_count": 5,
      "outputs": [
        {
          "output_type": "stream",
          "name": "stderr",
          "text": [
            "WARNING:absl:Function `_wrapped_model` contains input name(s) Inputs with unsupported characters which will be renamed to inputs in the SavedModel.\n",
            "WARNING:absl:Found untraced functions such as restored_function_body, restored_function_body, restored_function_body, restored_function_body, restored_function_body while saving (showing 5 of 126). These functions will not be directly callable after loading.\n"
          ]
        },
        {
          "output_type": "stream",
          "name": "stdout",
          "text": [
            "INFO:tensorflow:Assets written to: /content/drive/MyDrive/NLP/merged_cleaned/assets\n"
          ]
        },
        {
          "output_type": "stream",
          "name": "stderr",
          "text": [
            "INFO:tensorflow:Assets written to: /content/drive/MyDrive/NLP/merged_cleaned/assets\n"
          ]
        }
      ]
    },
    {
      "cell_type": "code",
      "source": [
        ""
      ],
      "metadata": {
        "id": "Me-B6d4jSbzM"
      },
      "execution_count": 5,
      "outputs": []
    },
    {
      "cell_type": "code",
      "source": [
        "best_epoch = es.best_epoch\n",
        "\n",
        "model.evaluate(X_test, y_test)\n",
        "\n",
        "\n",
        "# getting y_pred by predicting over X_text and flattening it\n",
        "y_pred = model.predict(X_test)\n",
        "y_pred = y_pred.flatten()  # require to be in one-dimensional array , for easy manipulation\n",
        "\n",
        "# y_test = y_test.to_numpy()\n",
        "y_pred = np.where(y_pred > 0.5, 1, 0)"
      ],
      "metadata": {
        "id": "hgp6aUkBeKRc",
        "colab": {
          "base_uri": "https://localhost:8080/"
        },
        "outputId": "45c7fea1-4d77-43dc-ff6c-8ab304f67802"
      },
      "execution_count": 6,
      "outputs": [
        {
          "output_type": "stream",
          "name": "stdout",
          "text": [
            "165/165 [==============================] - 18s 109ms/step - loss: 0.1094 - accuracy: 0.9615 - precision: 0.9430 - recall: 0.9678\n",
            "165/165 [==============================] - 17s 102ms/step\n"
          ]
        }
      ]
    },
    {
      "cell_type": "code",
      "source": [
        "# creating confusion matrix\n",
        "\n",
        "cm = confusion_matrix(y_test, y_pred)\n",
        "\n",
        "\n",
        "#creating a graph out of confusion matrix\n",
        "sns.heatmap(cm, annot=True, fmt='d')\n",
        "plt.xlabel('Predicted')\n",
        "plt.ylabel('Actual')\n",
        "# plt.savefig('../Bert/Data/bert_CM.png')\n",
        "plt.savefig('/content/drive/MyDrive/NLP/Bert_'+dataset+'/figures/bert'+dataset+'_CM.png')\n",
        "plt.show()\n",
        "\n",
        "#epochs = range(1, num_epochs+1)\n",
        "#print(epochs)\n",
        "plt.plot(history.history['loss'], 'g', label='Training loss')\n",
        "plt.plot(history.history['val_loss'], 'b', label='validation loss')\n",
        "plt.axvline(x=best_epoch, color='r', label='best_epoch')\n",
        "plt.title('Training and Validation loss')\n",
        "plt.xlabel('Epochs')\n",
        "plt.ylabel('Loss')\n",
        "plt.legend()\n",
        "plt.savefig('/content/drive/MyDrive/NLP/Bert_'+dataset+'/figures/bert'+dataset+'_loss.png')\n",
        "plt.show()\n",
        "\n",
        "\n",
        "\n",
        "#epochs = range(1, num_epochs+1)\n",
        "plt.plot(history.history['precision'], 'g', label='Training precision')\n",
        "plt.plot(history.history['val_precision'], 'b', label='validation precision')\n",
        "plt.axvline(x=best_epoch, color='r', label='best_epoch')\n",
        "plt.title('Training and Validation precision')\n",
        "plt.xlabel('Epochs')\n",
        "plt.ylabel('Loss')\n",
        "plt.legend()\n",
        "plt.savefig('/content/drive/MyDrive/NLP/Bert_'+dataset+'/figures/bert'+dataset+'_precision.png')\n",
        "# plt.savefig('../Bert/Data/bert_precision.png')\n",
        "plt.show()\n",
        "\n",
        "\n",
        "plt.plot( history.history['accuracy'], 'g', label='Training accuracy')\n",
        "plt.plot(history.history['val_accuracy'], 'b', label='validation accuracy')\n",
        "plt.axvline(x=best_epoch, color='r', label='best_epoch')\n",
        "plt.title('Training and Validation accuracy')\n",
        "plt.xlabel('Epochs')\n",
        "plt.ylabel('Loss')\n",
        "plt.legend()\n",
        "plt.savefig('/content/drive/MyDrive/NLP/Bert_'+dataset+'/figures/bert'+dataset+'_accuracy.png')\n",
        "# plt.savefig('../Bert/Data/bert_accuracy.png')\n",
        "plt.show()\n",
        "\n",
        "# printing classification report\n",
        "print(classification_report(y_test, y_pred))\n",
        "\n",
        "predict_text = [\n",
        "    # Spam\n",
        "    'We’d all like to get a $10,000 deposit on our bank accounts out of the blue, but winning a prize—especially if you’ve never entered a contest',\n",
        "    'Netflix is sending you a refund of $12.99. Please reply with your bank account and routing number to verify and get your refund',\n",
        "    'Your account is temporarily frozen. Please log in to to secure your account ',\n",
        "    # ham\n",
        "    'The article was published on 18th August itself',\n",
        "    'Although we are unable to give you an exact time-frame at the moment, I would request you to stay tuned for any updates.',\n",
        "    'The image you sent is a UI bug, I can check that your article is marked as regular and is not in the monetization program.'\n",
        "]\n",
        "test_results = model.predict(predict_text)\n",
        "output = np.where(test_results > 0.5, 'spam', 'ham')\n",
        "print(output)"
      ],
      "metadata": {
        "colab": {
          "base_uri": "https://localhost:8080/",
          "height": 1000
        },
        "id": "b5yId04wBhNz",
        "outputId": "2f3113f7-fa9c-4c24-be86-b5c743dc7714"
      },
      "execution_count": 7,
      "outputs": [
        {
          "output_type": "display_data",
          "data": {
            "text/plain": [
              "<Figure size 432x288 with 2 Axes>"
            ],
            "image/png": "[encoded data removed]"
          },
          "metadata": {
            "needs_background": "light"
          }
        },
        {
          "output_type": "display_data",
          "data": {
            "text/plain": [
              "<Figure size 432x288 with 1 Axes>"
            ],
            "image/png": "[encoded data removed]"
          },
          "metadata": {
            "needs_background": "light"
          }
        },
        {
          "output_type": "display_data",
          "data": {
            "text/plain": [
              "<Figure size 432x288 with 1 Axes>"
            ],
            "image/png": "[encoded data removed]"
          },
          "metadata": {
            "needs_background": "light"
          }
        },
        {
          "output_type": "display_data",
          "data": {
            "text/plain": [
              "<Figure size 432x288 with 1 Axes>"
            ],
            "image/png": "[encoded data removed]"
          },
          "metadata": {
            "needs_background": "light"
          }
        },
        {
          "output_type": "stream",
          "name": "stdout",
          "text": [
            "              precision    recall  f1-score   support\n",
            "\n",
            "           0       0.98      0.96      0.97      3041\n",
            "           1       0.94      0.97      0.96      2238\n",
            "\n",
            "    accuracy                           0.96      5279\n",
            "   macro avg       0.96      0.96      0.96      5279\n",
            "weighted avg       0.96      0.96      0.96      5279\n",
            "\n",
            "1/1 [==============================] - 0s 419ms/step\n",
            "[['ham']\n",
            " ['ham']\n",
            " ['ham']\n",
            " ['ham']\n",
            " ['ham']\n",
            " ['ham']]\n"
          ]
        }
      ]
    },
    {
      "cell_type": "code",
      "source": [
        ""
      ],
      "metadata": {
        "id": "xP4Cejia3DjC"
      },
      "execution_count": null,
      "outputs": []
    }
  ]
}