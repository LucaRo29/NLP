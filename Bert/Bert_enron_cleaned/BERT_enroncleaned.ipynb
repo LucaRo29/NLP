{
 "nbformat": 4,
 "nbformat_minor": 0,
 "metadata": {
  "colab": {
   "name": "NLP_Bert.ipynb",
   "provenance": [],
   "collapsed_sections": []
  },
  "kernelspec": {
   "name": "python3",
   "display_name": "Python 3"
  },
  "language_info": {
   "name": "python"
  },
  "accelerator": "GPU",
  "gpuClass": "standard"
 },
 "cells": [
  {
   "cell_type": "code",
   "source": [
    "!pip install tensorflow_text "
   ],
   "metadata": {
    "id": "p6LpWi75NU0_",
    "colab": {
     "base_uri": "https://localhost:8080/"
    },
    "outputId": "2bb3def6-b07d-492e-ca31-45829acf6b4c",
    "pycharm": {
     "name": "#%%\n"
    }
   },
   "execution_count": 1,
   "outputs": [
    {
     "output_type": "stream",
     "name": "stdout",
     "text": [
      "Looking in indexes: https://pypi.org/simple, https://us-python.pkg.dev/colab-wheels/public/simple/\n",
      "Collecting tensorflow_text\n",
      "  Downloading tensorflow_text-2.9.0-cp37-cp37m-manylinux_2_17_x86_64.manylinux2014_x86_64.whl (4.6 MB)\n",
      "\u001B[K     |████████████████████████████████| 4.6 MB 13.7 MB/s \n",
      "\u001B[?25hCollecting tensorflow<2.10,>=2.9.0\n",
      "  Downloading tensorflow-2.9.1-cp37-cp37m-manylinux_2_17_x86_64.manylinux2014_x86_64.whl (511.7 MB)\n",
      "\u001B[K     |████████████████████████████████| 511.7 MB 6.9 kB/s \n",
      "\u001B[?25hRequirement already satisfied: tensorflow-hub>=0.8.0 in /usr/local/lib/python3.7/dist-packages (from tensorflow_text) (0.12.0)\n",
      "Requirement already satisfied: keras-preprocessing>=1.1.1 in /usr/local/lib/python3.7/dist-packages (from tensorflow<2.10,>=2.9.0->tensorflow_text) (1.1.2)\n",
      "Requirement already satisfied: packaging in /usr/local/lib/python3.7/dist-packages (from tensorflow<2.10,>=2.9.0->tensorflow_text) (21.3)\n",
      "Collecting tensorboard<2.10,>=2.9\n",
      "  Downloading tensorboard-2.9.1-py3-none-any.whl (5.8 MB)\n",
      "\u001B[K     |████████████████████████████████| 5.8 MB 53.8 MB/s \n",
      "\u001B[?25hCollecting keras<2.10.0,>=2.9.0rc0\n",
      "  Downloading keras-2.9.0-py2.py3-none-any.whl (1.6 MB)\n",
      "\u001B[K     |████████████████████████████████| 1.6 MB 58.0 MB/s \n",
      "\u001B[?25hCollecting gast<=0.4.0,>=0.2.1\n",
      "  Downloading gast-0.4.0-py3-none-any.whl (9.8 kB)\n",
      "Requirement already satisfied: h5py>=2.9.0 in /usr/local/lib/python3.7/dist-packages (from tensorflow<2.10,>=2.9.0->tensorflow_text) (3.1.0)\n",
      "Requirement already satisfied: tensorflow-io-gcs-filesystem>=0.23.1 in /usr/local/lib/python3.7/dist-packages (from tensorflow<2.10,>=2.9.0->tensorflow_text) (0.26.0)\n",
      "Requirement already satisfied: numpy>=1.20 in /usr/local/lib/python3.7/dist-packages (from tensorflow<2.10,>=2.9.0->tensorflow_text) (1.21.6)\n",
      "Requirement already satisfied: libclang>=13.0.0 in /usr/local/lib/python3.7/dist-packages (from tensorflow<2.10,>=2.9.0->tensorflow_text) (14.0.1)\n",
      "Requirement already satisfied: six>=1.12.0 in /usr/local/lib/python3.7/dist-packages (from tensorflow<2.10,>=2.9.0->tensorflow_text) (1.15.0)\n",
      "Requirement already satisfied: absl-py>=1.0.0 in /usr/local/lib/python3.7/dist-packages (from tensorflow<2.10,>=2.9.0->tensorflow_text) (1.1.0)\n",
      "Requirement already satisfied: opt-einsum>=2.3.2 in /usr/local/lib/python3.7/dist-packages (from tensorflow<2.10,>=2.9.0->tensorflow_text) (3.3.0)\n",
      "Requirement already satisfied: protobuf<3.20,>=3.9.2 in /usr/local/lib/python3.7/dist-packages (from tensorflow<2.10,>=2.9.0->tensorflow_text) (3.17.3)\n",
      "Requirement already satisfied: setuptools in /usr/local/lib/python3.7/dist-packages (from tensorflow<2.10,>=2.9.0->tensorflow_text) (57.4.0)\n",
      "Collecting tensorflow-estimator<2.10.0,>=2.9.0rc0\n",
      "  Downloading tensorflow_estimator-2.9.0-py2.py3-none-any.whl (438 kB)\n",
      "\u001B[K     |████████████████████████████████| 438 kB 68.0 MB/s \n",
      "\u001B[?25hCollecting flatbuffers<2,>=1.12\n",
      "  Downloading flatbuffers-1.12-py2.py3-none-any.whl (15 kB)\n",
      "Requirement already satisfied: astunparse>=1.6.0 in /usr/local/lib/python3.7/dist-packages (from tensorflow<2.10,>=2.9.0->tensorflow_text) (1.6.3)\n",
      "Requirement already satisfied: wrapt>=1.11.0 in /usr/local/lib/python3.7/dist-packages (from tensorflow<2.10,>=2.9.0->tensorflow_text) (1.14.1)\n",
      "Requirement already satisfied: termcolor>=1.1.0 in /usr/local/lib/python3.7/dist-packages (from tensorflow<2.10,>=2.9.0->tensorflow_text) (1.1.0)\n",
      "Requirement already satisfied: grpcio<2.0,>=1.24.3 in /usr/local/lib/python3.7/dist-packages (from tensorflow<2.10,>=2.9.0->tensorflow_text) (1.46.3)\n",
      "Requirement already satisfied: google-pasta>=0.1.1 in /usr/local/lib/python3.7/dist-packages (from tensorflow<2.10,>=2.9.0->tensorflow_text) (0.2.0)\n",
      "Requirement already satisfied: typing-extensions>=3.6.6 in /usr/local/lib/python3.7/dist-packages (from tensorflow<2.10,>=2.9.0->tensorflow_text) (4.1.1)\n",
      "Requirement already satisfied: wheel<1.0,>=0.23.0 in /usr/local/lib/python3.7/dist-packages (from astunparse>=1.6.0->tensorflow<2.10,>=2.9.0->tensorflow_text) (0.37.1)\n",
      "Requirement already satisfied: cached-property in /usr/local/lib/python3.7/dist-packages (from h5py>=2.9.0->tensorflow<2.10,>=2.9.0->tensorflow_text) (1.5.2)\n",
      "Requirement already satisfied: requests<3,>=2.21.0 in /usr/local/lib/python3.7/dist-packages (from tensorboard<2.10,>=2.9->tensorflow<2.10,>=2.9.0->tensorflow_text) (2.23.0)\n",
      "Requirement already satisfied: tensorboard-plugin-wit>=1.6.0 in /usr/local/lib/python3.7/dist-packages (from tensorboard<2.10,>=2.9->tensorflow<2.10,>=2.9.0->tensorflow_text) (1.8.1)\n",
      "Requirement already satisfied: markdown>=2.6.8 in /usr/local/lib/python3.7/dist-packages (from tensorboard<2.10,>=2.9->tensorflow<2.10,>=2.9.0->tensorflow_text) (3.3.7)\n",
      "Requirement already satisfied: google-auth-oauthlib<0.5,>=0.4.1 in /usr/local/lib/python3.7/dist-packages (from tensorboard<2.10,>=2.9->tensorflow<2.10,>=2.9.0->tensorflow_text) (0.4.6)\n",
      "Requirement already satisfied: tensorboard-data-server<0.7.0,>=0.6.0 in /usr/local/lib/python3.7/dist-packages (from tensorboard<2.10,>=2.9->tensorflow<2.10,>=2.9.0->tensorflow_text) (0.6.1)\n",
      "Requirement already satisfied: werkzeug>=1.0.1 in /usr/local/lib/python3.7/dist-packages (from tensorboard<2.10,>=2.9->tensorflow<2.10,>=2.9.0->tensorflow_text) (1.0.1)\n",
      "Requirement already satisfied: google-auth<3,>=1.6.3 in /usr/local/lib/python3.7/dist-packages (from tensorboard<2.10,>=2.9->tensorflow<2.10,>=2.9.0->tensorflow_text) (1.35.0)\n",
      "Requirement already satisfied: cachetools<5.0,>=2.0.0 in /usr/local/lib/python3.7/dist-packages (from google-auth<3,>=1.6.3->tensorboard<2.10,>=2.9->tensorflow<2.10,>=2.9.0->tensorflow_text) (4.2.4)\n",
      "Requirement already satisfied: rsa<5,>=3.1.4 in /usr/local/lib/python3.7/dist-packages (from google-auth<3,>=1.6.3->tensorboard<2.10,>=2.9->tensorflow<2.10,>=2.9.0->tensorflow_text) (4.8)\n",
      "Requirement already satisfied: pyasn1-modules>=0.2.1 in /usr/local/lib/python3.7/dist-packages (from google-auth<3,>=1.6.3->tensorboard<2.10,>=2.9->tensorflow<2.10,>=2.9.0->tensorflow_text) (0.2.8)\n",
      "Requirement already satisfied: requests-oauthlib>=0.7.0 in /usr/local/lib/python3.7/dist-packages (from google-auth-oauthlib<0.5,>=0.4.1->tensorboard<2.10,>=2.9->tensorflow<2.10,>=2.9.0->tensorflow_text) (1.3.1)\n",
      "Requirement already satisfied: importlib-metadata>=4.4 in /usr/local/lib/python3.7/dist-packages (from markdown>=2.6.8->tensorboard<2.10,>=2.9->tensorflow<2.10,>=2.9.0->tensorflow_text) (4.11.4)\n",
      "Requirement already satisfied: zipp>=0.5 in /usr/local/lib/python3.7/dist-packages (from importlib-metadata>=4.4->markdown>=2.6.8->tensorboard<2.10,>=2.9->tensorflow<2.10,>=2.9.0->tensorflow_text) (3.8.0)\n",
      "Requirement already satisfied: pyasn1<0.5.0,>=0.4.6 in /usr/local/lib/python3.7/dist-packages (from pyasn1-modules>=0.2.1->google-auth<3,>=1.6.3->tensorboard<2.10,>=2.9->tensorflow<2.10,>=2.9.0->tensorflow_text) (0.4.8)\n",
      "Requirement already satisfied: certifi>=2017.4.17 in /usr/local/lib/python3.7/dist-packages (from requests<3,>=2.21.0->tensorboard<2.10,>=2.9->tensorflow<2.10,>=2.9.0->tensorflow_text) (2022.6.15)\n",
      "Requirement already satisfied: idna<3,>=2.5 in /usr/local/lib/python3.7/dist-packages (from requests<3,>=2.21.0->tensorboard<2.10,>=2.9->tensorflow<2.10,>=2.9.0->tensorflow_text) (2.10)\n",
      "Requirement already satisfied: chardet<4,>=3.0.2 in /usr/local/lib/python3.7/dist-packages (from requests<3,>=2.21.0->tensorboard<2.10,>=2.9->tensorflow<2.10,>=2.9.0->tensorflow_text) (3.0.4)\n",
      "Requirement already satisfied: urllib3!=1.25.0,!=1.25.1,<1.26,>=1.21.1 in /usr/local/lib/python3.7/dist-packages (from requests<3,>=2.21.0->tensorboard<2.10,>=2.9->tensorflow<2.10,>=2.9.0->tensorflow_text) (1.24.3)\n",
      "Requirement already satisfied: oauthlib>=3.0.0 in /usr/local/lib/python3.7/dist-packages (from requests-oauthlib>=0.7.0->google-auth-oauthlib<0.5,>=0.4.1->tensorboard<2.10,>=2.9->tensorflow<2.10,>=2.9.0->tensorflow_text) (3.2.0)\n",
      "Requirement already satisfied: pyparsing!=3.0.5,>=2.0.2 in /usr/local/lib/python3.7/dist-packages (from packaging->tensorflow<2.10,>=2.9.0->tensorflow_text) (3.0.9)\n",
      "Installing collected packages: tensorflow-estimator, tensorboard, keras, gast, flatbuffers, tensorflow, tensorflow-text\n",
      "  Attempting uninstall: tensorflow-estimator\n",
      "    Found existing installation: tensorflow-estimator 2.8.0\n",
      "    Uninstalling tensorflow-estimator-2.8.0:\n",
      "      Successfully uninstalled tensorflow-estimator-2.8.0\n",
      "  Attempting uninstall: tensorboard\n",
      "    Found existing installation: tensorboard 2.8.0\n",
      "    Uninstalling tensorboard-2.8.0:\n",
      "      Successfully uninstalled tensorboard-2.8.0\n",
      "  Attempting uninstall: keras\n",
      "    Found existing installation: keras 2.8.0\n",
      "    Uninstalling keras-2.8.0:\n",
      "      Successfully uninstalled keras-2.8.0\n",
      "  Attempting uninstall: gast\n",
      "    Found existing installation: gast 0.5.3\n",
      "    Uninstalling gast-0.5.3:\n",
      "      Successfully uninstalled gast-0.5.3\n",
      "  Attempting uninstall: flatbuffers\n",
      "    Found existing installation: flatbuffers 2.0\n",
      "    Uninstalling flatbuffers-2.0:\n",
      "      Successfully uninstalled flatbuffers-2.0\n",
      "  Attempting uninstall: tensorflow\n",
      "    Found existing installation: tensorflow 2.8.2+zzzcolab20220527125636\n",
      "    Uninstalling tensorflow-2.8.2+zzzcolab20220527125636:\n",
      "      Successfully uninstalled tensorflow-2.8.2+zzzcolab20220527125636\n",
      "Successfully installed flatbuffers-1.12 gast-0.4.0 keras-2.9.0 tensorboard-2.9.1 tensorflow-2.9.1 tensorflow-estimator-2.9.0 tensorflow-text-2.9.0\n"
     ]
    }
   ]
  },
  {
   "cell_type": "code",
   "source": [
    "import keras\n",
    "import tensorflow as tf\n",
    "import tensorflow_hub as hub\n",
    "import tensorflow_text as text\n",
    "import pandas as pd\n",
    "import matplotlib.pyplot as plt\n",
    "from sklearn.model_selection import train_test_split\n",
    "from sklearn.metrics import confusion_matrix, classification_report\n",
    "from keras.callbacks import EarlyStopping\n",
    "import numpy as np\n",
    "import seaborn as sns"
   ],
   "metadata": {
    "id": "_ZaqB3eiJHaJ",
    "pycharm": {
     "name": "#%%\n"
    }
   },
   "execution_count": 2,
   "outputs": []
  },
  {
   "cell_type": "code",
   "source": [
    "device_name = tf.test.gpu_device_name()\n",
    "if device_name != '/device:GPU:0':\n",
    "  raise SystemError('GPU device not found')\n",
    "print('Found GPU at: {}'.format(device_name))"
   ],
   "metadata": {
    "colab": {
     "base_uri": "https://localhost:8080/"
    },
    "id": "MS7KKNwfJyLL",
    "outputId": "d5ba0712-8f2d-4099-9aa1-1fa99a44ec95",
    "pycharm": {
     "name": "#%%\n"
    }
   },
   "execution_count": 3,
   "outputs": [
    {
     "output_type": "stream",
     "name": "stdout",
     "text": [
      "Found GPU at: /device:GPU:0\n"
     ]
    }
   ]
  },
  {
   "cell_type": "code",
   "source": [
    "dataset = 'enron_cleaned'\n",
    "\n",
    "df = pd.read_csv('/content/drive/MyDrive/NLP/'+dataset+'.csv', index_col=False)\n",
    "\n",
    "new_model = True\n",
    "downsample = False \n",
    "\n",
    "\n",
    "# check count and unique and top values and their frequency\n",
    "print(df['label'].value_counts())\n",
    "\n",
    "# creating 2 new dataframe as df_ham , df_spam\n",
    "df_spam = df[df['label'] == 1]\n",
    "df_ham = df[df['label'] == 0]\n",
    "\n",
    "df_ham_downsampled = df_ham.sample(df_spam.shape[0])\n",
    "\n",
    "\n",
    "# concating both dataset - df_spam and df_ham_balanced to create df_balanced dataset\n",
    "df_balanced = pd.concat([df_spam, df_ham_downsampled])\n",
    "\n",
    "\n",
    "X_train, X_val, y_train, y_val = train_test_split(df['text'], df['label'], train_size=0.7)\n",
    "if (downsample):\n",
    "    X_train, X_val, y_train, y_val = train_test_split(df_balanced['text'], df_balanced['label'], train_size=0.7)\n",
    "    print('data is downsampled')\n",
    "X_val, X_test, y_val, y_test = train_test_split(X_val, y_val, train_size=0.5)\n"
   ],
   "metadata": {
    "id": "YteMNt4DLikZ",
    "colab": {
     "base_uri": "https://localhost:8080/"
    },
    "outputId": "585dbe3e-27ef-4119-81ec-8a09c5fcf3cd",
    "pycharm": {
     "name": "#%%\n"
    }
   },
   "execution_count": 4,
   "outputs": [
    {
     "output_type": "stream",
     "name": "stdout",
     "text": [
      "0    15861\n",
      "1    14175\n",
      "Name: label, dtype: int64\n"
     ]
    }
   ]
  },
  {
   "cell_type": "code",
   "execution_count": 7,
   "metadata": {
    "colab": {
     "base_uri": "https://localhost:8080/"
    },
    "id": "XKs35o9MINRZ",
    "outputId": "c7743527-727a-446a-a916-b85e416df318",
    "pycharm": {
     "name": "#%%\n"
    }
   },
   "outputs": [
    {
     "output_type": "stream",
     "name": "stdout",
     "text": [
      "Generating new model\n",
      "Model: \"model_2\"\n",
      "__________________________________________________________________________________________________\n",
      " Layer (type)                   Output Shape         Param #     Connected to                     \n",
      "==================================================================================================\n",
      " Inputs (InputLayer)            [(None,)]            0           []                               \n",
      "                                                                                                  \n",
      " keras_layer_4 (KerasLayer)     {'input_mask': (Non  0           ['Inputs[0][0]']                 \n",
      "                                e, 128),                                                          \n",
      "                                 'input_word_ids':                                                \n",
      "                                (None, 128),                                                      \n",
      "                                 'input_type_ids':                                                \n",
      "                                (None, 128)}                                                      \n",
      "                                                                                                  \n",
      " keras_layer_5 (KerasLayer)     {'default': (None,   28763649    ['keras_layer_4[0][0]',          \n",
      "                                512),                             'keras_layer_4[0][1]',          \n",
      "                                 'encoder_outputs':               'keras_layer_4[0][2]']          \n",
      "                                 [(None, 128, 512),                                               \n",
      "                                 (None, 128, 512),                                                \n",
      "                                 (None, 128, 512),                                                \n",
      "                                 (None, 128, 512)],                                               \n",
      "                                 'sequence_output':                                               \n",
      "                                 (None, 128, 512),                                                \n",
      "                                 'pooled_output': (                                               \n",
      "                                None, 512)}                                                       \n",
      "                                                                                                  \n",
      " dropout_6 (Dropout)            (None, 512)          0           ['keras_layer_5[0][5]']          \n",
      "                                                                                                  \n",
      " dense_6 (Dense)                (None, 256)          131328      ['dropout_6[0][0]']              \n",
      "                                                                                                  \n",
      " batch_normalization_4 (BatchNo  (None, 256)         1024        ['dense_6[0][0]']                \n",
      " rmalization)                                                                                     \n",
      "                                                                                                  \n",
      " dropout_7 (Dropout)            (None, 256)          0           ['batch_normalization_4[0][0]']  \n",
      "                                                                                                  \n",
      " dense_7 (Dense)                (None, 256)          65792       ['dropout_7[0][0]']              \n",
      "                                                                                                  \n",
      " batch_normalization_5 (BatchNo  (None, 256)         1024        ['dense_7[0][0]']                \n",
      " rmalization)                                                                                     \n",
      "                                                                                                  \n",
      " dropout_8 (Dropout)            (None, 256)          0           ['batch_normalization_5[0][0]']  \n",
      "                                                                                                  \n",
      " dense_8 (Dense)                (None, 256)          65792       ['dropout_8[0][0]']              \n",
      "                                                                                                  \n",
      " output (Dense)                 (None, 1)            257         ['dense_8[0][0]']                \n",
      "                                                                                                  \n",
      "==================================================================================================\n",
      "Total params: 29,028,866\n",
      "Trainable params: 264,193\n",
      "Non-trainable params: 28,764,673\n",
      "__________________________________________________________________________________________________\n",
      "None\n",
      "Epoch 1/200\n",
      "421/421 [==============================] - 103s 235ms/step - loss: 0.2787 - accuracy: 0.8831 - precision: 0.8773 - recall: 0.8756 - val_loss: 0.2052 - val_accuracy: 0.9114 - val_precision: 0.9646 - val_recall: 0.8459\n",
      "Epoch 2/200\n",
      "421/421 [==============================] - 99s 236ms/step - loss: 0.2103 - accuracy: 0.9158 - precision: 0.9094 - recall: 0.9131 - val_loss: 0.1569 - val_accuracy: 0.9367 - val_precision: 0.9258 - val_recall: 0.9434\n",
      "Epoch 3/200\n",
      "421/421 [==============================] - 98s 234ms/step - loss: 0.1946 - accuracy: 0.9208 - precision: 0.9145 - recall: 0.9184 - val_loss: 0.1306 - val_accuracy: 0.9487 - val_precision: 0.9389 - val_recall: 0.9550\n",
      "Epoch 4/200\n",
      "421/421 [==============================] - 98s 234ms/step - loss: 0.1777 - accuracy: 0.9299 - precision: 0.9222 - recall: 0.9305 - val_loss: 0.1313 - val_accuracy: 0.9512 - val_precision: 0.9654 - val_recall: 0.9313\n",
      "Epoch 5/200\n",
      "421/421 [==============================] - 99s 235ms/step - loss: 0.1701 - accuracy: 0.9324 - precision: 0.9262 - recall: 0.9315 - val_loss: 0.1399 - val_accuracy: 0.9481 - val_precision: 0.9665 - val_recall: 0.9234\n",
      "Epoch 6/200\n",
      "421/421 [==============================] - 99s 235ms/step - loss: 0.1603 - accuracy: 0.9343 - precision: 0.9268 - recall: 0.9350 - val_loss: 0.1270 - val_accuracy: 0.9523 - val_precision: 0.9641 - val_recall: 0.9350\n",
      "Epoch 7/200\n",
      "421/421 [==============================] - 98s 232ms/step - loss: 0.1579 - accuracy: 0.9365 - precision: 0.9310 - recall: 0.9352 - val_loss: 0.1270 - val_accuracy: 0.9518 - val_precision: 0.9457 - val_recall: 0.9541\n",
      "Epoch 8/200\n",
      "421/421 [==============================] - 99s 235ms/step - loss: 0.1511 - accuracy: 0.9418 - precision: 0.9350 - recall: 0.9425 - val_loss: 0.1216 - val_accuracy: 0.9529 - val_precision: 0.9320 - val_recall: 0.9726\n",
      "Epoch 9/200\n",
      "421/421 [==============================] - 98s 233ms/step - loss: 0.1461 - accuracy: 0.9424 - precision: 0.9353 - recall: 0.9434 - val_loss: 0.1101 - val_accuracy: 0.9609 - val_precision: 0.9609 - val_recall: 0.9573\n",
      "Epoch 10/200\n",
      "421/421 [==============================] - 98s 233ms/step - loss: 0.1442 - accuracy: 0.9446 - precision: 0.9401 - recall: 0.9430 - val_loss: 0.1133 - val_accuracy: 0.9589 - val_precision: 0.9573 - val_recall: 0.9568\n",
      "Epoch 11/200\n",
      "421/421 [==============================] - 99s 236ms/step - loss: 0.1419 - accuracy: 0.9448 - precision: 0.9389 - recall: 0.9448 - val_loss: 0.1128 - val_accuracy: 0.9574 - val_precision: 0.9521 - val_recall: 0.9592\n",
      "Epoch 12/200\n",
      "421/421 [==============================] - 98s 232ms/step - loss: 0.1385 - accuracy: 0.9454 - precision: 0.9410 - recall: 0.9437 - val_loss: 0.1123 - val_accuracy: 0.9583 - val_precision: 0.9440 - val_recall: 0.9703\n",
      "Epoch 13/200\n",
      "421/421 [==============================] - 98s 232ms/step - loss: 0.1359 - accuracy: 0.9474 - precision: 0.9405 - recall: 0.9489 - val_loss: 0.1139 - val_accuracy: 0.9600 - val_precision: 0.9630 - val_recall: 0.9531\n",
      "Epoch 14/200\n",
      "421/421 [==============================] - 99s 235ms/step - loss: 0.1371 - accuracy: 0.9461 - precision: 0.9414 - recall: 0.9449 - val_loss: 0.1073 - val_accuracy: 0.9609 - val_precision: 0.9648 - val_recall: 0.9531\n",
      "Epoch 15/200\n",
      "421/421 [==============================] - 98s 233ms/step - loss: 0.1287 - accuracy: 0.9493 - precision: 0.9442 - recall: 0.9488 - val_loss: 0.1150 - val_accuracy: 0.9587 - val_precision: 0.9699 - val_recall: 0.9429\n",
      "Epoch 16/200\n",
      "421/421 [==============================] - 98s 233ms/step - loss: 0.1307 - accuracy: 0.9490 - precision: 0.9449 - recall: 0.9475 - val_loss: 0.1155 - val_accuracy: 0.9545 - val_precision: 0.9303 - val_recall: 0.9782\n",
      "Epoch 17/200\n",
      "421/421 [==============================] - 99s 235ms/step - loss: 0.1306 - accuracy: 0.9495 - precision: 0.9434 - recall: 0.9504 - val_loss: 0.1010 - val_accuracy: 0.9632 - val_precision: 0.9693 - val_recall: 0.9531\n",
      "Epoch 18/200\n",
      "421/421 [==============================] - 100s 237ms/step - loss: 0.1261 - accuracy: 0.9504 - precision: 0.9465 - recall: 0.9489 - val_loss: 0.1010 - val_accuracy: 0.9612 - val_precision: 0.9500 - val_recall: 0.9698\n",
      "Epoch 19/200\n",
      "421/421 [==============================] - 99s 234ms/step - loss: 0.1270 - accuracy: 0.9492 - precision: 0.9446 - recall: 0.9481 - val_loss: 0.1030 - val_accuracy: 0.9616 - val_precision: 0.9588 - val_recall: 0.9610\n",
      "Epoch 20/200\n",
      "421/421 [==============================] - 100s 239ms/step - loss: 0.1222 - accuracy: 0.9530 - precision: 0.9482 - recall: 0.9527 - val_loss: 0.1026 - val_accuracy: 0.9616 - val_precision: 0.9456 - val_recall: 0.9759\n",
      "Epoch 21/200\n",
      "421/421 [==============================] - 99s 234ms/step - loss: 0.1242 - accuracy: 0.9507 - precision: 0.9464 - recall: 0.9495 - val_loss: 0.1069 - val_accuracy: 0.9580 - val_precision: 0.9448 - val_recall: 0.9689\n",
      "Epoch 22/200\n",
      "421/421 [==============================] - 98s 232ms/step - loss: 0.1205 - accuracy: 0.9537 - precision: 0.9491 - recall: 0.9533 - val_loss: 0.0971 - val_accuracy: 0.9620 - val_precision: 0.9601 - val_recall: 0.9606\n",
      "Epoch 23/200\n",
      "421/421 [==============================] - 99s 234ms/step - loss: 0.1160 - accuracy: 0.9557 - precision: 0.9524 - recall: 0.9542 - val_loss: 0.1051 - val_accuracy: 0.9598 - val_precision: 0.9486 - val_recall: 0.9684\n",
      "Epoch 24/200\n",
      "421/421 [==============================] - 97s 230ms/step - loss: 0.1192 - accuracy: 0.9532 - precision: 0.9484 - recall: 0.9531 - val_loss: 0.1094 - val_accuracy: 0.9594 - val_precision: 0.9437 - val_recall: 0.9731\n",
      "Epoch 25/200\n",
      "421/421 [==============================] - 96s 229ms/step - loss: 0.1157 - accuracy: 0.9544 - precision: 0.9514 - recall: 0.9523 - val_loss: 0.0995 - val_accuracy: 0.9660 - val_precision: 0.9704 - val_recall: 0.9582\n",
      "Epoch 26/200\n",
      "421/421 [==============================] - 97s 231ms/step - loss: 0.1194 - accuracy: 0.9517 - precision: 0.9480 - recall: 0.9501 - val_loss: 0.1078 - val_accuracy: 0.9643 - val_precision: 0.9633 - val_recall: 0.9619\n",
      "Epoch 27/200\n",
      "421/421 [==============================] - 97s 230ms/step - loss: 0.1143 - accuracy: 0.9560 - precision: 0.9537 - recall: 0.9534 - val_loss: 0.0957 - val_accuracy: 0.9651 - val_precision: 0.9673 - val_recall: 0.9596\n",
      "Epoch 28/200\n",
      "421/421 [==============================] - 97s 230ms/step - loss: 0.1141 - accuracy: 0.9559 - precision: 0.9512 - recall: 0.9558 - val_loss: 0.1000 - val_accuracy: 0.9649 - val_precision: 0.9703 - val_recall: 0.9559\n",
      "Epoch 29/200\n",
      "421/421 [==============================] - 97s 231ms/step - loss: 0.1126 - accuracy: 0.9551 - precision: 0.9522 - recall: 0.9531 - val_loss: 0.0996 - val_accuracy: 0.9629 - val_precision: 0.9615 - val_recall: 0.9610\n",
      "Epoch 30/200\n",
      "421/421 [==============================] - 102s 241ms/step - loss: 0.1127 - accuracy: 0.9554 - precision: 0.9511 - recall: 0.9549 - val_loss: 0.0969 - val_accuracy: 0.9647 - val_precision: 0.9574 - val_recall: 0.9694\n",
      "Epoch 31/200\n",
      "421/421 [==============================] - 97s 229ms/step - loss: 0.1105 - accuracy: 0.9576 - precision: 0.9525 - recall: 0.9583 - val_loss: 0.0986 - val_accuracy: 0.9654 - val_precision: 0.9642 - val_recall: 0.9633\n",
      "Epoch 32/200\n",
      "421/421 [==============================] - 96s 229ms/step - loss: 0.1142 - accuracy: 0.9557 - precision: 0.9525 - recall: 0.9539 - val_loss: 0.0963 - val_accuracy: 0.9660 - val_precision: 0.9634 - val_recall: 0.9657\n",
      "Epoch 33/200\n",
      "421/421 [==============================] - 98s 232ms/step - loss: 0.1105 - accuracy: 0.9569 - precision: 0.9539 - recall: 0.9550 - val_loss: 0.0975 - val_accuracy: 0.9638 - val_precision: 0.9548 - val_recall: 0.9703\n",
      "Epoch 34/200\n",
      "421/421 [==============================] - 97s 230ms/step - loss: 0.1093 - accuracy: 0.9573 - precision: 0.9532 - recall: 0.9567 - val_loss: 0.0961 - val_accuracy: 0.9647 - val_precision: 0.9625 - val_recall: 0.9638\n",
      "Epoch 35/200\n",
      "421/421 [==============================] - 97s 231ms/step - loss: 0.1035 - accuracy: 0.9588 - precision: 0.9551 - recall: 0.9579 - val_loss: 0.0987 - val_accuracy: 0.9638 - val_precision: 0.9573 - val_recall: 0.9675\n",
      "Epoch 36/200\n",
      "421/421 [==============================] - 99s 234ms/step - loss: 0.1084 - accuracy: 0.9574 - precision: 0.9547 - recall: 0.9554 - val_loss: 0.0998 - val_accuracy: 0.9649 - val_precision: 0.9557 - val_recall: 0.9717\n",
      "Epoch 37/200\n",
      "421/421 [==============================] - 97s 231ms/step - loss: 0.1056 - accuracy: 0.9581 - precision: 0.9536 - recall: 0.9581 - val_loss: 0.0995 - val_accuracy: 0.9627 - val_precision: 0.9632 - val_recall: 0.9587\n",
      "Epoch 38/200\n",
      "421/421 [==============================] - 97s 231ms/step - loss: 0.1064 - accuracy: 0.9585 - precision: 0.9534 - recall: 0.9592 - val_loss: 0.0942 - val_accuracy: 0.9651 - val_precision: 0.9583 - val_recall: 0.9694\n",
      "Epoch 39/200\n",
      "421/421 [==============================] - 98s 233ms/step - loss: 0.1048 - accuracy: 0.9593 - precision: 0.9545 - recall: 0.9598 - val_loss: 0.0948 - val_accuracy: 0.9658 - val_precision: 0.9647 - val_recall: 0.9638\n",
      "Epoch 40/200\n",
      "421/421 [==============================] - 97s 231ms/step - loss: 0.1004 - accuracy: 0.9616 - precision: 0.9592 - recall: 0.9596 - val_loss: 0.0968 - val_accuracy: 0.9632 - val_precision: 0.9490 - val_recall: 0.9754\n",
      "Epoch 41/200\n",
      "421/421 [==============================] - 97s 231ms/step - loss: 0.1028 - accuracy: 0.9608 - precision: 0.9567 - recall: 0.9606 - val_loss: 0.0968 - val_accuracy: 0.9660 - val_precision: 0.9643 - val_recall: 0.9647\n",
      "Epoch 42/200\n",
      "421/421 [==============================] - 98s 234ms/step - loss: 0.1004 - accuracy: 0.9600 - precision: 0.9556 - recall: 0.9602 - val_loss: 0.1037 - val_accuracy: 0.9638 - val_precision: 0.9707 - val_recall: 0.9531\n",
      "Epoch 43/200\n",
      "421/421 [==============================] - 101s 239ms/step - loss: 0.1051 - accuracy: 0.9605 - precision: 0.9566 - recall: 0.9601 - val_loss: 0.0958 - val_accuracy: 0.9667 - val_precision: 0.9648 - val_recall: 0.9657\n",
      "Epoch 44/200\n",
      "421/421 [==============================] - 98s 233ms/step - loss: 0.1009 - accuracy: 0.9606 - precision: 0.9574 - recall: 0.9594 - val_loss: 0.0953 - val_accuracy: 0.9654 - val_precision: 0.9726 - val_recall: 0.9545\n",
      "Epoch 45/200\n",
      "421/421 [==============================] - ETA: 0s - loss: 0.1023 - accuracy: 0.9586 - precision: 0.9555 - recall: 0.9571Restoring model weights from the end of the best epoch: 40.\n",
      "421/421 [==============================] - 98s 233ms/step - loss: 0.1023 - accuracy: 0.9586 - precision: 0.9555 - recall: 0.9571 - val_loss: 0.0951 - val_accuracy: 0.9660 - val_precision: 0.9691 - val_recall: 0.9596\n",
      "Epoch 45: early stopping\n"
     ]
    }
   ],
   "source": [
    "model = None\n",
    "if (new_model):\n",
    "\n",
    "    print('Generating new model')\n",
    "    bert_preprocessor = hub.KerasLayer('https://tfhub.dev/tensorflow/bert_en_uncased_preprocess/3')\n",
    "    \n",
    "    bertURL = 'https://tfhub.dev/tensorflow/small_bert/bert_en_uncased_L-4_H-512_A-8/2'\n",
    "\n",
    "    bert_encoder = hub.KerasLayer(bertURL)\n",
    "\n",
    "    text_input = tf.keras.layers.Input(shape=(), dtype=tf.string, name='Inputs')\n",
    "    preprocessed_text = bert_preprocessor(text_input)\n",
    "    embed = bert_encoder(preprocessed_text)\n",
    "    \n",
    "    x = tf.keras.layers.Dropout(0.25)(embed['pooled_output'])\n",
    "    x = tf.keras.layers.Dense(256, activation='relu')(x)\n",
    "    x = tf.keras.layers.BatchNormalization()(x)\n",
    "    x = tf.keras.layers.Dropout(0.25)(x)\n",
    "    x = tf.keras.layers.Dense(256, activation='relu')(x)\n",
    "    x = tf.keras.layers.BatchNormalization()(x)\n",
    "    x = tf.keras.layers.Dropout(0.25)(x)\n",
    "    x = tf.keras.layers.Dense(256, activation='relu')(x)\n",
    "    outputs = tf.keras.layers.Dense(1, activation='sigmoid', name='output')(x)\n",
    "\n",
    "    # creating final model\n",
    "    model = tf.keras.Model(inputs=[text_input], outputs=[outputs])\n",
    "\n",
    "    #model.save(\"../content/Model\")\n",
    "else:\n",
    "    print('Loading old model')\n",
    "    model = keras.models.load_model(\"../Bert/Model\")\n",
    "\n",
    "# if (model is None):\n",
    "#     print(\"Error: No model\")\n",
    "#     return\n",
    "\n",
    "print(model.summary())\n",
    "\n",
    "Metrics = [tf.keras.metrics.BinaryAccuracy(name='accuracy'),\n",
    "            tf.keras.metrics.Precision(name='precision'),\n",
    "            tf.keras.metrics.Recall(name='recall')\n",
    "            ]\n",
    "\n",
    "# compiling our model\n",
    "model.compile(optimizer='adam',loss='binary_crossentropy',  metrics=Metrics)\n",
    "\n",
    "es = EarlyStopping(patience=5, verbose=1, min_delta=0.001, monitor='loss', mode='auto',\n",
    "                       restore_best_weights=True)\n",
    "\n",
    "num_epochs = 200\n",
    "history = model.fit(X_train, y_train, epochs=num_epochs, validation_data=(X_val, y_val),batch_size = 50,\n",
    "                    callbacks=[es],shuffle= True)\n",
    "\n",
    "\n",
    "\n",
    "\n",
    "\n"
   ]
  },
  {
   "cell_type": "code",
   "source": [],
   "metadata": {
    "id": "27TOtDvtgZi8",
    "pycharm": {
     "name": "#%%\n"
    }
   },
   "execution_count": null,
   "outputs": []
  },
  {
   "cell_type": "code",
   "source": [],
   "metadata": {
    "id": "7Lu9dGT1k1PB",
    "pycharm": {
     "name": "#%%\n"
    }
   },
   "execution_count": null,
   "outputs": []
  },
  {
   "cell_type": "code",
   "source": [],
   "metadata": {
    "id": "Mjl3zabHpje3",
    "pycharm": {
     "name": "#%%\n"
    }
   },
   "execution_count": null,
   "outputs": []
  },
  {
   "cell_type": "code",
   "source": [
    "model.save('/content/drive/MyDrive/NLP/'+dataset)"
   ],
   "metadata": {
    "id": "7RbiDMQFJso3",
    "colab": {
     "base_uri": "https://localhost:8080/"
    },
    "outputId": "1f3bc265-d095-4b0e-ddc3-7f9512fd6801",
    "pycharm": {
     "name": "#%%\n"
    }
   },
   "execution_count": 8,
   "outputs": [
    {
     "output_type": "stream",
     "name": "stderr",
     "text": [
      "WARNING:absl:Function `_wrapped_model` contains input name(s) Inputs with unsupported characters which will be renamed to inputs in the SavedModel.\n",
      "WARNING:absl:Found untraced functions such as restored_function_body, restored_function_body, restored_function_body, restored_function_body, restored_function_body while saving (showing 5 of 126). These functions will not be directly callable after loading.\n"
     ]
    },
    {
     "output_type": "stream",
     "name": "stdout",
     "text": [
      "INFO:tensorflow:Assets written to: /content/drive/MyDrive/NLP/enron_cleaned/assets\n"
     ]
    },
    {
     "output_type": "stream",
     "name": "stderr",
     "text": [
      "INFO:tensorflow:Assets written to: /content/drive/MyDrive/NLP/enron_cleaned/assets\n"
     ]
    }
   ]
  },
  {
   "cell_type": "code",
   "source": [],
   "metadata": {
    "id": "Ewymhnpub0k5",
    "pycharm": {
     "name": "#%%\n"
    }
   },
   "execution_count": null,
   "outputs": []
  },
  {
   "cell_type": "code",
   "source": [],
   "metadata": {
    "id": "Me-B6d4jSbzM",
    "pycharm": {
     "name": "#%%\n"
    }
   },
   "execution_count": 5,
   "outputs": []
  },
  {
   "cell_type": "code",
   "source": [
    "best_epoch = es.best_epoch\n",
    "\n",
    "model.evaluate(X_test, y_test)\n",
    "\n",
    "\n",
    "# getting y_pred by predicting over X_text and flattening it\n",
    "y_pred = model.predict(X_test)\n",
    "y_pred = y_pred.flatten()  # require to be in one-dimensional array , for easy manipulation\n",
    "\n",
    "# y_test = y_test.to_numpy()\n",
    "y_pred = np.where(y_pred > 0.5, 1, 0)"
   ],
   "metadata": {
    "id": "hgp6aUkBeKRc",
    "colab": {
     "base_uri": "https://localhost:8080/"
    },
    "outputId": "60350051-e19a-46eb-e447-a7a2fc6213cc",
    "pycharm": {
     "name": "#%%\n"
    }
   },
   "execution_count": 9,
   "outputs": [
    {
     "output_type": "stream",
     "name": "stdout",
     "text": [
      "141/141 [==============================] - 15s 109ms/step - loss: 0.0914 - accuracy: 0.9658 - precision: 0.9510 - recall: 0.9758\n",
      "141/141 [==============================] - 15s 102ms/step\n"
     ]
    }
   ]
  },
  {
   "cell_type": "code",
   "source": [
    "# creating confusion matrix\n",
    "\n",
    "cm = confusion_matrix(y_test, y_pred)\n",
    "\n",
    "\n",
    "#creating a graph out of confusion matrix\n",
    "sns.heatmap(cm, annot=True, fmt='d')\n",
    "plt.xlabel('Predicted')\n",
    "plt.ylabel('Actual')\n",
    "# plt.savefig('../Bert/Data/bert_CM.png')\n",
    "plt.savefig('/content/drive/MyDrive/NLP/Bert_'+dataset+'/figures/bert'+dataset+'_CM.png')\n",
    "plt.show()\n",
    "\n",
    "#epochs = range(1, num_epochs+1)\n",
    "#print(epochs)\n",
    "plt.plot(history.history['loss'], 'g', label='Training loss')\n",
    "plt.plot(history.history['val_loss'], 'b', label='validation loss')\n",
    "plt.axvline(x=best_epoch, color='r', label='best_epoch')\n",
    "plt.title('Training and Validation loss')\n",
    "plt.xlabel('Epochs')\n",
    "plt.ylabel('Loss')\n",
    "plt.legend()\n",
    "plt.savefig('/content/drive/MyDrive/NLP/Bert_'+dataset+'/figures/bert'+dataset+'_loss.png')\n",
    "plt.show()\n",
    "\n",
    "\n",
    "\n",
    "#epochs = range(1, num_epochs+1)\n",
    "plt.plot(history.history['precision'], 'g', label='Training precision')\n",
    "plt.plot(history.history['val_precision'], 'b', label='validation precision')\n",
    "plt.axvline(x=best_epoch, color='r', label='best_epoch')\n",
    "plt.title('Training and Validation precision')\n",
    "plt.xlabel('Epochs')\n",
    "plt.ylabel('Loss')\n",
    "plt.legend()\n",
    "plt.savefig('/content/drive/MyDrive/NLP/Bert_'+dataset+'/figures/bert'+dataset+'_precision.png')\n",
    "# plt.savefig('../Bert/Data/bert_precision.png')\n",
    "plt.show()\n",
    "\n",
    "\n",
    "plt.plot( history.history['accuracy'], 'g', label='Training accuracy')\n",
    "plt.plot(history.history['val_accuracy'], 'b', label='validation accuracy')\n",
    "plt.axvline(x=best_epoch, color='r', label='best_epoch')\n",
    "plt.title('Training and Validation accuracy')\n",
    "plt.xlabel('Epochs')\n",
    "plt.ylabel('Loss')\n",
    "plt.legend()\n",
    "plt.savefig('/content/drive/MyDrive/NLP/Bert_'+dataset+'/figures/bert'+dataset+'_accuracy.png')\n",
    "# plt.savefig('../Bert/Data/bert_accuracy.png')\n",
    "plt.show()\n",
    "\n",
    "# printing classification report\n",
    "print(classification_report(y_test, y_pred))\n",
    "\n",
    "predict_text = [\n",
    "    # Spam\n",
    "    'We’d all like to get a $10,000 deposit on our bank accounts out of the blue, but winning a prize—especially if you’ve never entered a contest',\n",
    "    'Netflix is sending you a refund of $12.99. Please reply with your bank account and routing number to verify and get your refund',\n",
    "    'Your account is temporarily frozen. Please log in to to secure your account ',\n",
    "    # ham\n",
    "    'The article was published on 18th August itself',\n",
    "    'Although we are unable to give you an exact time-frame at the moment, I would request you to stay tuned for any updates.',\n",
    "    'The image you sent is a UI bug, I can check that your article is marked as regular and is not in the monetization program.'\n",
    "]\n",
    "test_results = model.predict(predict_text)\n",
    "output = np.where(test_results > 0.5, 'spam', 'ham')\n",
    "print(output)"
   ],
   "metadata": {
    "colab": {
     "base_uri": "https://localhost:8080/",
     "height": 1000
    },
    "id": "b5yId04wBhNz",
    "outputId": "476c97bc-fffc-4184-eba5-5cef2d6c6eaa",
    "pycharm": {
     "name": "#%%\n"
    }
   },
   "execution_count": 10,
   "outputs": [
    {
     "output_type": "display_data",
     "data": {
      "text/plain": [
       "<Figure size 432x288 with 2 Axes>"
      ],
      "image/png": "[encoded data removed]"
     },
     "metadata": {
      "needs_background": "light"
     }
    },
    {
     "output_type": "display_data",
     "data": {
      "text/plain": [
       "<Figure size 432x288 with 1 Axes>"
      ],
      "image/png": "[encoded data removed]"
     },
     "metadata": {
      "needs_background": "light"
     }
    },
    {
     "output_type": "display_data",
     "data": {
      "text/plain": [
       "<Figure size 432x288 with 1 Axes>"
      ],
      "image/png": "[encoded data removed]"
     },
     "metadata": {
      "needs_background": "light"
     }
    },
    {
     "output_type": "display_data",
     "data": {
      "text/plain": [
       "<Figure size 432x288 with 1 Axes>"
      ],
      "image/png": "[encoded data removed]"
     },
     "metadata": {
      "needs_background": "light"
     }
    },
    {
     "output_type": "stream",
     "name": "stdout",
     "text": [
      "              precision    recall  f1-score   support\n",
      "\n",
      "           0       0.98      0.96      0.97      2436\n",
      "           1       0.95      0.98      0.96      2070\n",
      "\n",
      "    accuracy                           0.97      4506\n",
      "   macro avg       0.97      0.97      0.97      4506\n",
      "weighted avg       0.97      0.97      0.97      4506\n",
      "\n",
      "1/1 [==============================] - 0s 415ms/step\n",
      "[['spam']\n",
      " ['ham']\n",
      " ['spam']\n",
      " ['spam']\n",
      " ['ham']\n",
      " ['ham']]\n"
     ]
    }
   ]
  },
  {
   "cell_type": "code",
   "source": [],
   "metadata": {
    "id": "xP4Cejia3DjC",
    "pycharm": {
     "name": "#%%\n"
    }
   },
   "execution_count": null,
   "outputs": []
  }
 ]
}