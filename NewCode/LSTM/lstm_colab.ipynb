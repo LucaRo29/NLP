{
  "cells": [
    {
      "cell_type": "markdown",
      "source": [
        "Tutorial: https://www.analyticsvidhya.com/blog/2021/05/sms-spam-detection-using-lstm-a-hands-on-guide/"
      ],
      "metadata": {
        "collapsed": false,
        "id": "ZJA3K7rUvClM"
      }
    },
    {
      "cell_type": "code",
      "execution_count": 42,
      "metadata": {
        "collapsed": true,
        "id": "A6nQRfGEvClN"
      },
      "outputs": [],
      "source": [
        "import pandas as pd\n",
        "import matplotlib.pyplot as plt\n",
        "plt.style.use('dark_background')\n",
        "import warnings\n",
        "warnings.simplefilter(action='ignore', category=Warning)\n",
        "from keras.layers import Dense, Embedding, LSTM, Dropout\n",
        "from keras.models import Sequential\n",
        "from keras.preprocessing.text import Tokenizer\n",
        "from keras.preprocessing.sequence import pad_sequences\n",
        "import numpy as np"
      ]
    },
    {
      "cell_type": "code",
      "execution_count": 43,
      "outputs": [
        {
          "output_type": "execute_result",
          "data": {
            "text/plain": [
              "   label                                               text\n",
              "0      0  go jurong point crazy available bugis n great ...\n",
              "1      0                            ok lar joking wif u oni\n",
              "2      1  free entry wkly comp win fa cup final tkts may...\n",
              "3      0                u dun say early hor u c already say\n",
              "4      0                nah think go usf life around though"
            ],
            "text/html": [
              "\n",
              "  <div id=\"df-8ef2ccb9-ed62-42a6-a6d5-ea4697aed850\">\n",
              "    <div class=\"colab-df-container\">\n",
              "      <div>\n",
              "<style scoped>\n",
              "    .dataframe tbody tr th:only-of-type {\n",
              "        vertical-align: middle;\n",
              "    }\n",
              "\n",
              "    .dataframe tbody tr th {\n",
              "        vertical-align: top;\n",
              "    }\n",
              "\n",
              "    .dataframe thead th {\n",
              "        text-align: right;\n",
              "    }\n",
              "</style>\n",
              "<table border=\"1\" class=\"dataframe\">\n",
              "  <thead>\n",
              "    <tr style=\"text-align: right;\">\n",
              "      <th></th>\n",
              "      <th>label</th>\n",
              "      <th>text</th>\n",
              "    </tr>\n",
              "  </thead>\n",
              "  <tbody>\n",
              "    <tr>\n",
              "      <th>0</th>\n",
              "      <td>0</td>\n",
              "      <td>go jurong point crazy available bugis n great ...</td>\n",
              "    </tr>\n",
              "    <tr>\n",
              "      <th>1</th>\n",
              "      <td>0</td>\n",
              "      <td>ok lar joking wif u oni</td>\n",
              "    </tr>\n",
              "    <tr>\n",
              "      <th>2</th>\n",
              "      <td>1</td>\n",
              "      <td>free entry wkly comp win fa cup final tkts may...</td>\n",
              "    </tr>\n",
              "    <tr>\n",
              "      <th>3</th>\n",
              "      <td>0</td>\n",
              "      <td>u dun say early hor u c already say</td>\n",
              "    </tr>\n",
              "    <tr>\n",
              "      <th>4</th>\n",
              "      <td>0</td>\n",
              "      <td>nah think go usf life around though</td>\n",
              "    </tr>\n",
              "  </tbody>\n",
              "</table>\n",
              "</div>\n",
              "      <button class=\"colab-df-convert\" onclick=\"convertToInteractive('df-8ef2ccb9-ed62-42a6-a6d5-ea4697aed850')\"\n",
              "              title=\"Convert this dataframe to an interactive table.\"\n",
              "              style=\"display:none;\">\n",
              "        \n",
              "  <svg xmlns=\"http://www.w3.org/2000/svg\" height=\"24px\"viewBox=\"0 0 24 24\"\n",
              "       width=\"24px\">\n",
              "    <path d=\"M0 0h24v24H0V0z\" fill=\"none\"/>\n",
              "    <path d=\"M18.56 5.44l.94 2.06.94-2.06 2.06-.94-2.06-.94-.94-2.06-.94 2.06-2.06.94zm-11 1L8.5 8.5l.94-2.06 2.06-.94-2.06-.94L8.5 2.5l-.94 2.06-2.06.94zm10 10l.94 2.06.94-2.06 2.06-.94-2.06-.94-.94-2.06-.94 2.06-2.06.94z\"/><path d=\"M17.41 7.96l-1.37-1.37c-.4-.4-.92-.59-1.43-.59-.52 0-1.04.2-1.43.59L10.3 9.45l-7.72 7.72c-.78.78-.78 2.05 0 2.83L4 21.41c.39.39.9.59 1.41.59.51 0 1.02-.2 1.41-.59l7.78-7.78 2.81-2.81c.8-.78.8-2.07 0-2.86zM5.41 20L4 18.59l7.72-7.72 1.47 1.35L5.41 20z\"/>\n",
              "  </svg>\n",
              "      </button>\n",
              "      \n",
              "  <style>\n",
              "    .colab-df-container {\n",
              "      display:flex;\n",
              "      flex-wrap:wrap;\n",
              "      gap: 12px;\n",
              "    }\n",
              "\n",
              "    .colab-df-convert {\n",
              "      background-color: #E8F0FE;\n",
              "      border: none;\n",
              "      border-radius: 50%;\n",
              "      cursor: pointer;\n",
              "      display: none;\n",
              "      fill: #1967D2;\n",
              "      height: 32px;\n",
              "      padding: 0 0 0 0;\n",
              "      width: 32px;\n",
              "    }\n",
              "\n",
              "    .colab-df-convert:hover {\n",
              "      background-color: #E2EBFA;\n",
              "      box-shadow: 0px 1px 2px rgba(60, 64, 67, 0.3), 0px 1px 3px 1px rgba(60, 64, 67, 0.15);\n",
              "      fill: #174EA6;\n",
              "    }\n",
              "\n",
              "    [theme=dark] .colab-df-convert {\n",
              "      background-color: #3B4455;\n",
              "      fill: #D2E3FC;\n",
              "    }\n",
              "\n",
              "    [theme=dark] .colab-df-convert:hover {\n",
              "      background-color: #434B5C;\n",
              "      box-shadow: 0px 1px 3px 1px rgba(0, 0, 0, 0.15);\n",
              "      filter: drop-shadow(0px 1px 2px rgba(0, 0, 0, 0.3));\n",
              "      fill: #FFFFFF;\n",
              "    }\n",
              "  </style>\n",
              "\n",
              "      <script>\n",
              "        const buttonEl =\n",
              "          document.querySelector('#df-8ef2ccb9-ed62-42a6-a6d5-ea4697aed850 button.colab-df-convert');\n",
              "        buttonEl.style.display =\n",
              "          google.colab.kernel.accessAllowed ? 'block' : 'none';\n",
              "\n",
              "        async function convertToInteractive(key) {\n",
              "          const element = document.querySelector('#df-8ef2ccb9-ed62-42a6-a6d5-ea4697aed850');\n",
              "          const dataTable =\n",
              "            await google.colab.kernel.invokeFunction('convertToInteractive',\n",
              "                                                     [key], {});\n",
              "          if (!dataTable) return;\n",
              "\n",
              "          const docLinkHtml = 'Like what you see? Visit the ' +\n",
              "            '<a target=\"_blank\" href=https://colab.research.google.com/notebooks/data_table.ipynb>data table notebook</a>'\n",
              "            + ' to learn more about interactive tables.';\n",
              "          element.innerHTML = '';\n",
              "          dataTable['output_type'] = 'display_data';\n",
              "          await google.colab.output.renderOutput(dataTable, element);\n",
              "          const docLink = document.createElement('div');\n",
              "          docLink.innerHTML = docLinkHtml;\n",
              "          element.appendChild(docLink);\n",
              "        }\n",
              "      </script>\n",
              "    </div>\n",
              "  </div>\n",
              "  "
            ]
          },
          "metadata": {},
          "execution_count": 43
        }
      ],
      "source": [
        "data_path = \"merged_cleaned_preprocessed.csv\"      \n",
        "\n",
        "\n",
        "df = pd.read_csv(data_path, encoding = \"latin-1\")\n",
        "df.head()"
      ],
      "metadata": {
        "pycharm": {
          "name": "#%%\n"
        },
        "id": "xDIV1NycvClO",
        "colab": {
          "base_uri": "https://localhost:8080/",
          "height": 206
        },
        "outputId": "40120f66-ce3b-4849-d03d-39dbf8c848e6"
      }
    },
    {
      "cell_type": "code",
      "execution_count": 44,
      "outputs": [
        {
          "output_type": "execute_result",
          "data": {
            "text/plain": [
              "(35193, 2)"
            ]
          },
          "metadata": {},
          "execution_count": 44
        }
      ],
      "source": [
        "df.shape"
      ],
      "metadata": {
        "pycharm": {
          "name": "#%%\n"
        },
        "id": "WNbu-9SovClO",
        "colab": {
          "base_uri": "https://localhost:8080/"
        },
        "outputId": "5f0ca500-6d4b-42d4-a8e9-c85a9dba68fd"
      }
    },
    {
      "cell_type": "markdown",
      "source": [
        "#Drop Null values:\n",
        "Somehow it did not work to drop NULL values in preprocessing... Out of any reason there are some null falues in the data after reading the CSV even though they have not been there before writing the CSV file in the preprocessing skript!"
      ],
      "metadata": {
        "collapsed": false,
        "pycharm": {
          "name": "#%% md\n"
        },
        "id": "VAVSp0djvClP"
      }
    },
    {
      "cell_type": "code",
      "execution_count": 45,
      "outputs": [
        {
          "output_type": "execute_result",
          "data": {
            "text/plain": [
              "label     0\n",
              "text     14\n",
              "dtype: int64"
            ]
          },
          "metadata": {},
          "execution_count": 45
        }
      ],
      "source": [
        "df.isnull().sum()"
      ],
      "metadata": {
        "pycharm": {
          "name": "#%%\n"
        },
        "id": "fmJD54WmvClP",
        "colab": {
          "base_uri": "https://localhost:8080/"
        },
        "outputId": "1840e249-2f31-4073-fe6d-c2fc786bc9ec"
      }
    },
    {
      "cell_type": "code",
      "execution_count": 46,
      "outputs": [
        {
          "output_type": "execute_result",
          "data": {
            "text/plain": [
              "label    0\n",
              "text     0\n",
              "dtype: int64"
            ]
          },
          "metadata": {},
          "execution_count": 46
        }
      ],
      "source": [
        "df.dropna(inplace=True)\n",
        "df.isnull().sum()"
      ],
      "metadata": {
        "pycharm": {
          "name": "#%%\n"
        },
        "id": "QdX6u0tHvClP",
        "colab": {
          "base_uri": "https://localhost:8080/"
        },
        "outputId": "327847e0-937f-49a8-879f-917cd10e2434"
      }
    },
    {
      "cell_type": "markdown",
      "source": [
        "#Balancing Dataset: "
      ],
      "metadata": {
        "id": "m3KaY1nbQm7B"
      }
    },
    {
      "cell_type": "code",
      "source": [
        "df_spam = df[df['label'] == 1]\n",
        "df_ham  = df[df['label'] == 0]\n",
        "print(\"Ham Dataset Shape:\", df_ham.shape)\n",
        "print(\"Spam Dataset Shape:\", df_spam.shape)\n"
      ],
      "metadata": {
        "colab": {
          "base_uri": "https://localhost:8080/"
        },
        "id": "4Ht8QCjTQmq-",
        "outputId": "7feceb86-c9e3-4a0b-e1b3-e8ee48c35a6c"
      },
      "execution_count": 47,
      "outputs": [
        {
          "output_type": "stream",
          "name": "stdout",
          "text": [
            "Ham Dataset Shape: (20367, 2)\n",
            "Spam Dataset Shape: (14812, 2)\n"
          ]
        }
      ]
    },
    {
      "cell_type": "code",
      "source": [
        "df_ham_downsampled = df_ham.sample(df_spam.shape[0])\n",
        "df_ham_downsampled.shape"
      ],
      "metadata": {
        "colab": {
          "base_uri": "https://localhost:8080/"
        },
        "id": "ZdqeusHKRz4X",
        "outputId": "895292bb-04c9-418e-8081-e26ece5f15df"
      },
      "execution_count": 48,
      "outputs": [
        {
          "output_type": "execute_result",
          "data": {
            "text/plain": [
              "(14812, 2)"
            ]
          },
          "metadata": {},
          "execution_count": 48
        }
      ]
    },
    {
      "cell_type": "code",
      "source": [
        "df = pd.concat([df_spam, df_ham_downsampled])"
      ],
      "metadata": {
        "id": "BaSrK06wSGnz"
      },
      "execution_count": 49,
      "outputs": []
    },
    {
      "cell_type": "code",
      "source": [
        "import seaborn as sns\n",
        "sns.countplot(x=df[\"label\"])"
      ],
      "metadata": {
        "colab": {
          "base_uri": "https://localhost:8080/",
          "height": 296
        },
        "id": "C6LB2EOtQmE0",
        "outputId": "325e5a3e-bc50-4047-e8ed-e278aaba749f"
      },
      "execution_count": 50,
      "outputs": [
        {
          "output_type": "execute_result",
          "data": {
            "text/plain": [
              "<matplotlib.axes._subplots.AxesSubplot at 0x7f4e03d2fad0>"
            ]
          },
          "metadata": {},
          "execution_count": 50
        },
        {
          "output_type": "display_data",
          "data": {
            "text/plain": [
              "<Figure size 432x288 with 1 Axes>"
            ],
            "image/png": "[encoded data removed]"
          },
          "metadata": {}
        }
      ]
    },
    {
      "cell_type": "markdown",
      "source": [
        "#Convert tokens into a numerical sequence:"
      ],
      "metadata": {
        "collapsed": false,
        "id": "-PwM1PK8vClP"
      }
    },
    {
      "cell_type": "code",
      "execution_count": 52,
      "outputs": [],
      "source": [
        "X=df[\"text\"]\n",
        "\n",
        "tokenizer = Tokenizer() #initializing the tokenizer\n",
        "tokenizer.fit_on_texts(X)# fitting on the sms data\n",
        "text_to_sequence = tokenizer.texts_to_sequences(X) # creating the numerical sequence"
      ],
      "metadata": {
        "pycharm": {
          "name": "#%%\n"
        },
        "id": "ZFyLdSkpvClP"
      }
    },
    {
      "cell_type": "code",
      "execution_count": null,
      "outputs": [],
      "source": [
        "#tokenizer.index_word"
      ],
      "metadata": {
        "pycharm": {
          "name": "#%%\n"
        },
        "id": "_TS4CgdtvClP"
      }
    },
    {
      "cell_type": "code",
      "execution_count": 53,
      "outputs": [
        {
          "output_type": "execute_result",
          "data": {
            "text/plain": [
              "131078"
            ]
          },
          "metadata": {},
          "execution_count": 53
        }
      ],
      "source": [
        "len(tokenizer.index_word)"
      ],
      "metadata": {
        "pycharm": {
          "name": "#%%\n"
        },
        "id": "fYxEkluSvClP",
        "colab": {
          "base_uri": "https://localhost:8080/"
        },
        "outputId": "491fb509-8779-4c5f-c4cf-812f1b55f20d"
      }
    },
    {
      "cell_type": "markdown",
      "source": [
        "We do have 130427 unique words!"
      ],
      "metadata": {
        "collapsed": false,
        "id": "Xuaow7ojvClQ"
      }
    },
    {
      "cell_type": "code",
      "execution_count": null,
      "outputs": [],
      "source": [
        "#for i in range(3):\n",
        "#        print(\"Text               : \",X[i] )\n",
        "#        print(\"Numerical Sequence : \", text_to_sequence[i])\n",
        "\n",
        "#Depending on the data this could fail since the index 0..2 could have been dropped in balancing the data! "
      ],
      "metadata": {
        "pycharm": {
          "name": "#%%\n"
        },
        "id": "p2b0ILkevClQ"
      }
    },
    {
      "cell_type": "markdown",
      "source": [
        "#Normalization:\n",
        "Since all the messages are of different lengths also the sequences are of different length, so we have to padding the sequences with 0 to get equal length. Otherwise the sequences would not be compatible for the model!"
      ],
      "metadata": {
        "collapsed": false,
        "id": "7Mi1NXxUvClQ"
      }
    },
    {
      "cell_type": "code",
      "execution_count": 54,
      "outputs": [
        {
          "output_type": "execute_result",
          "data": {
            "text/plain": [
              "array([[    0,     0,     0, ...,   140,    50,  1443],\n",
              "       [    0,     0,     0, ..., 64869,   126, 50848],\n",
              "       [    0,     0,     0, ...,   689,  1687,   139],\n",
              "       ...,\n",
              "       [    0,     0,     0, ...,  2790,    84,  4746],\n",
              "       [    0,     0,     0, ...,  1666,   307,   353],\n",
              "       [    0,     0,     0, ...,  4652,  2316,   210]], dtype=int32)"
            ]
          },
          "metadata": {},
          "execution_count": 54
        }
      ],
      "source": [
        "max_length_sequence = max([len(i) for i in text_to_sequence]) # finding the length of largest sequence\n",
        "padded_sequence = pad_sequences(text_to_sequence, maxlen=max_length_sequence, padding = \"pre\")\n",
        "padded_sequence"
      ],
      "metadata": {
        "pycharm": {
          "name": "#%%\n"
        },
        "id": "c0m_ZlcCvClQ",
        "colab": {
          "base_uri": "https://localhost:8080/"
        },
        "outputId": "6d2632d4-b3ad-4630-b651-00cb7e0068e6"
      }
    },
    {
      "cell_type": "markdown",
      "source": [
        "The longest Sentence exists of 501"
      ],
      "metadata": {
        "collapsed": false,
        "id": "OPqRZlTXvClQ"
      }
    },
    {
      "cell_type": "code",
      "source": [
        "print(\"shape\",len(padded_sequence), \"rows x \",len(padded_sequence[0]),\"cols\")"
      ],
      "metadata": {
        "id": "goO7LQ0lTTVs",
        "colab": {
          "base_uri": "https://localhost:8080/"
        },
        "outputId": "9f9f249e-6f0a-4f40-e3d4-1e5aeeeab881"
      },
      "execution_count": 55,
      "outputs": [
        {
          "output_type": "stream",
          "name": "stdout",
          "text": [
            "shape 29624 rows x  21227 cols\n"
          ]
        }
      ]
    },
    {
      "cell_type": "markdown",
      "source": [
        "#Create LSTM Model:"
      ],
      "metadata": {
        "collapsed": false,
        "id": "XZhSzVfzvClQ"
      }
    },
    {
      "cell_type": "code",
      "execution_count": 56,
      "outputs": [
        {
          "output_type": "stream",
          "name": "stdout",
          "text": [
            "Model: \"sequential_1\"\n",
            "_________________________________________________________________\n",
            " Layer (type)                Output Shape              Param #   \n",
            "=================================================================\n",
            " embedding_1 (Embedding)     (None, 21227, 32)         4194528   \n",
            "                                                                 \n",
            " lstm_1 (LSTM)               (None, 100)               53200     \n",
            "                                                                 \n",
            " dropout_2 (Dropout)         (None, 100)               0         \n",
            "                                                                 \n",
            " dense_2 (Dense)             (None, 20)                2020      \n",
            "                                                                 \n",
            " dropout_3 (Dropout)         (None, 20)                0         \n",
            "                                                                 \n",
            " dense_3 (Dense)             (None, 1)                 21        \n",
            "                                                                 \n",
            "=================================================================\n",
            "Total params: 4,249,769\n",
            "Trainable params: 4,249,769\n",
            "Non-trainable params: 0\n",
            "_________________________________________________________________\n"
          ]
        }
      ],
      "source": [
        "TOT_SIZE = len(tokenizer.word_index)+1\n",
        "\n",
        "\n",
        "def create_model():\n",
        "      lstm_model = Sequential()\n",
        "      lstm_model.add(Embedding(TOT_SIZE, 32, input_length=max_length_sequence))\n",
        "      lstm_model.add(LSTM(100))\n",
        "      lstm_model.add(Dropout(0.4))\n",
        "      lstm_model.add(Dense(20, activation=\"relu\"))\n",
        "      lstm_model.add(Dropout(0.3))\n",
        "      lstm_model.add(Dense(1, activation = \"sigmoid\"))\n",
        "      return lstm_model\n",
        "\n",
        "\n",
        "lstm_model = create_model()\n",
        "lstm_model.compile(loss = \"binary_crossentropy\", optimizer = \"adam\", metrics = [\"accuracy\"])\n",
        "\n",
        "lstm_model.summary()"
      ],
      "metadata": {
        "pycharm": {
          "name": "#%%\n"
        },
        "id": "90IOL8zevClQ",
        "colab": {
          "base_uri": "https://localhost:8080/"
        },
        "outputId": "e7e9d47f-e5c5-420a-ba49-610ccc88047a"
      }
    },
    {
      "cell_type": "markdown",
      "source": [
        "#Train Test Validation Split"
      ],
      "metadata": {
        "collapsed": false,
        "id": "lpx-FVILvClR"
      }
    },
    {
      "cell_type": "code",
      "execution_count": 57,
      "outputs": [],
      "source": [
        "from sklearn.model_selection import train_test_split\n",
        "X=padded_sequence\n",
        "y=df[\"label\"]\n",
        "X_train, X_val,  y_train, y_val  = train_test_split(X, y, test_size=0.7, random_state=42)\n",
        "X_val,   X_test, y_val,   y_test = train_test_split(X_val, y_val, train_size=0.5)"
      ],
      "metadata": {
        "pycharm": {
          "name": "#%%\n"
        },
        "id": "WrFgOFTIvClR"
      }
    },
    {
      "cell_type": "markdown",
      "source": [
        "#Train the model: "
      ],
      "metadata": {
        "id": "HAxE5I3HYXE3"
      }
    },
    {
      "cell_type": "code",
      "execution_count": 58,
      "outputs": [
        {
          "output_type": "stream",
          "name": "stdout",
          "text": [
            "Epoch 1/10\n",
            "278/278 [==============================] - 278s 995ms/step - loss: 0.3187 - accuracy: 0.8813 - val_loss: 0.1210 - val_accuracy: 0.9546\n",
            "Epoch 2/10\n",
            "278/278 [==============================] - 277s 996ms/step - loss: 0.0607 - accuracy: 0.9814 - val_loss: 0.0885 - val_accuracy: 0.9683\n",
            "Epoch 3/10\n",
            "278/278 [==============================] - 280s 1s/step - loss: 0.0257 - accuracy: 0.9932 - val_loss: 0.1578 - val_accuracy: 0.9656\n",
            "Epoch 4/10\n",
            "278/278 [==============================] - 283s 1s/step - loss: 0.0209 - accuracy: 0.9957 - val_loss: 0.1374 - val_accuracy: 0.9537\n",
            "Epoch 5/10\n",
            "278/278 [==============================] - 331s 1s/step - loss: 0.0055 - accuracy: 0.9988 - val_loss: 0.1409 - val_accuracy: 0.9664\n",
            "Epoch 6/10\n",
            "278/278 [==============================] - 279s 1s/step - loss: 0.0024 - accuracy: 0.9994 - val_loss: 0.1546 - val_accuracy: 0.9667\n",
            "Epoch 7/10\n",
            "278/278 [==============================] - 279s 1s/step - loss: 0.0020 - accuracy: 0.9998 - val_loss: 0.1583 - val_accuracy: 0.9660\n",
            "Epoch 8/10\n",
            "278/278 [==============================] - 331s 1s/step - loss: 0.0013 - accuracy: 0.9999 - val_loss: 0.1702 - val_accuracy: 0.9675\n",
            "Epoch 9/10\n",
            "278/278 [==============================] - 281s 1s/step - loss: 0.0012 - accuracy: 0.9999 - val_loss: 0.1709 - val_accuracy: 0.9663\n",
            "Epoch 10/10\n",
            "278/278 [==============================] - 279s 1s/step - loss: 0.0030 - accuracy: 0.9993 - val_loss: 0.1939 - val_accuracy: 0.9607\n"
          ]
        }
      ],
      "source": [
        "from keras.callbacks import EarlyStopping\n",
        "\n",
        "num_epochs = 10 #10!\n",
        "\n",
        "history = lstm_model.fit(\n",
        "               X_train ,\n",
        "               y_train,\n",
        "               epochs=num_epochs,\n",
        "               validation_data=(X_val, y_val),\n",
        "               #callbacks=[EarlyStopping(monitor='val_loss',min_delta=0.0001)]\n",
        "          )\n",
        "#TIME: 48min 23s"
      ],
      "metadata": {
        "pycharm": {
          "name": "#%%\n",
          "is_executing": true
        },
        "id": "_ZxfltqFvClR",
        "colab": {
          "base_uri": "https://localhost:8080/"
        },
        "outputId": "6f957411-57e3-4893-f7a5-c4b8c930e191"
      }
    },
    {
      "cell_type": "markdown",
      "source": [
        "#SAVE MODEL AS PICKLE FILE: "
      ],
      "metadata": {
        "id": "8Du0DgvipdoP"
      }
    },
    {
      "cell_type": "code",
      "source": [
        "import pickle\n",
        "pickle.dump(lstm_model, open(\"lstm_model_merged_data.pkl\", \"wb\"))"
      ],
      "metadata": {
        "colab": {
          "base_uri": "https://localhost:8080/"
        },
        "id": "iTmglDPMpcpt",
        "outputId": "3d36b709-72e4-4e9b-f8c6-601a6a44e34e"
      },
      "execution_count": 59,
      "outputs": [
        {
          "output_type": "stream",
          "name": "stderr",
          "text": [
            "WARNING:absl:Found untraced functions such as lstm_cell_1_layer_call_fn, lstm_cell_1_layer_call_and_return_conditional_losses while saving (showing 2 of 2). These functions will not be directly callable after loading.\n"
          ]
        },
        {
          "output_type": "stream",
          "name": "stdout",
          "text": [
            "INFO:tensorflow:Assets written to: ram://21a10584-8e4d-46b2-9c6f-bb285dd962b4/assets\n"
          ]
        },
        {
          "output_type": "stream",
          "name": "stderr",
          "text": [
            "INFO:tensorflow:Assets written to: ram://21a10584-8e4d-46b2-9c6f-bb285dd962b4/assets\n",
            "WARNING:absl:<keras.layers.recurrent.LSTMCell object at 0x7f4e99ec1b10> has the same name 'LSTMCell' as a built-in Keras object. Consider renaming <class 'keras.layers.recurrent.LSTMCell'> to avoid naming conflicts when loading with `tf.keras.models.load_model`. If renaming is not possible, pass the object in the `custom_objects` parameter of the load function.\n"
          ]
        }
      ]
    },
    {
      "cell_type": "markdown",
      "source": [
        "#Evaluation: "
      ],
      "metadata": {
        "id": "cAddS0bpYdz0"
      }
    },
    {
      "cell_type": "code",
      "execution_count": 60,
      "outputs": [],
      "source": [
        "#scores = lstm_model.evaluate(X_test, y_test, verbose=0)\n",
        "#print(\"Test Accuracy: %.2f%%\" % (scores[1]*100))"
      ],
      "metadata": {
        "pycharm": {
          "name": "#%%\n"
        },
        "id": "oocj-UHevClR"
      }
    },
    {
      "cell_type": "code",
      "source": [
        "y_pred = lstm_model.predict(X_test)\n",
        "y_pred = y_pred.flatten() \n",
        "y_pred = np.where(y_pred > 0.5, 1, 0) #Why? \n",
        "\n",
        "#y_test = y_test.to_numpy()\n",
        "#Time: 1min 30s"
      ],
      "metadata": {
        "id": "obqWDrOVc0sd"
      },
      "execution_count": 61,
      "outputs": []
    },
    {
      "cell_type": "markdown",
      "source": [
        "Confusion Matrix: "
      ],
      "metadata": {
        "id": "RWwp2UIYeK44"
      }
    },
    {
      "cell_type": "code",
      "source": [
        "from sklearn.utils import check_matplotlib_support\n",
        "from sklearn.utils.validation import check_memory\n",
        "from sklearn.metrics import confusion_matrix, classification_report"
      ],
      "metadata": {
        "id": "5xmarFF2dWqT"
      },
      "execution_count": 62,
      "outputs": []
    },
    {
      "cell_type": "code",
      "source": [
        "cr = classification_report(y_test, y_pred)\n",
        "print(cr)"
      ],
      "metadata": {
        "colab": {
          "base_uri": "https://localhost:8080/"
        },
        "id": "nwqs2jKBnw5V",
        "outputId": "d0598b5b-f1e4-4170-e54b-219860aa5236"
      },
      "execution_count": 63,
      "outputs": [
        {
          "output_type": "stream",
          "name": "stdout",
          "text": [
            "              precision    recall  f1-score   support\n",
            "\n",
            "           0       0.96      0.97      0.97      5149\n",
            "           1       0.97      0.96      0.97      5220\n",
            "\n",
            "    accuracy                           0.97     10369\n",
            "   macro avg       0.97      0.97      0.97     10369\n",
            "weighted avg       0.97      0.97      0.97     10369\n",
            "\n"
          ]
        }
      ]
    },
    {
      "cell_type": "code",
      "source": [
        "cm = confusion_matrix(y_test, y_pred)\n",
        "sns.heatmap(cm, annot=True, fmt='d')\n",
        "plt.xlabel('Predicted')\n",
        "plt.ylabel('Actual')\n",
        "plt.savefig('cm.png')\n",
        "plt.show()"
      ],
      "metadata": {
        "colab": {
          "base_uri": "https://localhost:8080/",
          "height": 282
        },
        "id": "LRWJkrnQeO7p",
        "outputId": "702c27f5-9b54-4157-ee32-96b69e8c76ea"
      },
      "execution_count": 64,
      "outputs": [
        {
          "output_type": "display_data",
          "data": {
            "text/plain": [
              "<Figure size 432x288 with 2 Axes>"
            ],
            "image/png": "[encoded data removed]"
          },
          "metadata": {}
        }
      ]
    },
    {
      "cell_type": "markdown",
      "source": [
        "Loss:"
      ],
      "metadata": {
        "id": "pVD9RuLnfK1g"
      }
    },
    {
      "cell_type": "code",
      "source": [
        "#epochs = range(1, num_epochs+1)\n",
        "plt.plot(history.history['loss'], 'g', label='Training loss')\n",
        "plt.plot(history.history['val_loss'], 'b', label='validation loss')\n",
        "plt.title('Training and Validation loss')\n",
        "plt.xlabel('Epochs')\n",
        "plt.ylabel('Loss')\n",
        "plt.legend()\n",
        "plt.savefig('loss.png')\n",
        "plt.show()"
      ],
      "metadata": {
        "colab": {
          "base_uri": "https://localhost:8080/",
          "height": 295
        },
        "id": "9iKy5ovqfNT3",
        "outputId": "77bc6419-0e45-4f95-be66-c219832d0e7b"
      },
      "execution_count": 65,
      "outputs": [
        {
          "output_type": "display_data",
          "data": {
            "text/plain": [
              "<Figure size 432x288 with 1 Axes>"
            ],
            "image/png": "[encoded data removed]"
          },
          "metadata": {}
        }
      ]
    },
    {
      "cell_type": "markdown",
      "source": [
        "Accuracy: "
      ],
      "metadata": {
        "id": "awIY0HaufQaW"
      }
    },
    {
      "cell_type": "code",
      "source": [
        "plt.plot( history.history['accuracy'], 'g', label='Training accuracy')\n",
        "plt.plot(history.history['val_accuracy'], 'b', label='validation accuracy')\n",
        "plt.title('Training and Validation accuracy')\n",
        "plt.xlabel('Epochs')\n",
        "plt.ylabel('accuracy')\n",
        "plt.legend()\n",
        "plt.savefig('accuracy.png')\n",
        "plt.show()"
      ],
      "metadata": {
        "colab": {
          "base_uri": "https://localhost:8080/",
          "height": 295
        },
        "id": "TfNfgJQ7fV_X",
        "outputId": "b2a259fa-612c-4337-a160-bfcffc05665b"
      },
      "execution_count": 66,
      "outputs": [
        {
          "output_type": "display_data",
          "data": {
            "text/plain": [
              "<Figure size 432x288 with 1 Axes>"
            ],
            "image/png": "[encoded data removed]"
          },
          "metadata": {}
        }
      ]
    },
    {
      "cell_type": "markdown",
      "source": [
        "Precission:"
      ],
      "metadata": {
        "id": "KyP4gjojfOJG"
      }
    },
    {
      "cell_type": "code",
      "source": [
        "print(history.history.keys())"
      ],
      "metadata": {
        "id": "LtydTXu1lqf1"
      },
      "execution_count": null,
      "outputs": []
    },
    {
      "cell_type": "code",
      "source": [
        "#FAILS since 'precision' is not stored in history anymore ?!\n",
        "epochs = range(1, num_epochs+1)\n",
        "plt.plot(history.history['precision'], 'g', label='Training precision')\n",
        "plt.plot(history.history['val_precision'], 'b', label='validation precision')\n",
        "plt.title('Training and Validation precision')\n",
        "plt.xlabel('Epochs')\n",
        "plt.ylabel('precision')\n",
        "plt.legend()\n",
        "plt.savefig('precission.png')\n",
        "plt.show()"
      ],
      "metadata": {
        "id": "XfwXjdOPfTe3"
      },
      "execution_count": null,
      "outputs": []
    }
  ],
  "metadata": {
    "kernelspec": {
      "display_name": "Python 3",
      "language": "python",
      "name": "python3"
    },
    "language_info": {
      "codemirror_mode": {
        "name": "ipython",
        "version": 2
      },
      "file_extension": ".py",
      "mimetype": "text/x-python",
      "name": "python",
      "nbconvert_exporter": "python",
      "pygments_lexer": "ipython2",
      "version": "2.7.6"
    },
    "colab": {
      "name": "lstm.ipynb",
      "provenance": [],
      "collapsed_sections": []
    },
    "accelerator": "GPU"
  },
  "nbformat": 4,
  "nbformat_minor": 0
}