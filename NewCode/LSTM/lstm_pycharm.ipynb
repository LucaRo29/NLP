{
 "cells": [
  {
   "cell_type": "markdown",
   "source": [
    "Tutorial: https://www.analyticsvidhya.com/blog/2021/05/sms-spam-detection-using-lstm-a-hands-on-guide/"
   ],
   "metadata": {
    "collapsed": false,
    "id": "ZJA3K7rUvClM"
   }
  },
  {
   "cell_type": "code",
   "execution_count": 167,
   "metadata": {
    "collapsed": true,
    "id": "A6nQRfGEvClN"
   },
   "outputs": [],
   "source": [
    "import pandas as pd\n",
    "import matplotlib.pyplot as plt\n",
    "plt.style.use('dark_background')\n",
    "import warnings\n",
    "warnings.simplefilter(action='ignore', category=Warning)\n",
    "from keras.layers import Dense, Embedding, LSTM, Dropout\n",
    "from keras.models import Sequential\n",
    "from keras.preprocessing.text import Tokenizer\n",
    "from keras.preprocessing.sequence import pad_sequences\n",
    "import numpy as np\n",
    "import tensorflow as tf"
   ]
  },
  {
   "cell_type": "markdown",
   "source": [
    "Unpreprocessed file: merged_cleaned.csv\n",
    "(not executable on Colab beacause of to little RAM, not executable on own machine since it takes for ever...)"
   ],
   "metadata": {
    "collapsed": false
   }
  },
  {
   "cell_type": "code",
   "execution_count": 168,
   "outputs": [],
   "source": [
    "image_folder = 'Images/lstm_SMS_preprocessed/LSTM_SMS_'\n",
    "data_path = '../../Data/preprocessed/spam_preprocessed.csv'"
   ],
   "metadata": {
    "collapsed": false,
    "pycharm": {
     "name": "#%%\n"
    }
   }
  },
  {
   "cell_type": "markdown",
   "source": [
    "enron_prep.csv:"
   ],
   "metadata": {
    "collapsed": false
   }
  },
  {
   "cell_type": "code",
   "execution_count": 100,
   "outputs": [],
   "source": [
    "image_folder = 'Images/lstm_enron_preprocessed/LSTM_ENRON_'\n",
    "data_path = '../../Data/preprocessed/enron_preprocessed.csv'"
   ],
   "metadata": {
    "collapsed": false,
    "pycharm": {
     "name": "#%%\n"
    }
   }
  },
  {
   "cell_type": "markdown",
   "source": [
    "#MAIN:"
   ],
   "metadata": {
    "collapsed": false
   }
  },
  {
   "cell_type": "code",
   "execution_count": 169,
   "outputs": [
    {
     "name": "stdout",
     "output_type": "stream",
     "text": [
      "reading file:  ../../Data/preprocessed/spam_preprocessed.csv\n"
     ]
    },
    {
     "data": {
      "text/plain": "   label                                               text\n0      0  go jurong point avail bugi n great world la e ...\n1      0                              ok lar joke wif u oni\n2      1  free entri wkli comp win fa cup final tkt may ...\n3      0                u dun say earli hor u c alreadi say\n4      0               nah think goe usf live around though",
      "text/html": "<div>\n<style scoped>\n    .dataframe tbody tr th:only-of-type {\n        vertical-align: middle;\n    }\n\n    .dataframe tbody tr th {\n        vertical-align: top;\n    }\n\n    .dataframe thead th {\n        text-align: right;\n    }\n</style>\n<table border=\"1\" class=\"dataframe\">\n  <thead>\n    <tr style=\"text-align: right;\">\n      <th></th>\n      <th>label</th>\n      <th>text</th>\n    </tr>\n  </thead>\n  <tbody>\n    <tr>\n      <th>0</th>\n      <td>0</td>\n      <td>go jurong point avail bugi n great world la e ...</td>\n    </tr>\n    <tr>\n      <th>1</th>\n      <td>0</td>\n      <td>ok lar joke wif u oni</td>\n    </tr>\n    <tr>\n      <th>2</th>\n      <td>1</td>\n      <td>free entri wkli comp win fa cup final tkt may ...</td>\n    </tr>\n    <tr>\n      <th>3</th>\n      <td>0</td>\n      <td>u dun say earli hor u c alreadi say</td>\n    </tr>\n    <tr>\n      <th>4</th>\n      <td>0</td>\n      <td>nah think goe usf live around though</td>\n    </tr>\n  </tbody>\n</table>\n</div>"
     },
     "execution_count": 169,
     "metadata": {},
     "output_type": "execute_result"
    }
   ],
   "source": [
    "print(\"reading file: \", data_path)\n",
    "df = pd.read_csv(data_path, encoding = \"latin-1\")\n",
    "df.head()"
   ],
   "metadata": {
    "pycharm": {
     "name": "#%%\n"
    },
    "id": "xDIV1NycvClO",
    "colab": {
     "base_uri": "https://localhost:8080/",
     "height": 206
    },
    "outputId": "c799fde2-f3d0-46fa-8628-c633e60abaad"
   }
  },
  {
   "cell_type": "code",
   "execution_count": 170,
   "outputs": [
    {
     "data": {
      "text/plain": "(5157, 2)"
     },
     "execution_count": 170,
     "metadata": {},
     "output_type": "execute_result"
    }
   ],
   "source": [
    "df.shape"
   ],
   "metadata": {
    "pycharm": {
     "name": "#%%\n"
    },
    "id": "WNbu-9SovClO",
    "colab": {
     "base_uri": "https://localhost:8080/"
    },
    "outputId": "a01d636e-c2ca-4e28-8a48-283faca1bf84"
   }
  },
  {
   "cell_type": "markdown",
   "source": [
    "#Drop Null values:\n",
    "Somehow it did not work to drop NULL values in preprocessing... Out of any reason there are some null falues in the data after reading the CSV even though they have not been there before writing the CSV file in the preprocessing skript!"
   ],
   "metadata": {
    "collapsed": false,
    "pycharm": {
     "name": "#%% md\n"
    },
    "id": "VAVSp0djvClP"
   }
  },
  {
   "cell_type": "code",
   "execution_count": 171,
   "outputs": [
    {
     "data": {
      "text/plain": "label     0\ntext     15\ndtype: int64"
     },
     "execution_count": 171,
     "metadata": {},
     "output_type": "execute_result"
    }
   ],
   "source": [
    "df.isnull().sum()"
   ],
   "metadata": {
    "pycharm": {
     "name": "#%%\n"
    },
    "id": "fmJD54WmvClP",
    "colab": {
     "base_uri": "https://localhost:8080/"
    },
    "outputId": "6b1c46d3-b663-41a2-f6f9-46290a30adc9"
   }
  },
  {
   "cell_type": "code",
   "execution_count": 172,
   "outputs": [
    {
     "data": {
      "text/plain": "label    0\ntext     0\ndtype: int64"
     },
     "execution_count": 172,
     "metadata": {},
     "output_type": "execute_result"
    }
   ],
   "source": [
    "df.dropna(inplace=True)\n",
    "df.isnull().sum()"
   ],
   "metadata": {
    "pycharm": {
     "name": "#%%\n"
    },
    "id": "QdX6u0tHvClP",
    "colab": {
     "base_uri": "https://localhost:8080/"
    },
    "outputId": "3661c4f9-3643-413c-f0bb-7356261b6b3d"
   }
  },
  {
   "cell_type": "markdown",
   "source": [
    "#Balancing Dataset: "
   ],
   "metadata": {
    "id": "m3KaY1nbQm7B"
   }
  },
  {
   "cell_type": "code",
   "source": [
    "df_spam = df[df['label'] == 1]\n",
    "df_ham  = df[df['label'] == 0]\n",
    "print(\"Ham Dataset Shape:\", df_ham.shape)\n",
    "print(\"Spam Dataset Shape:\", df_spam.shape)\n"
   ],
   "metadata": {
    "colab": {
     "base_uri": "https://localhost:8080/"
    },
    "id": "4Ht8QCjTQmq-",
    "outputId": "5db8683c-c26a-485e-8b82-04f30e80b2af"
   },
   "execution_count": 173,
   "outputs": [
    {
     "name": "stdout",
     "output_type": "stream",
     "text": [
      "Ham Dataset Shape: (4502, 2)\n",
      "Spam Dataset Shape: (640, 2)\n"
     ]
    }
   ]
  },
  {
   "cell_type": "code",
   "source": [
    "df_ham_downsampled = df_ham.sample(df_spam.shape[0])\n",
    "df_ham_downsampled.shape"
   ],
   "metadata": {
    "colab": {
     "base_uri": "https://localhost:8080/"
    },
    "id": "ZdqeusHKRz4X",
    "outputId": "978a246a-081f-4a81-b787-4e36268c8104"
   },
   "execution_count": 174,
   "outputs": [
    {
     "data": {
      "text/plain": "(640, 2)"
     },
     "execution_count": 174,
     "metadata": {},
     "output_type": "execute_result"
    }
   ]
  },
  {
   "cell_type": "code",
   "source": [
    "df = pd.concat([df_spam, df_ham_downsampled])"
   ],
   "metadata": {
    "id": "BaSrK06wSGnz"
   },
   "execution_count": 175,
   "outputs": []
  },
  {
   "cell_type": "code",
   "source": [
    "import seaborn as sns\n",
    "sns.countplot(x=df[\"label\"])"
   ],
   "metadata": {
    "colab": {
     "base_uri": "https://localhost:8080/",
     "height": 296
    },
    "id": "C6LB2EOtQmE0",
    "outputId": "5babe95c-341a-438b-b3b9-9b659b84d247"
   },
   "execution_count": 176,
   "outputs": [
    {
     "data": {
      "text/plain": "<AxesSubplot:xlabel='label', ylabel='count'>"
     },
     "execution_count": 176,
     "metadata": {},
     "output_type": "execute_result"
    },
    {
     "data": {
      "text/plain": "<Figure size 640x480 with 1 Axes>",
      "image/png": "[encoded data removed]"
     },
     "metadata": {},
     "output_type": "display_data"
    }
   ]
  },
  {
   "cell_type": "markdown",
   "source": [
    "#Convert tokens into a numerical sequence:"
   ],
   "metadata": {
    "collapsed": false,
    "id": "-PwM1PK8vClP"
   }
  },
  {
   "cell_type": "code",
   "execution_count": 177,
   "outputs": [],
   "source": [
    "X=df[\"text\"]\n",
    "#X=df[\"transformed_text\"]\n",
    "tokenizer = Tokenizer() #initializing the tokenizer\n",
    "tokenizer.fit_on_texts(X)# fitting on the sms data\n",
    "text_to_sequence = tokenizer.texts_to_sequences(X) # creating the numerical sequence"
   ],
   "metadata": {
    "pycharm": {
     "name": "#%%\n"
    },
    "id": "ZFyLdSkpvClP"
   }
  },
  {
   "cell_type": "code",
   "execution_count": 178,
   "outputs": [],
   "source": [
    "#tokenizer.index_word"
   ],
   "metadata": {
    "pycharm": {
     "name": "#%%\n"
    },
    "id": "_TS4CgdtvClP"
   }
  },
  {
   "cell_type": "code",
   "execution_count": 179,
   "outputs": [
    {
     "data": {
      "text/plain": "2731"
     },
     "execution_count": 179,
     "metadata": {},
     "output_type": "execute_result"
    }
   ],
   "source": [
    "len(tokenizer.index_word)"
   ],
   "metadata": {
    "pycharm": {
     "name": "#%%\n"
    },
    "id": "fYxEkluSvClP",
    "colab": {
     "base_uri": "https://localhost:8080/"
    },
    "outputId": "709dd805-2ac2-4c6c-fe31-247e80e3e05a"
   }
  },
  {
   "cell_type": "markdown",
   "source": [
    "We do have 130427 unique words!"
   ],
   "metadata": {
    "collapsed": false,
    "id": "Xuaow7ojvClQ"
   }
  },
  {
   "cell_type": "code",
   "execution_count": 180,
   "outputs": [],
   "source": [
    "#for i in range(3):\n",
    "#        print(\"Text               : \",X[i] )\n",
    "#        print(\"Numerical Sequence : \", text_to_sequence[i])\n",
    "\n",
    "#Depending on the data this could fail since the index 0..2 could have been dropped in balancing the data! "
   ],
   "metadata": {
    "pycharm": {
     "name": "#%%\n"
    },
    "id": "p2b0ILkevClQ"
   }
  },
  {
   "cell_type": "markdown",
   "source": [
    "#Normalization:\n",
    "Since all the messages are of different lengths also the sequences are of different length, so we have to padding the sequences with 0 to get equal length. Otherwise the sequences would not be compatible for the model!"
   ],
   "metadata": {
    "collapsed": false,
    "id": "7Mi1NXxUvClQ"
   }
  },
  {
   "cell_type": "code",
   "execution_count": 183,
   "outputs": [
    {
     "data": {
      "text/plain": "array([[   0,    0,    0, ...,   81,   28,   94],\n       [   0,    0,    0, ...,  858,   14,  859],\n       [   0,    0,    0, ...,   82,  124,  222],\n       ...,\n       [   0,    0,    0, ...,  301,  244,  285],\n       [   0,    0,    0, ...,   16,  370, 1094],\n       [   0,    0,    0, ..., 2731,   49,  348]], dtype=int32)"
     },
     "execution_count": 183,
     "metadata": {},
     "output_type": "execute_result"
    }
   ],
   "source": [
    "max_length_sequence = max([len(i) for i in text_to_sequence]) # finding the length of largest sequence\n",
    "padded_sequence = pad_sequences(text_to_sequence, maxlen=max_length_sequence, padding = \"pre\")\n",
    "padded_sequence"
   ],
   "metadata": {
    "pycharm": {
     "name": "#%%\n"
    },
    "id": "c0m_ZlcCvClQ",
    "colab": {
     "base_uri": "https://localhost:8080/"
    },
    "outputId": "cc3c53ae-4317-4d02-f98d-a62a6edb2f19"
   }
  },
  {
   "cell_type": "markdown",
   "source": [
    "The longest Sentence exists of 501"
   ],
   "metadata": {
    "collapsed": false,
    "id": "OPqRZlTXvClQ"
   }
  },
  {
   "cell_type": "code",
   "source": [
    "print(\"shape\",len(padded_sequence), \"rows x \",len(padded_sequence[0]),\"cols\")"
   ],
   "metadata": {
    "id": "goO7LQ0lTTVs",
    "colab": {
     "base_uri": "https://localhost:8080/"
    },
    "outputId": "b70b09ec-33f0-40c9-e38f-64469d8e4db7"
   },
   "execution_count": 184,
   "outputs": [
    {
     "name": "stdout",
     "output_type": "stream",
     "text": [
      "shape 1280 rows x  45 cols\n"
     ]
    }
   ]
  },
  {
   "cell_type": "markdown",
   "source": [
    "#Create LSTM Model:"
   ],
   "metadata": {
    "collapsed": false,
    "id": "XZhSzVfzvClQ"
   }
  },
  {
   "cell_type": "code",
   "execution_count": 185,
   "outputs": [
    {
     "name": "stdout",
     "output_type": "stream",
     "text": [
      "Model: \"sequential_5\"\n",
      "_________________________________________________________________\n",
      " Layer (type)                Output Shape              Param #   \n",
      "=================================================================\n",
      " embedding_5 (Embedding)     (None, 45, 32)            87424     \n",
      "                                                                 \n",
      " lstm_5 (LSTM)               (None, 100)               53200     \n",
      "                                                                 \n",
      " dropout_10 (Dropout)        (None, 100)               0         \n",
      "                                                                 \n",
      " dense_10 (Dense)            (None, 20)                2020      \n",
      "                                                                 \n",
      " dropout_11 (Dropout)        (None, 20)                0         \n",
      "                                                                 \n",
      " dense_11 (Dense)            (None, 1)                 21        \n",
      "                                                                 \n",
      "=================================================================\n",
      "Total params: 142,665\n",
      "Trainable params: 142,665\n",
      "Non-trainable params: 0\n",
      "_________________________________________________________________\n"
     ]
    }
   ],
   "source": [
    "TOT_SIZE = len(tokenizer.word_index)+1\n",
    "\n",
    "\n",
    "def create_model():\n",
    "      lstm_model = Sequential()\n",
    "      lstm_model.add(Embedding(TOT_SIZE, 32, input_length=max_length_sequence))\n",
    "      lstm_model.add(LSTM(100))\n",
    "      lstm_model.add(Dropout(0.4))\n",
    "      lstm_model.add(Dense(20, activation=\"relu\"))\n",
    "\n",
    "      lstm_model.add(Dropout(0.3))\n",
    "      lstm_model.add(Dense(1, activation = \"sigmoid\"))\n",
    "      return lstm_model\n",
    "\n",
    "Metrics = [tf.keras.metrics.BinaryAccuracy(name='accuracy'),\n",
    "           tf.keras.metrics.Precision(name='precision'),\n",
    "           tf.keras.metrics.Recall(name='recall')\n",
    "           ]\n",
    "\n",
    "lstm_model = create_model()\n",
    "lstm_model.compile(loss = \"binary_crossentropy\", optimizer = \"adam\", metrics=Metrics)\n",
    "\n",
    "lstm_model.summary()"
   ],
   "metadata": {
    "pycharm": {
     "name": "#%%\n"
    },
    "id": "90IOL8zevClQ",
    "colab": {
     "base_uri": "https://localhost:8080/"
    },
    "outputId": "47f3b5a3-9f37-4aa3-d2d2-bd17c52cf67c"
   }
  },
  {
   "cell_type": "markdown",
   "source": [
    "#Train Test Validation Split"
   ],
   "metadata": {
    "collapsed": false,
    "id": "lpx-FVILvClR"
   }
  },
  {
   "cell_type": "code",
   "execution_count": 186,
   "outputs": [],
   "source": [
    "from sklearn.model_selection import train_test_split\n",
    "X=padded_sequence\n",
    "y=df[\"label\"]\n",
    "X_train, X_val,  y_train, y_val  = train_test_split(X, y, test_size=0.7, random_state=42)\n",
    "X_val,   X_test, y_val,   y_test = train_test_split(X_val, y_val, train_size=0.5)"
   ],
   "metadata": {
    "pycharm": {
     "name": "#%%\n"
    },
    "id": "WrFgOFTIvClR"
   }
  },
  {
   "cell_type": "markdown",
   "source": [
    "#Train the model: "
   ],
   "metadata": {
    "id": "HAxE5I3HYXE3"
   }
  },
  {
   "cell_type": "code",
   "execution_count": 187,
   "outputs": [
    {
     "name": "stdout",
     "output_type": "stream",
     "text": [
      "Epoch 1/100\n",
      "12/12 [==============================] - 2s 45ms/step - loss: 0.6795 - accuracy: 0.5547 - precision: 0.6364 - recall: 0.0402 - val_loss: 0.6719 - val_accuracy: 0.4866 - val_precision: 0.0000e+00 - val_recall: 0.0000e+00\n",
      "Epoch 2/100\n",
      "12/12 [==============================] - 0s 22ms/step - loss: 0.6323 - accuracy: 0.5807 - precision: 1.0000 - recall: 0.0747 - val_loss: 0.5961 - val_accuracy: 0.7411 - val_precision: 0.9672 - val_recall: 0.5130\n",
      "Epoch 3/100\n",
      "12/12 [==============================] - 0s 22ms/step - loss: 0.5426 - accuracy: 0.8516 - precision: 0.9209 - recall: 0.7356 - val_loss: 0.4931 - val_accuracy: 0.8594 - val_precision: 0.9239 - val_recall: 0.7913\n",
      "Epoch 4/100\n",
      "12/12 [==============================] - 0s 21ms/step - loss: 0.3965 - accuracy: 0.9115 - precision: 0.9667 - recall: 0.8333 - val_loss: 0.3371 - val_accuracy: 0.9018 - val_precision: 0.9604 - val_recall: 0.8435\n",
      "Epoch 5/100\n",
      "12/12 [==============================] - 0s 22ms/step - loss: 0.2450 - accuracy: 0.9271 - precision: 0.9398 - recall: 0.8966 - val_loss: 0.2859 - val_accuracy: 0.9286 - val_precision: 0.9670 - val_recall: 0.8913\n",
      "Epoch 6/100\n",
      "12/12 [==============================] - 0s 21ms/step - loss: 0.1667 - accuracy: 0.9844 - precision: 0.9941 - recall: 0.9713 - val_loss: 0.1979 - val_accuracy: 0.9196 - val_precision: 0.9802 - val_recall: 0.8609\n",
      "Epoch 7/100\n",
      "12/12 [==============================] - 0s 21ms/step - loss: 0.0718 - accuracy: 0.9870 - precision: 0.9884 - recall: 0.9828 - val_loss: 0.1793 - val_accuracy: 0.9353 - val_precision: 0.9170 - val_recall: 0.9609\n",
      "Epoch 8/100\n",
      "12/12 [==============================] - 0s 21ms/step - loss: 0.0621 - accuracy: 0.9896 - precision: 0.9942 - recall: 0.9828 - val_loss: 0.1421 - val_accuracy: 0.9509 - val_precision: 0.9602 - val_recall: 0.9435\n",
      "Epoch 9/100\n",
      "12/12 [==============================] - 0s 22ms/step - loss: 0.0415 - accuracy: 0.9922 - precision: 1.0000 - recall: 0.9828 - val_loss: 0.1573 - val_accuracy: 0.9442 - val_precision: 0.9680 - val_recall: 0.9217\n",
      "Epoch 10/100\n",
      "12/12 [==============================] - 0s 22ms/step - loss: 0.0323 - accuracy: 0.9948 - precision: 1.0000 - recall: 0.9885 - val_loss: 0.1832 - val_accuracy: 0.9353 - val_precision: 0.9351 - val_recall: 0.9391\n",
      "Epoch 11/100\n",
      "12/12 [==============================] - 0s 23ms/step - loss: 0.0175 - accuracy: 0.9974 - precision: 1.0000 - recall: 0.9943 - val_loss: 0.1919 - val_accuracy: 0.9330 - val_precision: 0.9348 - val_recall: 0.9348\n",
      "Epoch 12/100\n",
      "12/12 [==============================] - 0s 22ms/step - loss: 0.0196 - accuracy: 0.9974 - precision: 1.0000 - recall: 0.9943 - val_loss: 0.2041 - val_accuracy: 0.9308 - val_precision: 0.9307 - val_recall: 0.9348\n",
      "Epoch 13/100\n",
      "12/12 [==============================] - 0s 23ms/step - loss: 0.0071 - accuracy: 1.0000 - precision: 1.0000 - recall: 1.0000 - val_loss: 0.2065 - val_accuracy: 0.9375 - val_precision: 0.9633 - val_recall: 0.9130\n",
      "Epoch 14/100\n",
      "12/12 [==============================] - 0s 22ms/step - loss: 0.0160 - accuracy: 0.9922 - precision: 0.9942 - recall: 0.9885 - val_loss: 0.2199 - val_accuracy: 0.9263 - val_precision: 0.9156 - val_recall: 0.9435\n",
      "Epoch 15/100\n",
      "12/12 [==============================] - 0s 22ms/step - loss: 0.0072 - accuracy: 0.9974 - precision: 1.0000 - recall: 0.9943 - val_loss: 0.2185 - val_accuracy: 0.9353 - val_precision: 0.9277 - val_recall: 0.9478\n",
      "Epoch 16/100\n",
      "12/12 [==============================] - 0s 22ms/step - loss: 0.0075 - accuracy: 1.0000 - precision: 1.0000 - recall: 1.0000 - val_loss: 0.2437 - val_accuracy: 0.9330 - val_precision: 0.9237 - val_recall: 0.9478\n",
      "Epoch 17/100\n",
      "12/12 [==============================] - 0s 22ms/step - loss: 0.0194 - accuracy: 0.9974 - precision: 1.0000 - recall: 0.9943 - val_loss: 0.2410 - val_accuracy: 0.9286 - val_precision: 0.9231 - val_recall: 0.9391\n",
      "Epoch 18/100\n",
      " 9/12 [=====================>........] - ETA: 0s - loss: 0.0068 - accuracy: 0.9965 - precision: 1.0000 - recall: 0.9922Restoring model weights from the end of the best epoch: 13.\n",
      "12/12 [==============================] - 0s 22ms/step - loss: 0.0068 - accuracy: 0.9974 - precision: 1.0000 - recall: 0.9943 - val_loss: 0.2509 - val_accuracy: 0.9353 - val_precision: 0.9674 - val_recall: 0.9043\n",
      "Epoch 00018: early stopping\n"
     ]
    }
   ],
   "source": [
    "from keras.callbacks import EarlyStopping\n",
    "\n",
    "num_epochs = 100 #10!\n",
    "\n",
    "es = EarlyStopping(patience=5, verbose=1, min_delta=0.001, monitor='loss', mode='auto',\n",
    "                       restore_best_weights=True)\n",
    "\n",
    "history = lstm_model.fit(\n",
    "               X_train ,\n",
    "               y_train,\n",
    "               epochs=num_epochs,\n",
    "               validation_data=(X_val, y_val),\n",
    "                callbacks=[es]\n",
    "               #callbacks=[EarlyStopping(monitor='val_loss',min_delta=0.0001)]\n",
    "          )"
   ],
   "metadata": {
    "pycharm": {
     "name": "#%%\n"
    },
    "id": "_ZxfltqFvClR",
    "colab": {
     "base_uri": "https://localhost:8080/"
    },
    "outputId": "5c64858b-203d-4997-f0b8-3b3b046a1f79"
   }
  },
  {
   "cell_type": "markdown",
   "source": [
    "#SAVE MODEL AS PICKLE FILE: "
   ],
   "metadata": {
    "id": "8Du0DgvipdoP"
   }
  },
  {
   "cell_type": "code",
   "source": [
    "#import pickle\n",
    "#pickle.dump(lstm_model, open(\"lstm_model_1.pkl\", \"wb\"))"
   ],
   "metadata": {
    "colab": {
     "base_uri": "https://localhost:8080/"
    },
    "id": "iTmglDPMpcpt",
    "outputId": "f7ebb113-969e-48e3-a7d5-a8f237cd7509"
   },
   "execution_count": 188,
   "outputs": []
  },
  {
   "cell_type": "markdown",
   "source": [
    "#Evaluation: "
   ],
   "metadata": {
    "id": "cAddS0bpYdz0"
   }
  },
  {
   "cell_type": "code",
   "execution_count": 189,
   "outputs": [],
   "source": [
    "#scores = lstm_model.evaluate(X_test, y_test, verbose=0)\n",
    "#print(\"Test Accuracy: %.2f%%\" % (scores[1]*100))"
   ],
   "metadata": {
    "pycharm": {
     "name": "#%%\n"
    },
    "id": "oocj-UHevClR"
   }
  },
  {
   "cell_type": "code",
   "source": [
    "y_pred = lstm_model.predict(X_test)\n",
    "y_pred = y_pred.flatten() \n",
    "y_pred = np.where(y_pred > 0.5, 1, 0) #Why? \n",
    "\n",
    "#y_test = y_test.to_numpy()\n",
    "#Time: 1min 30s"
   ],
   "metadata": {
    "id": "obqWDrOVc0sd"
   },
   "execution_count": 190,
   "outputs": []
  },
  {
   "cell_type": "markdown",
   "source": [
    "Confusion Matrix: "
   ],
   "metadata": {
    "id": "RWwp2UIYeK44"
   }
  },
  {
   "cell_type": "code",
   "source": [
    "from sklearn.utils import check_matplotlib_support\n",
    "from sklearn.utils.validation import check_memory\n",
    "from sklearn.metrics import confusion_matrix, classification_report"
   ],
   "metadata": {
    "id": "5xmarFF2dWqT"
   },
   "execution_count": 191,
   "outputs": []
  },
  {
   "cell_type": "code",
   "source": [
    "cr = classification_report(y_test, y_pred)\n",
    "print(cr)"
   ],
   "metadata": {
    "colab": {
     "base_uri": "https://localhost:8080/"
    },
    "id": "nwqs2jKBnw5V",
    "outputId": "b176339b-e17f-49ca-df9b-67102dfe38b8"
   },
   "execution_count": 192,
   "outputs": [
    {
     "name": "stdout",
     "output_type": "stream",
     "text": [
      "              precision    recall  f1-score   support\n",
      "\n",
      "           0       0.91      0.95      0.93       212\n",
      "           1       0.96      0.92      0.94       236\n",
      "\n",
      "    accuracy                           0.93       448\n",
      "   macro avg       0.93      0.93      0.93       448\n",
      "weighted avg       0.93      0.93      0.93       448\n",
      "\n"
     ]
    }
   ]
  },
  {
   "cell_type": "code",
   "source": [
    "plt.style.use('default')\n",
    "cm = confusion_matrix(y_test, y_pred)\n",
    "sns.heatmap(cm, annot=True, fmt='d', xticklabels=[\"ham\", \"spam\"], yticklabels=[\"ham\", \"spam\"])\n",
    "plt.xlabel('Predicted')\n",
    "plt.ylabel('Actual')\n",
    "plt.savefig(image_folder+'cm.png')\n",
    "plt.show()"
   ],
   "metadata": {
    "colab": {
     "base_uri": "https://localhost:8080/",
     "height": 279
    },
    "id": "LRWJkrnQeO7p",
    "outputId": "b9b3e9c9-910f-464c-9f64-b560c9d8550f"
   },
   "execution_count": 193,
   "outputs": [
    {
     "data": {
      "text/plain": "<Figure size 640x480 with 2 Axes>",
      "image/png": "[encoded data removed]"
     },
     "metadata": {},
     "output_type": "display_data"
    }
   ]
  },
  {
   "cell_type": "markdown",
   "source": [
    "Loss:"
   ],
   "metadata": {
    "id": "pVD9RuLnfK1g"
   }
  },
  {
   "cell_type": "code",
   "source": [
    "best_epoch = es.best_epoch + 1\n",
    "\n",
    "#epochs = range(1, num_epochs+1)\n",
    "plt.plot(history.history['loss'], 'g', label='Training loss')\n",
    "plt.plot(history.history['val_loss'], 'b', label='Validation loss')\n",
    "plt.axvline(x=best_epoch, color='r', label='best_epoch')\n",
    "plt.title('Training and Validation Loss')\n",
    "plt.xlabel('Epochs')\n",
    "plt.ylabel('Loss')\n",
    "plt.legend()\n",
    "plt.savefig(image_folder+'loss.png')\n",
    "plt.show()"
   ],
   "metadata": {
    "colab": {
     "base_uri": "https://localhost:8080/",
     "height": 295
    },
    "id": "9iKy5ovqfNT3",
    "outputId": "b6a06796-2585-4377-b9ca-bfa6e94cc9a6"
   },
   "execution_count": 194,
   "outputs": [
    {
     "data": {
      "text/plain": "<Figure size 640x480 with 1 Axes>",
      "image/png": "[encoded data removed]"
     },
     "metadata": {},
     "output_type": "display_data"
    }
   ]
  },
  {
   "cell_type": "markdown",
   "source": [
    "Accuracy: "
   ],
   "metadata": {
    "id": "awIY0HaufQaW"
   }
  },
  {
   "cell_type": "code",
   "source": [
    "plt.plot( history.history['accuracy'], 'g', label='Training accuracy')\n",
    "plt.plot(history.history['val_accuracy'], 'b', label='validation accuracy')\n",
    "plt.axvline(x=best_epoch, color='r', label='best_epoch')\n",
    "plt.title('Training and Validation Accuracy')\n",
    "plt.xlabel('Epochs')\n",
    "plt.ylabel('accuracy')\n",
    "plt.legend()\n",
    "plt.savefig(image_folder+'accuracy.png')\n",
    "plt.show()"
   ],
   "metadata": {
    "colab": {
     "base_uri": "https://localhost:8080/",
     "height": 295
    },
    "id": "TfNfgJQ7fV_X",
    "outputId": "bfa5862e-197f-47be-a044-41e48088f199"
   },
   "execution_count": 195,
   "outputs": [
    {
     "data": {
      "text/plain": "<Figure size 640x480 with 1 Axes>",
      "image/png": "[encoded data removed]"
     },
     "metadata": {},
     "output_type": "display_data"
    }
   ]
  },
  {
   "cell_type": "markdown",
   "source": [
    "Precission:"
   ],
   "metadata": {
    "id": "KyP4gjojfOJG"
   }
  },
  {
   "cell_type": "code",
   "source": [
    "epochs = range(1, num_epochs+1)\n",
    "plt.plot(history.history['precision'], 'g', label='Training precision')\n",
    "plt.plot(history.history['val_precision'], 'b', label='validation precision')\n",
    "plt.axvline(x=best_epoch, color='r', label='best_epoch')\n",
    "plt.title('Training and Validation Precision')\n",
    "plt.xlabel('Epochs')\n",
    "plt.ylabel('precision')\n",
    "plt.legend()\n",
    "plt.savefig(image_folder+'precision.png')\n",
    "plt.show()"
   ],
   "metadata": {
    "colab": {
     "base_uri": "https://localhost:8080/",
     "height": 235
    },
    "id": "XfwXjdOPfTe3",
    "outputId": "4535d583-6af2-44fe-e3fc-ff485a273fc5"
   },
   "execution_count": 196,
   "outputs": [
    {
     "data": {
      "text/plain": "<Figure size 640x480 with 1 Axes>",
      "image/png": "[encoded data removed]"
     },
     "metadata": {},
     "output_type": "display_data"
    }
   ]
  },
  {
   "cell_type": "code",
   "execution_count": 196,
   "outputs": [],
   "source": [],
   "metadata": {
    "collapsed": false,
    "pycharm": {
     "name": "#%%\n"
    }
   }
  },
  {
   "cell_type": "code",
   "execution_count": 196,
   "outputs": [],
   "source": [],
   "metadata": {
    "collapsed": false,
    "pycharm": {
     "name": "#%%\n"
    }
   }
  },
  {
   "cell_type": "code",
   "execution_count": null,
   "outputs": [],
   "source": [],
   "metadata": {
    "collapsed": false,
    "pycharm": {
     "name": "#%%\n"
    }
   }
  }
 ],
 "metadata": {
  "kernelspec": {
   "display_name": "Python 3",
   "language": "python",
   "name": "python3"
  },
  "language_info": {
   "codemirror_mode": {
    "name": "ipython",
    "version": 2
   },
   "file_extension": ".py",
   "mimetype": "text/x-python",
   "name": "python",
   "nbconvert_exporter": "python",
   "pygments_lexer": "ipython2",
   "version": "2.7.6"
  },
  "colab": {
   "name": "lstm.ipynb",
   "provenance": [],
   "collapsed_sections": []
  },
  "accelerator": "GPU"
 },
 "nbformat": 4,
 "nbformat_minor": 0
}