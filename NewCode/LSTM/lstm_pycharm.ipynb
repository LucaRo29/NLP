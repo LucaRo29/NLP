{
 "cells": [
  {
   "cell_type": "markdown",
   "source": [
    "Tutorial: https://www.analyticsvidhya.com/blog/2021/05/sms-spam-detection-using-lstm-a-hands-on-guide/"
   ],
   "metadata": {
    "collapsed": false,
    "id": "ZJA3K7rUvClM"
   }
  },
  {
   "cell_type": "code",
   "execution_count": 85,
   "metadata": {
    "collapsed": true,
    "id": "A6nQRfGEvClN"
   },
   "outputs": [],
   "source": [
    "import pandas as pd\n",
    "import matplotlib.pyplot as plt\n",
    "plt.style.use('dark_background')\n",
    "import warnings\n",
    "warnings.simplefilter(action='ignore', category=Warning)\n",
    "from keras.layers import Dense, Embedding, LSTM, Dropout\n",
    "from keras.models import Sequential\n",
    "from keras.preprocessing.text import Tokenizer\n",
    "from keras.preprocessing.sequence import pad_sequences\n",
    "import numpy as np"
   ]
  },
  {
   "cell_type": "markdown",
   "source": [
    "dataset_elias_preprocessed.csv:"
   ],
   "metadata": {
    "collapsed": false
   }
  },
  {
   "cell_type": "code",
   "execution_count": null,
   "outputs": [],
   "source": [
    "image_folder = 'Images/lstm_dataset_elias_preprocessed/'\n",
    "data_path = '../../Data/preprocessed/dataset_elias_preprocessed.csv'\n",
    "image_title_info = '[dataset_elias_preprocessed.csv]: '"
   ],
   "metadata": {
    "collapsed": false,
    "pycharm": {
     "name": "#%%\n"
    }
   }
  },
  {
   "cell_type": "markdown",
   "source": [
    "enron_prep.csv:"
   ],
   "metadata": {
    "collapsed": false
   }
  },
  {
   "cell_type": "code",
   "execution_count": 86,
   "outputs": [],
   "source": [
    "image_folder = 'Images/lstm_enron_prep/'\n",
    "data_path = '../../Data/preprocessed/enron_prep.csv'\n",
    "image_title_info = '[enron_prep.csv]: '"
   ],
   "metadata": {
    "collapsed": false,
    "pycharm": {
     "name": "#%%\n"
    }
   }
  },
  {
   "cell_type": "code",
   "execution_count": 87,
   "outputs": [
    {
     "data": {
      "text/plain": "   label                                   transformed_text\n0      0    calpin daili ga nomin calpin daili ga nomin doc\n1      0  issu fyi see note alreadi done stella forward ...\n2      0  meter nov alloc fyi forward lauri allen hou ec...\n3      0  mcmullen ga jacki sinc inlet river plant shut ...\n4      0  meter jan georg need follow done jan zero rece...",
      "text/html": "<div>\n<style scoped>\n    .dataframe tbody tr th:only-of-type {\n        vertical-align: middle;\n    }\n\n    .dataframe tbody tr th {\n        vertical-align: top;\n    }\n\n    .dataframe thead th {\n        text-align: right;\n    }\n</style>\n<table border=\"1\" class=\"dataframe\">\n  <thead>\n    <tr style=\"text-align: right;\">\n      <th></th>\n      <th>label</th>\n      <th>transformed_text</th>\n    </tr>\n  </thead>\n  <tbody>\n    <tr>\n      <th>0</th>\n      <td>0</td>\n      <td>calpin daili ga nomin calpin daili ga nomin doc</td>\n    </tr>\n    <tr>\n      <th>1</th>\n      <td>0</td>\n      <td>issu fyi see note alreadi done stella forward ...</td>\n    </tr>\n    <tr>\n      <th>2</th>\n      <td>0</td>\n      <td>meter nov alloc fyi forward lauri allen hou ec...</td>\n    </tr>\n    <tr>\n      <th>3</th>\n      <td>0</td>\n      <td>mcmullen ga jacki sinc inlet river plant shut ...</td>\n    </tr>\n    <tr>\n      <th>4</th>\n      <td>0</td>\n      <td>meter jan georg need follow done jan zero rece...</td>\n    </tr>\n  </tbody>\n</table>\n</div>"
     },
     "execution_count": 87,
     "metadata": {},
     "output_type": "execute_result"
    }
   ],
   "source": [
    "df = pd.read_csv(data_path, encoding = \"latin-1\")\n",
    "df.head()"
   ],
   "metadata": {
    "pycharm": {
     "name": "#%%\n"
    },
    "id": "xDIV1NycvClO",
    "colab": {
     "base_uri": "https://localhost:8080/",
     "height": 206
    },
    "outputId": "c799fde2-f3d0-46fa-8628-c633e60abaad"
   }
  },
  {
   "cell_type": "code",
   "execution_count": 88,
   "outputs": [
    {
     "data": {
      "text/plain": "(23293, 2)"
     },
     "execution_count": 88,
     "metadata": {},
     "output_type": "execute_result"
    }
   ],
   "source": [
    "df.shape"
   ],
   "metadata": {
    "pycharm": {
     "name": "#%%\n"
    },
    "id": "WNbu-9SovClO",
    "colab": {
     "base_uri": "https://localhost:8080/"
    },
    "outputId": "a01d636e-c2ca-4e28-8a48-283faca1bf84"
   }
  },
  {
   "cell_type": "markdown",
   "source": [
    "#Drop Null values:\n",
    "Somehow it did not work to drop NULL values in preprocessing... Out of any reason there are some null falues in the data after reading the CSV even though they have not been there before writing the CSV file in the preprocessing skript!"
   ],
   "metadata": {
    "collapsed": false,
    "pycharm": {
     "name": "#%% md\n"
    },
    "id": "VAVSp0djvClP"
   }
  },
  {
   "cell_type": "code",
   "execution_count": 89,
   "outputs": [
    {
     "data": {
      "text/plain": "label               0\ntransformed_text    3\ndtype: int64"
     },
     "execution_count": 89,
     "metadata": {},
     "output_type": "execute_result"
    }
   ],
   "source": [
    "df.isnull().sum()"
   ],
   "metadata": {
    "pycharm": {
     "name": "#%%\n"
    },
    "id": "fmJD54WmvClP",
    "colab": {
     "base_uri": "https://localhost:8080/"
    },
    "outputId": "6b1c46d3-b663-41a2-f6f9-46290a30adc9"
   }
  },
  {
   "cell_type": "code",
   "execution_count": 90,
   "outputs": [
    {
     "data": {
      "text/plain": "label               0\ntransformed_text    0\ndtype: int64"
     },
     "execution_count": 90,
     "metadata": {},
     "output_type": "execute_result"
    }
   ],
   "source": [
    "df.dropna(inplace=True)\n",
    "df.isnull().sum()"
   ],
   "metadata": {
    "pycharm": {
     "name": "#%%\n"
    },
    "id": "QdX6u0tHvClP",
    "colab": {
     "base_uri": "https://localhost:8080/"
    },
    "outputId": "3661c4f9-3643-413c-f0bb-7356261b6b3d"
   }
  },
  {
   "cell_type": "markdown",
   "source": [
    "#Balancing Dataset: "
   ],
   "metadata": {
    "id": "m3KaY1nbQm7B"
   }
  },
  {
   "cell_type": "code",
   "source": [
    "df_spam = df[df['label'] == 1]\n",
    "df_ham  = df[df['label'] == 0]\n",
    "print(\"Ham Dataset Shape:\", df_ham.shape)\n",
    "print(\"Spam Dataset Shape:\", df_spam.shape)\n"
   ],
   "metadata": {
    "colab": {
     "base_uri": "https://localhost:8080/"
    },
    "id": "4Ht8QCjTQmq-",
    "outputId": "5db8683c-c26a-485e-8b82-04f30e80b2af"
   },
   "execution_count": 91,
   "outputs": [
    {
     "name": "stdout",
     "output_type": "stream",
     "text": [
      "Ham Dataset Shape: (11928, 2)\n",
      "Spam Dataset Shape: (11362, 2)\n"
     ]
    }
   ]
  },
  {
   "cell_type": "code",
   "source": [
    "df_ham_downsampled = df_ham.sample(df_spam.shape[0])\n",
    "df_ham_downsampled.shape"
   ],
   "metadata": {
    "colab": {
     "base_uri": "https://localhost:8080/"
    },
    "id": "ZdqeusHKRz4X",
    "outputId": "978a246a-081f-4a81-b787-4e36268c8104"
   },
   "execution_count": 92,
   "outputs": [
    {
     "data": {
      "text/plain": "(11362, 2)"
     },
     "execution_count": 92,
     "metadata": {},
     "output_type": "execute_result"
    }
   ]
  },
  {
   "cell_type": "code",
   "source": [
    "df = pd.concat([df_spam, df_ham_downsampled])"
   ],
   "metadata": {
    "id": "BaSrK06wSGnz"
   },
   "execution_count": 93,
   "outputs": []
  },
  {
   "cell_type": "code",
   "source": [
    "import seaborn as sns\n",
    "sns.countplot(x=df[\"label\"])"
   ],
   "metadata": {
    "colab": {
     "base_uri": "https://localhost:8080/",
     "height": 296
    },
    "id": "C6LB2EOtQmE0",
    "outputId": "5babe95c-341a-438b-b3b9-9b659b84d247"
   },
   "execution_count": 94,
   "outputs": [
    {
     "data": {
      "text/plain": "<AxesSubplot:xlabel='label', ylabel='count'>"
     },
     "execution_count": 94,
     "metadata": {},
     "output_type": "execute_result"
    },
    {
     "data": {
      "text/plain": "<Figure size 432x288 with 1 Axes>",
      "image/png": "[encoded data removed]"
     },
     "metadata": {},
     "output_type": "display_data"
    }
   ]
  },
  {
   "cell_type": "markdown",
   "source": [
    "#Convert tokens into a numerical sequence:"
   ],
   "metadata": {
    "collapsed": false,
    "id": "-PwM1PK8vClP"
   }
  },
  {
   "cell_type": "code",
   "execution_count": 96,
   "outputs": [],
   "source": [
    "#X=df[\"text\"]\n",
    "X=df[\"transformed_text\"]\n",
    "tokenizer = Tokenizer() #initializing the tokenizer\n",
    "tokenizer.fit_on_texts(X)# fitting on the sms data\n",
    "text_to_sequence = tokenizer.texts_to_sequences(X) # creating the numerical sequence"
   ],
   "metadata": {
    "pycharm": {
     "name": "#%%\n"
    },
    "id": "ZFyLdSkpvClP"
   }
  },
  {
   "cell_type": "code",
   "execution_count": 97,
   "outputs": [],
   "source": [
    "#tokenizer.index_word"
   ],
   "metadata": {
    "pycharm": {
     "name": "#%%\n"
    },
    "id": "_TS4CgdtvClP"
   }
  },
  {
   "cell_type": "code",
   "execution_count": 98,
   "outputs": [
    {
     "data": {
      "text/plain": "75274"
     },
     "execution_count": 98,
     "metadata": {},
     "output_type": "execute_result"
    }
   ],
   "source": [
    "len(tokenizer.index_word)"
   ],
   "metadata": {
    "pycharm": {
     "name": "#%%\n"
    },
    "id": "fYxEkluSvClP",
    "colab": {
     "base_uri": "https://localhost:8080/"
    },
    "outputId": "709dd805-2ac2-4c6c-fe31-247e80e3e05a"
   }
  },
  {
   "cell_type": "markdown",
   "source": [
    "We do have 130427 unique words!"
   ],
   "metadata": {
    "collapsed": false,
    "id": "Xuaow7ojvClQ"
   }
  },
  {
   "cell_type": "code",
   "execution_count": 99,
   "outputs": [],
   "source": [
    "#for i in range(3):\n",
    "#        print(\"Text               : \",X[i] )\n",
    "#        print(\"Numerical Sequence : \", text_to_sequence[i])\n",
    "\n",
    "#Depending on the data this could fail since the index 0..2 could have been dropped in balancing the data! "
   ],
   "metadata": {
    "pycharm": {
     "name": "#%%\n"
    },
    "id": "p2b0ILkevClQ"
   }
  },
  {
   "cell_type": "markdown",
   "source": [
    "#Normalization:\n",
    "Since all the messages are of different lengths also the sequences are of different length, so we have to padding the sequences with 0 to get equal length. Otherwise the sequences would not be compatible for the model!"
   ],
   "metadata": {
    "collapsed": false,
    "id": "7Mi1NXxUvClQ"
   }
  },
  {
   "cell_type": "code",
   "execution_count": 100,
   "outputs": [
    {
     "data": {
      "text/plain": "array([[    0,     0,     0, ...,   357,   111,   422],\n       [    0,     0,     0, ...,   910, 36958, 36959],\n       [    0,     0,     0, ...,   156,   333,  2211],\n       ...,\n       [    0,     0,     0, ...,    20,     5,  2358],\n       [    0,     0,     0, ...,   160,   481,   606],\n       [    0,     0,     0, ...,  3448,   715,  3638]], dtype=int32)"
     },
     "execution_count": 100,
     "metadata": {},
     "output_type": "execute_result"
    }
   ],
   "source": [
    "max_length_sequence = max([len(i) for i in text_to_sequence]) # finding the length of largest sequence\n",
    "padded_sequence = pad_sequences(text_to_sequence, maxlen=max_length_sequence, padding = \"pre\")\n",
    "padded_sequence"
   ],
   "metadata": {
    "pycharm": {
     "name": "#%%\n"
    },
    "id": "c0m_ZlcCvClQ",
    "colab": {
     "base_uri": "https://localhost:8080/"
    },
    "outputId": "cc3c53ae-4317-4d02-f98d-a62a6edb2f19"
   }
  },
  {
   "cell_type": "markdown",
   "source": [
    "The longest Sentence exists of 501"
   ],
   "metadata": {
    "collapsed": false,
    "id": "OPqRZlTXvClQ"
   }
  },
  {
   "cell_type": "code",
   "source": [
    "print(\"shape\",len(padded_sequence), \"rows x \",len(padded_sequence[0]),\"cols\")"
   ],
   "metadata": {
    "id": "goO7LQ0lTTVs",
    "colab": {
     "base_uri": "https://localhost:8080/"
    },
    "outputId": "b70b09ec-33f0-40c9-e38f-64469d8e4db7"
   },
   "execution_count": 101,
   "outputs": [
    {
     "name": "stdout",
     "output_type": "stream",
     "text": [
      "shape 22724 rows x  348 cols\n"
     ]
    }
   ]
  },
  {
   "cell_type": "markdown",
   "source": [
    "#Create LSTM Model:"
   ],
   "metadata": {
    "collapsed": false,
    "id": "XZhSzVfzvClQ"
   }
  },
  {
   "cell_type": "code",
   "execution_count": 102,
   "outputs": [
    {
     "name": "stdout",
     "output_type": "stream",
     "text": [
      "Model: \"sequential_2\"\n",
      "_________________________________________________________________\n",
      " Layer (type)                Output Shape              Param #   \n",
      "=================================================================\n",
      " embedding_2 (Embedding)     (None, 348, 32)           2408800   \n",
      "                                                                 \n",
      " lstm_2 (LSTM)               (None, 100)               53200     \n",
      "                                                                 \n",
      " dropout_4 (Dropout)         (None, 100)               0         \n",
      "                                                                 \n",
      " dense_4 (Dense)             (None, 20)                2020      \n",
      "                                                                 \n",
      " dropout_5 (Dropout)         (None, 20)                0         \n",
      "                                                                 \n",
      " dense_5 (Dense)             (None, 1)                 21        \n",
      "                                                                 \n",
      "=================================================================\n",
      "Total params: 2,464,041\n",
      "Trainable params: 2,464,041\n",
      "Non-trainable params: 0\n",
      "_________________________________________________________________\n"
     ]
    }
   ],
   "source": [
    "TOT_SIZE = len(tokenizer.word_index)+1\n",
    "\n",
    "\n",
    "def create_model():\n",
    "      lstm_model = Sequential()\n",
    "      lstm_model.add(Embedding(TOT_SIZE, 32, input_length=max_length_sequence))\n",
    "      lstm_model.add(LSTM(100))\n",
    "      lstm_model.add(Dropout(0.4))\n",
    "      lstm_model.add(Dense(20, activation=\"relu\"))\n",
    "      lstm_model.add(Dropout(0.3))\n",
    "      lstm_model.add(Dense(1, activation = \"sigmoid\"))\n",
    "      return lstm_model\n",
    "\n",
    "\n",
    "lstm_model = create_model()\n",
    "lstm_model.compile(loss = \"binary_crossentropy\", optimizer = \"adam\", metrics = [\"accuracy\"])\n",
    "\n",
    "lstm_model.summary()"
   ],
   "metadata": {
    "pycharm": {
     "name": "#%%\n"
    },
    "id": "90IOL8zevClQ",
    "colab": {
     "base_uri": "https://localhost:8080/"
    },
    "outputId": "47f3b5a3-9f37-4aa3-d2d2-bd17c52cf67c"
   }
  },
  {
   "cell_type": "markdown",
   "source": [
    "#Train Test Validation Split"
   ],
   "metadata": {
    "collapsed": false,
    "id": "lpx-FVILvClR"
   }
  },
  {
   "cell_type": "code",
   "execution_count": 103,
   "outputs": [],
   "source": [
    "from sklearn.model_selection import train_test_split\n",
    "X=padded_sequence\n",
    "y=df[\"label\"]\n",
    "X_train, X_val,  y_train, y_val  = train_test_split(X, y, test_size=0.7, random_state=42)\n",
    "X_val,   X_test, y_val,   y_test = train_test_split(X_val, y_val, train_size=0.5)"
   ],
   "metadata": {
    "pycharm": {
     "name": "#%%\n"
    },
    "id": "WrFgOFTIvClR"
   }
  },
  {
   "cell_type": "markdown",
   "source": [
    "#Train the model: "
   ],
   "metadata": {
    "id": "HAxE5I3HYXE3"
   }
  },
  {
   "cell_type": "code",
   "execution_count": 104,
   "outputs": [
    {
     "name": "stdout",
     "output_type": "stream",
     "text": [
      "Epoch 1/10\n",
      "214/214 [==============================] - 36s 164ms/step - loss: 0.3240 - accuracy: 0.8812 - val_loss: 0.0660 - val_accuracy: 0.9815\n",
      "Epoch 2/10\n",
      "214/214 [==============================] - 35s 161ms/step - loss: 0.0732 - accuracy: 0.9786 - val_loss: 0.0619 - val_accuracy: 0.9784\n",
      "Epoch 3/10\n",
      "214/214 [==============================] - 35s 162ms/step - loss: 0.0223 - accuracy: 0.9950 - val_loss: 0.0532 - val_accuracy: 0.9826\n",
      "Epoch 4/10\n",
      "214/214 [==============================] - 36s 167ms/step - loss: 0.0060 - accuracy: 0.9990 - val_loss: 0.0564 - val_accuracy: 0.9864\n",
      "Epoch 5/10\n",
      "214/214 [==============================] - 36s 167ms/step - loss: 0.0018 - accuracy: 0.9999 - val_loss: 0.0673 - val_accuracy: 0.9855\n",
      "Epoch 6/10\n",
      "214/214 [==============================] - 36s 167ms/step - loss: 0.0050 - accuracy: 0.9990 - val_loss: 0.0636 - val_accuracy: 0.9847\n",
      "Epoch 7/10\n",
      "214/214 [==============================] - 34s 161ms/step - loss: 0.0027 - accuracy: 0.9999 - val_loss: 0.0658 - val_accuracy: 0.9850\n",
      "Epoch 8/10\n",
      "214/214 [==============================] - 35s 165ms/step - loss: 7.1266e-04 - accuracy: 1.0000 - val_loss: 0.0710 - val_accuracy: 0.9855\n",
      "Epoch 9/10\n",
      "214/214 [==============================] - 35s 165ms/step - loss: 5.7822e-04 - accuracy: 1.0000 - val_loss: 0.0778 - val_accuracy: 0.9860\n",
      "Epoch 10/10\n",
      "214/214 [==============================] - 34s 160ms/step - loss: 6.9493e-04 - accuracy: 1.0000 - val_loss: 0.0901 - val_accuracy: 0.9852\n"
     ]
    }
   ],
   "source": [
    "from keras.callbacks import EarlyStopping\n",
    "\n",
    "num_epochs = 10 #10!\n",
    "\n",
    "history = lstm_model.fit(\n",
    "               X_train ,\n",
    "               y_train,\n",
    "               epochs=num_epochs,\n",
    "               validation_data=(X_val, y_val),\n",
    "               #callbacks=[EarlyStopping(monitor='val_loss',min_delta=0.0001)]\n",
    "          )"
   ],
   "metadata": {
    "pycharm": {
     "name": "#%%\n"
    },
    "id": "_ZxfltqFvClR",
    "colab": {
     "base_uri": "https://localhost:8080/"
    },
    "outputId": "5c64858b-203d-4997-f0b8-3b3b046a1f79"
   }
  },
  {
   "cell_type": "markdown",
   "source": [
    "#SAVE MODEL AS PICKLE FILE: "
   ],
   "metadata": {
    "id": "8Du0DgvipdoP"
   }
  },
  {
   "cell_type": "code",
   "source": [
    "#import pickle\n",
    "#pickle.dump(lstm_model, open(\"lstm_model_1.pkl\", \"wb\"))"
   ],
   "metadata": {
    "colab": {
     "base_uri": "https://localhost:8080/"
    },
    "id": "iTmglDPMpcpt",
    "outputId": "f7ebb113-969e-48e3-a7d5-a8f237cd7509"
   },
   "execution_count": 105,
   "outputs": []
  },
  {
   "cell_type": "markdown",
   "source": [
    "#Evaluation: "
   ],
   "metadata": {
    "id": "cAddS0bpYdz0"
   }
  },
  {
   "cell_type": "code",
   "execution_count": 106,
   "outputs": [],
   "source": [
    "#scores = lstm_model.evaluate(X_test, y_test, verbose=0)\n",
    "#print(\"Test Accuracy: %.2f%%\" % (scores[1]*100))"
   ],
   "metadata": {
    "pycharm": {
     "name": "#%%\n"
    },
    "id": "oocj-UHevClR"
   }
  },
  {
   "cell_type": "code",
   "source": [
    "y_pred = lstm_model.predict(X_test)\n",
    "y_pred = y_pred.flatten() \n",
    "y_pred = np.where(y_pred > 0.5, 1, 0) #Why? \n",
    "\n",
    "#y_test = y_test.to_numpy()\n",
    "#Time: 1min 30s"
   ],
   "metadata": {
    "id": "obqWDrOVc0sd"
   },
   "execution_count": 107,
   "outputs": []
  },
  {
   "cell_type": "markdown",
   "source": [
    "Confusion Matrix: "
   ],
   "metadata": {
    "id": "RWwp2UIYeK44"
   }
  },
  {
   "cell_type": "code",
   "source": [
    "from sklearn.utils import check_matplotlib_support\n",
    "from sklearn.utils.validation import check_memory\n",
    "from sklearn.metrics import confusion_matrix, classification_report"
   ],
   "metadata": {
    "id": "5xmarFF2dWqT"
   },
   "execution_count": 108,
   "outputs": []
  },
  {
   "cell_type": "code",
   "source": [
    "cr = classification_report(y_test, y_pred)\n",
    "print(cr)"
   ],
   "metadata": {
    "colab": {
     "base_uri": "https://localhost:8080/"
    },
    "id": "nwqs2jKBnw5V",
    "outputId": "b176339b-e17f-49ca-df9b-67102dfe38b8"
   },
   "execution_count": 109,
   "outputs": [
    {
     "name": "stdout",
     "output_type": "stream",
     "text": [
      "              precision    recall  f1-score   support\n",
      "\n",
      "           0       0.98      0.99      0.99      3968\n",
      "           1       0.99      0.98      0.98      3986\n",
      "\n",
      "    accuracy                           0.99      7954\n",
      "   macro avg       0.99      0.99      0.99      7954\n",
      "weighted avg       0.99      0.99      0.99      7954\n",
      "\n"
     ]
    }
   ]
  },
  {
   "cell_type": "code",
   "source": [
    "cm = confusion_matrix(y_test, y_pred)\n",
    "sns.heatmap(cm, annot=True, fmt='d')\n",
    "plt.title(image_title_info+'Training and Validation loss')\n",
    "plt.xlabel('Predicted')\n",
    "plt.ylabel('Actual')\n",
    "plt.savefig(image_folder+'cm.png')\n",
    "plt.show()"
   ],
   "metadata": {
    "colab": {
     "base_uri": "https://localhost:8080/",
     "height": 279
    },
    "id": "LRWJkrnQeO7p",
    "outputId": "b9b3e9c9-910f-464c-9f64-b560c9d8550f"
   },
   "execution_count": 110,
   "outputs": [
    {
     "data": {
      "text/plain": "<Figure size 432x288 with 2 Axes>",
      "image/png": "[encoded data removed]"
     },
     "metadata": {},
     "output_type": "display_data"
    }
   ]
  },
  {
   "cell_type": "markdown",
   "source": [
    "Loss:"
   ],
   "metadata": {
    "id": "pVD9RuLnfK1g"
   }
  },
  {
   "cell_type": "code",
   "source": [
    "#epochs = range(1, num_epochs+1)\n",
    "plt.plot(history.history['loss'], 'g', label='Training loss')\n",
    "plt.plot(history.history['val_loss'], 'b', label='validation loss')\n",
    "plt.title(image_title_info+'Training and Validation loss')\n",
    "plt.xlabel('Epochs')\n",
    "plt.ylabel('Loss')\n",
    "plt.legend()\n",
    "plt.savefig(image_folder+'loss.png')\n",
    "plt.show()"
   ],
   "metadata": {
    "colab": {
     "base_uri": "https://localhost:8080/",
     "height": 295
    },
    "id": "9iKy5ovqfNT3",
    "outputId": "b6a06796-2585-4377-b9ca-bfa6e94cc9a6"
   },
   "execution_count": 111,
   "outputs": [
    {
     "data": {
      "text/plain": "<Figure size 432x288 with 1 Axes>",
      "image/png": "[encoded data removed]"
     },
     "metadata": {},
     "output_type": "display_data"
    }
   ]
  },
  {
   "cell_type": "markdown",
   "source": [
    "Accuracy: "
   ],
   "metadata": {
    "id": "awIY0HaufQaW"
   }
  },
  {
   "cell_type": "code",
   "source": [
    "plt.plot( history.history['accuracy'], 'g', label='Training accuracy')\n",
    "plt.plot(history.history['val_accuracy'], 'b', label='validation accuracy')\n",
    "plt.title(image_title_info+'Training and Validation accuracy')\n",
    "plt.xlabel('Epochs')\n",
    "plt.ylabel('accuracy')\n",
    "plt.legend()\n",
    "plt.savefig(image_folder+'accuracy.png')\n",
    "plt.show()"
   ],
   "metadata": {
    "colab": {
     "base_uri": "https://localhost:8080/",
     "height": 295
    },
    "id": "TfNfgJQ7fV_X",
    "outputId": "bfa5862e-197f-47be-a044-41e48088f199"
   },
   "execution_count": 112,
   "outputs": [
    {
     "data": {
      "text/plain": "<Figure size 432x288 with 1 Axes>",
      "image/png": "[encoded data removed]"
     },
     "metadata": {},
     "output_type": "display_data"
    }
   ]
  },
  {
   "cell_type": "markdown",
   "source": [
    "Precission:"
   ],
   "metadata": {
    "id": "KyP4gjojfOJG"
   }
  },
  {
   "cell_type": "code",
   "source": [
    "print(history.history.keys())"
   ],
   "metadata": {
    "colab": {
     "base_uri": "https://localhost:8080/"
    },
    "id": "LtydTXu1lqf1",
    "outputId": "a1dba8df-60cb-4249-8f29-bb44790aca83"
   },
   "execution_count": 113,
   "outputs": [
    {
     "name": "stdout",
     "output_type": "stream",
     "text": [
      "dict_keys(['loss', 'accuracy', 'val_loss', 'val_accuracy'])\n"
     ]
    }
   ]
  },
  {
   "cell_type": "code",
   "source": [
    "#FAILS since 'precision' is not stored in history anymore ?!\n",
    "epochs = range(1, num_epochs+1)\n",
    "plt.plot(history.history['precision'], 'g', label='Training precision')\n",
    "plt.plot(history.history['val_precision'], 'b', label='validation precision')\n",
    "plt.title('Training and Validation precision')\n",
    "plt.xlabel('Epochs')\n",
    "plt.ylabel('precision')\n",
    "plt.legend()\n",
    "plt.savefig(image_folder+'precision.png')\n",
    "plt.show()"
   ],
   "metadata": {
    "colab": {
     "base_uri": "https://localhost:8080/",
     "height": 235
    },
    "id": "XfwXjdOPfTe3",
    "outputId": "4535d583-6af2-44fe-e3fc-ff485a273fc5"
   },
   "execution_count": 114,
   "outputs": [
    {
     "ename": "KeyError",
     "evalue": "'precision'",
     "output_type": "error",
     "traceback": [
      "\u001B[0;31m---------------------------------------------------------------------------\u001B[0m",
      "\u001B[0;31mKeyError\u001B[0m                                  Traceback (most recent call last)",
      "Input \u001B[0;32mIn [114]\u001B[0m, in \u001B[0;36m<cell line: 3>\u001B[0;34m()\u001B[0m\n\u001B[1;32m      1\u001B[0m \u001B[38;5;66;03m#FAILS since 'precision' is not stored in history anymore ?!\u001B[39;00m\n\u001B[1;32m      2\u001B[0m epochs \u001B[38;5;241m=\u001B[39m \u001B[38;5;28mrange\u001B[39m(\u001B[38;5;241m1\u001B[39m, num_epochs\u001B[38;5;241m+\u001B[39m\u001B[38;5;241m1\u001B[39m)\n\u001B[0;32m----> 3\u001B[0m plt\u001B[38;5;241m.\u001B[39mplot(\u001B[43mhistory\u001B[49m\u001B[38;5;241;43m.\u001B[39;49m\u001B[43mhistory\u001B[49m\u001B[43m[\u001B[49m\u001B[38;5;124;43m'\u001B[39;49m\u001B[38;5;124;43mprecision\u001B[39;49m\u001B[38;5;124;43m'\u001B[39;49m\u001B[43m]\u001B[49m, \u001B[38;5;124m'\u001B[39m\u001B[38;5;124mg\u001B[39m\u001B[38;5;124m'\u001B[39m, label\u001B[38;5;241m=\u001B[39m\u001B[38;5;124m'\u001B[39m\u001B[38;5;124mTraining precision\u001B[39m\u001B[38;5;124m'\u001B[39m)\n\u001B[1;32m      4\u001B[0m plt\u001B[38;5;241m.\u001B[39mplot(history\u001B[38;5;241m.\u001B[39mhistory[\u001B[38;5;124m'\u001B[39m\u001B[38;5;124mval_precision\u001B[39m\u001B[38;5;124m'\u001B[39m], \u001B[38;5;124m'\u001B[39m\u001B[38;5;124mb\u001B[39m\u001B[38;5;124m'\u001B[39m, label\u001B[38;5;241m=\u001B[39m\u001B[38;5;124m'\u001B[39m\u001B[38;5;124mvalidation precision\u001B[39m\u001B[38;5;124m'\u001B[39m)\n\u001B[1;32m      5\u001B[0m plt\u001B[38;5;241m.\u001B[39mtitle(\u001B[38;5;124m'\u001B[39m\u001B[38;5;124mTraining and Validation precision\u001B[39m\u001B[38;5;124m'\u001B[39m)\n",
      "\u001B[0;31mKeyError\u001B[0m: 'precision'"
     ]
    }
   ]
  },
  {
   "cell_type": "code",
   "execution_count": 114,
   "outputs": [],
   "source": [],
   "metadata": {
    "collapsed": false,
    "pycharm": {
     "name": "#%%\n"
    }
   }
  },
  {
   "cell_type": "code",
   "execution_count": null,
   "outputs": [],
   "source": [],
   "metadata": {
    "collapsed": false,
    "pycharm": {
     "name": "#%%\n"
    }
   }
  }
 ],
 "metadata": {
  "kernelspec": {
   "display_name": "Python 3",
   "language": "python",
   "name": "python3"
  },
  "language_info": {
   "codemirror_mode": {
    "name": "ipython",
    "version": 2
   },
   "file_extension": ".py",
   "mimetype": "text/x-python",
   "name": "python",
   "nbconvert_exporter": "python",
   "pygments_lexer": "ipython2",
   "version": "2.7.6"
  },
  "colab": {
   "name": "lstm.ipynb",
   "provenance": [],
   "collapsed_sections": []
  },
  "accelerator": "GPU"
 },
 "nbformat": 4,
 "nbformat_minor": 0
}