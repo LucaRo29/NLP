{
 "cells": [
  {
   "cell_type": "markdown",
   "source": [
    "Tutorial: https://www.analyticsvidhya.com/blog/2021/05/sms-spam-detection-using-lstm-a-hands-on-guide/"
   ],
   "metadata": {
    "collapsed": false
   }
  },
  {
   "cell_type": "code",
   "execution_count": 39,
   "metadata": {
    "collapsed": true
   },
   "outputs": [],
   "source": [
    "import pandas as pd\n",
    "import matplotlib.pyplot as plt\n",
    "plt.style.use('dark_background')\n",
    "import warnings\n",
    "warnings.simplefilter(action='ignore', category=Warning)\n",
    "from keras.layers import Dense, Embedding, LSTM, Dropout\n",
    "from keras.models import Sequential\n",
    "from keras.preprocessing.text import Tokenizer\n",
    "from keras.preprocessing.sequence import pad_sequences"
   ]
  },
  {
   "cell_type": "code",
   "execution_count": 40,
   "outputs": [
    {
     "data": {
      "text/plain": "   label                                               text\n0      0  Go until jurong point, crazy.. Available only ...\n1      0                      Ok lar... Joking wif u oni...\n2      1  Free entry in 2 a wkly comp to win FA Cup fina...\n3      0  U dun say so early hor... U c already then say...\n4      0  Nah I don't think he goes to usf, he lives aro...",
      "text/html": "<div>\n<style scoped>\n    .dataframe tbody tr th:only-of-type {\n        vertical-align: middle;\n    }\n\n    .dataframe tbody tr th {\n        vertical-align: top;\n    }\n\n    .dataframe thead th {\n        text-align: right;\n    }\n</style>\n<table border=\"1\" class=\"dataframe\">\n  <thead>\n    <tr style=\"text-align: right;\">\n      <th></th>\n      <th>label</th>\n      <th>text</th>\n    </tr>\n  </thead>\n  <tbody>\n    <tr>\n      <th>0</th>\n      <td>0</td>\n      <td>Go until jurong point, crazy.. Available only ...</td>\n    </tr>\n    <tr>\n      <th>1</th>\n      <td>0</td>\n      <td>Ok lar... Joking wif u oni...</td>\n    </tr>\n    <tr>\n      <th>2</th>\n      <td>1</td>\n      <td>Free entry in 2 a wkly comp to win FA Cup fina...</td>\n    </tr>\n    <tr>\n      <th>3</th>\n      <td>0</td>\n      <td>U dun say so early hor... U c already then say...</td>\n    </tr>\n    <tr>\n      <th>4</th>\n      <td>0</td>\n      <td>Nah I don't think he goes to usf, he lives aro...</td>\n    </tr>\n  </tbody>\n</table>\n</div>"
     },
     "execution_count": 40,
     "metadata": {},
     "output_type": "execute_result"
    }
   ],
   "source": [
    "#data_path = \"merged_cleaned_preprocessed.csv\"      #Google Colab (upload csv to \"Dateien\")\n",
    "#data_path = \"merged_cleaned.csv\"                   #Google Colab (upload csv to \"Dateien\")\n",
    "#data_path = \"Data/merged_cleaned_preprocessed.csv\" #pycharm\n",
    "data_path = \"Data/merged_cleaned.csv\"              #pycharm\n",
    "\n",
    "df = pd.read_csv(data_path, encoding = \"latin-1\")\n",
    "df.head()"
   ],
   "metadata": {
    "collapsed": false,
    "pycharm": {
     "name": "#%%\n"
    }
   }
  },
  {
   "cell_type": "code",
   "execution_count": 41,
   "outputs": [
    {
     "data": {
      "text/plain": "(35193, 2)"
     },
     "execution_count": 41,
     "metadata": {},
     "output_type": "execute_result"
    }
   ],
   "source": [
    "df.shape"
   ],
   "metadata": {
    "collapsed": false,
    "pycharm": {
     "name": "#%%\n"
    }
   }
  },
  {
   "cell_type": "markdown",
   "source": [
    "#Drop Null values:\n",
    "Somehow it did not work to drop NULL values in preprocessing... Out of any reason there are some null falues in the data after reading the CSV even though they have not been there before writing the CSV file in the preprocessing skript!"
   ],
   "metadata": {
    "collapsed": false,
    "pycharm": {
     "name": "#%% md\n"
    }
   }
  },
  {
   "cell_type": "code",
   "execution_count": 42,
   "outputs": [
    {
     "data": {
      "text/plain": "label    0\ntext     0\ndtype: int64"
     },
     "execution_count": 42,
     "metadata": {},
     "output_type": "execute_result"
    }
   ],
   "source": [
    "df.isnull().sum()"
   ],
   "metadata": {
    "collapsed": false,
    "pycharm": {
     "name": "#%%\n"
    }
   }
  },
  {
   "cell_type": "code",
   "execution_count": 43,
   "outputs": [
    {
     "data": {
      "text/plain": "label    0\ntext     0\ndtype: int64"
     },
     "execution_count": 43,
     "metadata": {},
     "output_type": "execute_result"
    }
   ],
   "source": [
    "df.dropna(inplace=True)\n",
    "df.isnull().sum()"
   ],
   "metadata": {
    "collapsed": false,
    "pycharm": {
     "name": "#%%\n"
    }
   }
  },
  {
   "cell_type": "markdown",
   "source": [
    "#Convert tokens into a numerical sequence:"
   ],
   "metadata": {
    "collapsed": false
   }
  },
  {
   "cell_type": "code",
   "execution_count": 44,
   "outputs": [],
   "source": [
    "X=df[\"text\"]\n",
    "\n",
    "tokenizer = Tokenizer() #initializing the tokenizer\n",
    "tokenizer.fit_on_texts(X)# fitting on the sms data\n",
    "text_to_sequence = tokenizer.texts_to_sequences(X) # creating the numerical sequence"
   ],
   "metadata": {
    "collapsed": false,
    "pycharm": {
     "name": "#%%\n"
    }
   }
  },
  {
   "cell_type": "code",
   "execution_count": 45,
   "outputs": [
    {
     "data": {
      "text/plain": "{1: 'the',\n 2: 'to',\n 3: 'and',\n 4: 'of',\n 5: 'a',\n 6: 'in',\n 7: 'for',\n 8: 'you',\n 9: \"'\",\n 10: 'is',\n 11: 'this',\n 12: 'i',\n 13: 'on',\n 14: 'enron',\n 15: 'that',\n 16: 's',\n 17: 'be',\n 18: 'with',\n 19: 'your',\n 20: 'we',\n 21: 'as',\n 22: 'have',\n 23: 'from',\n 24: 'ect',\n 25: 'it',\n 26: 'will',\n 27: 'are',\n 28: 'or',\n 29: 'at',\n 30: 'by',\n 31: 'not',\n 32: 'our',\n 33: 'if',\n 34: 'com',\n 35: '1',\n 36: 'all',\n 37: 'company',\n 38: 'please',\n 39: '2',\n 40: 'an',\n 41: 'has',\n 42: 'hou',\n 43: 'can',\n 44: 'me',\n 45: 'any',\n 46: 'was',\n 47: '3',\n 48: '2001',\n 49: 'would',\n 50: 'e',\n 51: 'no',\n 52: '2000',\n 53: 'am',\n 54: 'subject',\n 55: 'my',\n 56: 'new',\n 57: '10',\n 58: 'more',\n 59: 'its',\n 60: 'but',\n 61: 're',\n 62: 'may',\n 63: '00',\n 64: '5',\n 65: 'do',\n 66: 't',\n 67: 'information',\n 68: 'time',\n 69: 'up',\n 70: 'which',\n 71: 'gas',\n 72: 'about',\n 73: 'been',\n 74: 'one',\n 75: 'they',\n 76: 'out',\n 77: 'energy',\n 78: 'get',\n 79: '4',\n 80: 'us',\n 81: 'business',\n 82: '0',\n 83: 'said',\n 84: 'http',\n 85: 'here',\n 86: 'pm',\n 87: 'he',\n 88: 'cc',\n 89: '000',\n 90: '11',\n 91: 'email',\n 92: 'know',\n 93: 'message',\n 94: 'there',\n 95: 'vince',\n 96: '01',\n 97: 'so',\n 98: 'their',\n 99: 'now',\n 100: 'price',\n 101: 'these',\n 102: 'also',\n 103: 'need',\n 104: 'only',\n 105: 'what',\n 106: 'thanks',\n 107: 'other',\n 108: 'm',\n 109: 'mail',\n 110: 'power',\n 111: 'some',\n 112: 'like',\n 113: 'over',\n 114: '7',\n 115: '12',\n 116: 'market',\n 117: 'd',\n 118: 'corp',\n 119: '8',\n 120: 'should',\n 121: 'deal',\n 122: '30',\n 123: '6',\n 124: 'just',\n 125: 'www',\n 126: 'o',\n 127: 'sent',\n 128: 'into',\n 129: 'year',\n 130: 'could',\n 131: 'day',\n 132: 'j',\n 133: 'who',\n 134: 'report',\n 135: 'stock',\n 136: 'inc',\n 137: 'p',\n 138: 'make',\n 139: 'when',\n 140: 'were',\n 141: 'trading',\n 142: 'statements',\n 143: 'had',\n 144: 'than',\n 145: 'see',\n 146: 'let',\n 147: 'million',\n 148: 'group',\n 149: '20',\n 150: 'forward',\n 151: 'c',\n 152: '9',\n 153: 'money',\n 154: 'after',\n 155: 'call',\n 156: 'week',\n 157: 'his',\n 158: 'next',\n 159: 'through',\n 160: 'how',\n 161: 'free',\n 162: 'u',\n 163: 'within',\n 164: 'contact',\n 165: '15',\n 166: 'want',\n 167: 'houston',\n 168: 'last',\n 169: 'risk',\n 170: 'number',\n 171: 'them',\n 172: 'today',\n 173: 'de',\n 174: 'very',\n 175: 'go',\n 176: 'best',\n 177: 'financial',\n 178: 'use',\n 179: '02',\n 180: 'companies',\n 181: 'credit',\n 182: 'th',\n 183: 'l',\n 184: 'kaminski',\n 185: 'investment',\n 186: 'management',\n 187: 'dynegy',\n 188: 'two',\n 189: 'date',\n 190: 'original',\n 191: 'meeting',\n 192: 'data',\n 193: 'order',\n 194: 'work',\n 195: 'news',\n 196: 'take',\n 197: 'list',\n 198: 'first',\n 199: 'based',\n 200: 'well',\n 201: 'service',\n 202: 'such',\n 203: 'before',\n 204: 'back',\n 205: 'don',\n 206: 'people',\n 207: 'b',\n 208: 'prices',\n 209: 'per',\n 210: 'system',\n 211: 'securities',\n 212: 'many',\n 213: 'attached',\n 214: 'future',\n 215: 'most',\n 216: '25',\n 217: 'questions',\n 218: 'x',\n 219: 'r',\n 220: '50',\n 221: 'send',\n 222: 'office',\n 223: 'billion',\n 224: 'made',\n 225: 'name',\n 226: 'net',\n 227: 'good',\n 228: 'help',\n 229: 'looking',\n 230: 'services',\n 231: 'click',\n 232: '04',\n 233: 'available',\n 234: 'address',\n 235: 'online',\n 236: 'account',\n 237: '03',\n 238: 'research',\n 239: 'forwarded',\n 240: 'because',\n 241: 'then',\n 242: 'below',\n 243: 'following',\n 244: 'much',\n 245: 'under',\n 246: 'off',\n 247: 'shares',\n 248: 'john',\n 249: '100',\n 250: 'products',\n 251: 'regards',\n 252: 'way',\n 253: 'california',\n 254: 'start',\n 255: 'site',\n 256: 'louise',\n 257: 'each',\n 258: 'project',\n 259: 'due',\n 260: '713',\n 261: 'month',\n 262: 'look',\n 263: 'software',\n 264: 'days',\n 265: 'those',\n 266: 'home',\n 267: 'offer',\n 268: 'term',\n 269: 'thank',\n 270: 'long',\n 271: 'think',\n 272: 'part',\n 273: 'high',\n 274: 'phone',\n 275: '24',\n 276: 'program',\n 277: 'years',\n 278: '21',\n 279: 'process',\n 280: '05',\n 281: 'friday',\n 282: 'since',\n 283: '19',\n 284: 'being',\n 285: 'development',\n 286: 'jones',\n 287: 'provide',\n 288: 'going',\n 289: 'cash',\n 290: 'find',\n 291: 'review',\n 292: 'interest',\n 293: '08',\n 294: '16',\n 295: 'state',\n 296: 'does',\n 297: 'team',\n 298: '17',\n 299: 'current',\n 300: '09',\n 301: 'mr',\n 302: '99',\n 303: 'monday',\n 304: 'security',\n 305: 'request',\n 306: '14',\n 307: 'where',\n 308: 'both',\n 309: 'still',\n 310: 'change',\n 311: '27',\n 312: 'buy',\n 313: 'fax',\n 314: 'world',\n 315: 'line',\n 316: 'internet',\n 317: 'file',\n 318: 'give',\n 319: '18',\n 320: 'database',\n 321: 'she',\n 322: 'international',\n 323: 'end',\n 324: 'total',\n 325: 'while',\n 326: 'down',\n 327: 'contract',\n 328: 'bank',\n 329: 'her',\n 330: 'even',\n 331: 'natural',\n 332: 'oil',\n 333: 'receive',\n 334: 'him',\n 335: '31',\n 336: 'dow',\n 337: 'co',\n 338: 'without',\n 339: '13',\n 340: 'markets',\n 341: 'great',\n 342: 'n',\n 343: '2004',\n 344: 'agreement',\n 345: 'll',\n 346: 'value',\n 347: 'come',\n 348: 'product',\n 349: 'did',\n 350: 'investors',\n 351: 'right',\n 352: 'david',\n 353: 'results',\n 354: 'position',\n 355: 'visit',\n 356: 'set',\n 357: 'g',\n 358: 'adobe',\n 359: 'deals',\n 360: 'cost',\n 361: 'performance',\n 362: 'real',\n 363: 'further',\n 364: 'again',\n 365: 'hpl',\n 366: 'final',\n 367: 'customers',\n 368: '23',\n 369: 'mark',\n 370: 'save',\n 371: '06',\n 372: 'act',\n 373: 'support',\n 374: 'meter',\n 375: 'received',\n 376: 'including',\n 377: 'schedule',\n 378: 'must',\n 379: 'info',\n 380: '29',\n 381: '07',\n 382: 'y',\n 383: '22',\n 384: 'possible',\n 385: 'plan',\n 386: 'working',\n 387: 'rate',\n 388: 'transaction',\n 389: '28',\n 390: 'access',\n 391: 'pay',\n 392: 'same',\n 393: 'web',\n 394: '26',\n 395: 'few',\n 396: 'above',\n 397: 'sales',\n 398: '40',\n 399: 'update',\n 400: 'trade',\n 401: 'industry',\n 402: 'website',\n 403: 'note',\n 404: 've',\n 405: 'marketing',\n 406: 'additional',\n 407: 'percent',\n 408: '2005',\n 409: 'include',\n 410: 'until',\n 411: '97',\n 412: 'own',\n 413: 'full',\n 414: 'exchange',\n 415: 'might',\n 416: 'wednesday',\n 417: 'hour',\n 418: 'fw',\n 419: 'thursday',\n 420: 'details',\n 421: 'keep',\n 422: 'professional',\n 423: '\\x01',\n 424: 'w',\n 425: 'during',\n 426: 'conference',\n 427: 'copyright',\n 428: 'ees',\n 429: 'stocks',\n 430: 'believe',\n 431: 'however',\n 432: '60',\n 433: 'tuesday',\n 434: 'sell',\n 435: 'assets',\n 436: 'v',\n 437: '500',\n 438: 'every',\n 439: 'three',\n 440: 'changes',\n 441: 'currently',\n 442: 'reply',\n 443: 'f',\n 444: 'interested',\n 445: 'july',\n 446: 'president',\n 447: 'between',\n 448: 'already',\n 449: 'place',\n 450: 'k',\n 451: 'months',\n 452: 'issues',\n 453: 'used',\n 454: 'share',\n 455: 'texas',\n 456: '95',\n 457: 'able',\n 458: 'ena',\n 459: 'point',\n 460: 'times',\n 461: 'operations',\n 462: 'lon',\n 463: 'york',\n 464: 'low',\n 465: 'provided',\n 466: 'debt',\n 467: 'check',\n 468: 'dollars',\n 469: 'numbers',\n 470: 'stop',\n 471: 'fact',\n 472: 'mmbtu',\n 473: 'global',\n 474: 'special',\n 475: 'hi',\n 476: 'continue',\n 477: 'form',\n 478: 'section',\n 479: 'america',\n 480: 'et',\n 481: 'past',\n 482: 'soon',\n 483: 'link',\n 484: 'short',\n 485: 'life',\n 486: 'another',\n 487: 'advice',\n 488: 'issue',\n 489: 'regarding',\n 490: 'dear',\n 491: '2002',\n 492: 'sure',\n 493: 'once',\n 494: 'april',\n 495: 'dbcaps',\n 496: 'limited',\n 497: 'feel',\n 498: 'hope',\n 499: 'north',\n 500: 'technology',\n 501: 'customer',\n 502: 'sale',\n 503: 'director',\n 504: 'too',\n 505: 'bill',\n 506: 'production',\n 507: 'move',\n 508: 'using',\n 509: 'less',\n 510: 'january',\n 511: 'notice',\n 512: 'mike',\n 513: 'communications',\n 514: 'employees',\n 515: 'put',\n 516: 'october',\n 517: 'london',\n 518: 'options',\n 519: 'top',\n 520: 'third',\n 521: 'terms',\n 522: 'weeks',\n 523: 'purchase',\n 524: 'capacity',\n 525: 'kitchen',\n 526: 'shall',\n 527: 'june',\n 528: 'morning',\n 529: 'meet',\n 530: '90',\n 531: 'finance',\n 532: 'daren',\n 533: 'rights',\n 534: 'cannot',\n 535: 'march',\n 536: 'manager',\n 537: 'wish',\n 538: 'say',\n 539: 'copy',\n 540: 'id',\n 541: 'states',\n 542: 'hours',\n 543: 'needs',\n 544: 'el',\n 545: 'events',\n 546: 'legal',\n 547: 'model',\n 548: 'several',\n 549: 'robert',\n 550: 'chief',\n 551: 'firm',\n 552: 'contracts',\n 553: 'potential',\n 554: 'steve',\n 555: 'na',\n 556: 'better',\n 557: 'volume',\n 558: 'daily',\n 559: '80',\n 560: 'shirley',\n 561: 'read',\n 562: 'center',\n 563: 'got',\n 564: 'systems',\n 565: 'hourahead',\n 566: 'quarter',\n 567: 'really',\n 568: 'type',\n 569: 'august',\n 570: 'required',\n 571: 'iso',\n 572: 'st',\n 573: 'done',\n 574: 'party',\n 575: 'edu',\n 576: 'given',\n 577: 'case',\n 578: 'december',\n 579: 'expected',\n 580: 'government',\n 581: 'funds',\n 582: 'discuss',\n 583: 'pills',\n 584: 'book',\n 585: 'increase',\n 586: 'electricity',\n 587: 'error',\n 588: 'street',\n 589: 'complete',\n 590: 'quality',\n 591: 'pipeline',\n 592: 'why',\n 593: 'capital',\n 594: 'general',\n 595: 'opportunity',\n 596: 'private',\n 597: 'country',\n 598: 'action',\n 599: 'november',\n 600: 'windows',\n 601: 'oo',\n 602: 'fund',\n 603: 'growth',\n 604: 'around',\n 605: 'commercial',\n 606: 'paid',\n 607: 'public',\n 608: 'department',\n 609: 'major',\n 610: 'big',\n 611: 'h',\n 612: 'michael',\n 613: 'little',\n 614: '45',\n 615: 'related',\n 616: 'plans',\n 617: 'united',\n 618: 'material',\n 619: 'unknown',\n 620: 'board',\n 621: 'computer',\n 622: 'late',\n 623: 'executive',\n 624: 'person',\n 625: 'transactions',\n 626: 'resources',\n 627: 'hello',\n 628: 'recent',\n 629: 'effective',\n 630: 'lay',\n 631: 'alias',\n 632: 'schedules',\n 633: 'bob',\n 634: 'kevin',\n 635: 'close',\n 636: 'officer',\n 637: 'getting',\n 638: 'jeff',\n 639: 'bankruptcy',\n 640: 'open',\n 641: 'try',\n 642: 'newsletter',\n 643: 'rates',\n 644: 'reserved',\n 645: 'commission',\n 646: 'needed',\n 647: 'status',\n 648: 'rating',\n 649: 'completed',\n 650: 'second',\n 651: 'comments',\n 652: 'amount',\n 653: 'release',\n 654: 'desk',\n 655: 'corporate',\n 656: 'problems',\n 657: '35',\n 658: 'via',\n 659: 'level',\n 660: 'equity',\n 661: 'press',\n 662: 'prior',\n 663: 'delivery',\n 664: 'control',\n 665: 'offers',\n 666: 'september',\n 667: 'view',\n 668: 'never',\n 669: 'letter',\n 670: 'problem',\n 671: 'later',\n 672: 'remove',\n 673: 'certain',\n 674: 'projects',\n 675: 'run',\n 676: 'follow',\n 677: 'html',\n 678: 'important',\n 679: 'works',\n 680: 'university',\n 681: 'yesterday',\n 682: 'payment',\n 683: 'accounting',\n 684: 'microsoft',\n 685: 'earnings',\n 686: 'demand',\n 687: 'watch',\n 688: 'things',\n 689: 'chairman',\n 690: 'immediately',\n 691: '75',\n 692: 'etc',\n 693: 'claim',\n 694: 'risks',\n 695: 'uk',\n 696: 'viagra',\n 697: 'family',\n 698: '70',\n 699: 'talk',\n 700: 'version',\n 701: 'transfer',\n 702: 'approved',\n 703: 'ms',\n 704: 'canada',\n 705: 'anything',\n 706: 'reports',\n 707: 'area',\n 708: 'always',\n 709: 'la',\n 710: 'others',\n 711: 'size',\n 712: 'costs',\n 713: 'ask',\n 714: 'necessary',\n 715: 'analyst',\n 716: 'show',\n 717: 'easy',\n 718: 'either',\n 719: 'expectations',\n 720: 'operation',\n 721: 'members',\n 722: 'flow',\n 723: 'pro',\n 724: 'sally',\n 725: 'interview',\n 726: 'direct',\n 727: 'supply',\n 728: 'presentation',\n 729: 'option',\n 730: 'enronxgate',\n 731: '853',\n 732: 'approval',\n 733: 'yet',\n 734: 'sec',\n 735: 'plant',\n 736: 'experience',\n 737: 'nov',\n 738: 'smith',\n 739: 'basis',\n 740: '44',\n 741: 'making',\n 742: 'large',\n 743: 'found',\n 744: 'ever',\n 745: 'ferc',\n 746: 'operating',\n 747: 'result',\n 748: 'unit',\n 749: 'together',\n 750: 'something',\n 751: 'course',\n 752: 'remember',\n 753: 'q',\n 754: 'user',\n 755: 'having',\n 756: 'investing',\n 757: 'europe',\n 758: 'response',\n 759: 'xp',\n 760: 'whether',\n 761: 'lot',\n 762: 'different',\n 763: 'asked',\n 764: 'closed',\n 765: 'mary',\n 766: 'event',\n 767: 'yahoo',\n 768: 'non',\n 769: 'expect',\n 770: 'hard',\n 771: 'west',\n 772: 'committee',\n 773: 'february',\n 774: 'according',\n 775: 'small',\n 776: 'application',\n 777: 'key',\n 778: 'staff',\n 779: 'kind',\n 780: 'lottery',\n 781: 'ready',\n 782: 'portland',\n 783: 'early',\n 784: 'page',\n 785: 'loss',\n 786: 'cents',\n 787: 'registered',\n 788: 'period',\n 789: 'says',\n 790: 'names',\n 791: 'james',\n 792: 'wanted',\n 793: 'tomorrow',\n 794: 'ca',\n 795: 'usa',\n 796: 'become',\n 797: 'held',\n 798: 'announced',\n 799: 'cause',\n 800: 'mm',\n 801: 'corporation',\n 802: 'ceo',\n 803: 'upon',\n 804: 'job',\n 805: 'create',\n 806: 'doing',\n 807: 'confidential',\n 808: 'analysis',\n 809: 'happy',\n 810: 'told',\n 811: 'volumes',\n 812: 'american',\n 813: 'summer',\n 814: 'partnerships',\n 815: 'investor',\n 816: 'chris',\n 817: 'richard',\n 818: 'cd',\n 819: 'tax',\n 820: 'standard',\n 821: 'analysts',\n 822: 'balance',\n 823: 'paper',\n 824: 'wall',\n 825: 'soft',\n 826: 'bring',\n 827: 'five',\n 828: 'among',\n 829: 'sources',\n 830: 'estimates',\n 831: 'against',\n 832: '200',\n 833: '36',\n 834: 'away',\n 835: 'left',\n 836: 'download',\n 837: 'farmer',\n 838: 'trader',\n 839: 'average',\n 840: 'storage',\n 841: 'al',\n 842: 'strong',\n 843: 'decision',\n 844: 'network',\n 845: '32',\n 846: 'federal',\n 847: 'south',\n 848: 'personal',\n 849: 'search',\n 850: 'pricing',\n 851: 'latest',\n 852: 'content',\n 853: 'doc',\n 854: 'scheduling',\n 855: 'success',\n 856: 'crenshaw',\n 857: 'man',\n 858: 'cut',\n 859: 'ago',\n 860: 'love',\n 861: '2003',\n 862: 'mid',\n 863: 'feedback',\n 864: 'resume',\n 865: 'traders',\n 866: 'mobile',\n 867: 'four',\n 868: 'cera',\n 869: 'en',\n 870: 'utilities',\n 871: 'actual',\n 872: 'assistance',\n 873: 'everyone',\n 874: 'messages',\n 875: 'won',\n 876: 'jan',\n 877: 'transmission',\n 878: 'therefore',\n 879: 'charge',\n 880: 'largest',\n 881: 'write',\n 882: 'opportunities',\n 883: 'yourself',\n 884: 'xls',\n 885: 'target',\n 886: 'national',\n 887: 'thing',\n 888: 'return',\n 889: 'notes',\n 890: 'intended',\n 891: 'merger',\n 892: 'called',\n 893: 'mw',\n 894: 'ticket',\n 895: 'addition',\n 896: 'retail',\n 897: 'coming',\n 898: 'add',\n 899: 'least',\n 900: 'unsubscribe',\n 901: 'reuters',\n 902: 'city',\n 903: 'school',\n 904: 'taking',\n 905: 'fyi',\n 906: 'stinson',\n 907: 'sincerely',\n 908: 'cialis',\n 909: 'someone',\n 910: 'businesses',\n 911: 'agent',\n 912: 'computron',\n 913: 'participants',\n 914: 'tel',\n 915: 'fast',\n 916: 'org',\n 917: 'far',\n 918: 'likely',\n 919: 'source',\n 920: 'understand',\n 921: 'requirements',\n 922: 'includes',\n 923: 'dr',\n 924: 'ability',\n 925: 'discussions',\n 926: 'wholesale',\n 927: 'reference',\n 928: 'revenue',\n 929: 'worldwide',\n 930: 'thought',\n 931: 'nothing',\n 932: 'sold',\n 933: 'agreed',\n 934: 'included',\n 935: 'senior',\n 936: 'quick',\n 937: 'meaning',\n 938: 'minutes',\n 939: 'oct',\n 940: 'health',\n 941: 'anyone',\n 942: 'employee',\n 943: 'join',\n 944: 'prize',\n 945: 'jim',\n 946: 'live',\n 947: '800',\n 948: 'lose',\n 949: 'code',\n 950: 'scott',\n 951: 'question',\n 952: 'added',\n 953: 'differ',\n 954: 'factors',\n 955: 'card',\n 956: 'fee',\n 957: 'mentioned',\n 958: 'higher',\n 959: 'individual',\n 960: 'log',\n 961: 'sheet',\n 962: 'font',\n 963: 'longer',\n 964: 'earlier',\n 965: 'house',\n 966: 'hot',\n 967: 'contains',\n 968: 'scheduled',\n 969: 'acquisition',\n 970: 'enough',\n 971: 'removed',\n 972: 'recently',\n 973: 'effort',\n 974: 'tell',\n 975: 'weather',\n 976: 'tom',\n 977: 'uncertainties',\n 978: 'old',\n 979: 'financing',\n 980: 'text',\n 981: 'receiving',\n 982: 'claims',\n 983: 'matter',\n 984: 'aware',\n 985: 'probably',\n 986: 'telephone',\n 987: 'brian',\n 988: 'prescription',\n 989: 'williams',\n 990: 'clear',\n 991: 'half',\n 992: 'index',\n 993: 'foreign',\n 994: 'reporting',\n 995: 'thousand',\n 996: 'simply',\n 997: 'tim',\n 998: 'efforts',\n 999: 'sitara',\n 1000: 'pg',\n ...}"
     },
     "execution_count": 45,
     "metadata": {},
     "output_type": "execute_result"
    }
   ],
   "source": [
    "tokenizer.index_word"
   ],
   "metadata": {
    "collapsed": false,
    "pycharm": {
     "name": "#%%\n"
    }
   }
  },
  {
   "cell_type": "code",
   "execution_count": 46,
   "outputs": [
    {
     "data": {
      "text/plain": "159663"
     },
     "execution_count": 46,
     "metadata": {},
     "output_type": "execute_result"
    }
   ],
   "source": [
    "len(tokenizer.index_word)"
   ],
   "metadata": {
    "collapsed": false,
    "pycharm": {
     "name": "#%%\n"
    }
   }
  },
  {
   "cell_type": "markdown",
   "source": [
    "We do have 135711 unique words!"
   ],
   "metadata": {
    "collapsed": false
   }
  },
  {
   "cell_type": "markdown",
   "source": [],
   "metadata": {
    "collapsed": false
   }
  },
  {
   "cell_type": "code",
   "execution_count": 47,
   "outputs": [
    {
     "name": "stdout",
     "output_type": "stream",
     "text": [
      "Text               :  Go until jurong point, crazy.. Available only in bugis n great world la e buffet... Cine there got amore wat...\n",
      "Numerical Sequence :  [175, 410, 80617, 459, 4140, 233, 104, 6, 32196, 342, 341, 314, 709, 50, 13349, 20649, 94, 563, 80618, 5663]\n",
      "Text               :  Ok lar... Joking wif u oni...\n",
      "Numerical Sequence :  [1074, 8559, 21780, 11705, 162, 24818]\n",
      "Text               :  Free entry in 2 a wkly comp to win FA Cup final tkts 21st May 2005. Text FA to 87121 to receive entry question(std txt rate)T&C's apply 08452810075over18's\n",
      "Numerical Sequence :  [161, 2184, 6, 39, 5, 26862, 5268, 2, 2007, 6429, 9091, 366, 62121, 62122, 62, 408, 980, 6429, 2, 62123, 2, 333, 2184, 951, 24819, 1051, 387, 66, 18758, 1776, 80619]\n",
      "Text               :  U dun say so early hor... U c already then say...\n",
      "Numerical Sequence :  [162, 7103, 538, 97, 783, 40386, 162, 151, 448, 241, 538]\n",
      "Text               :  Nah I don't think he goes to usf, he lives around here though\n",
      "Numerical Sequence :  [15248, 12, 4828, 271, 87, 1692, 2, 14819, 87, 3675, 604, 85, 1054]\n"
     ]
    }
   ],
   "source": [
    "for i in range(5):\n",
    "        print(\"Text               : \",X[i] )\n",
    "        print(\"Numerical Sequence : \", text_to_sequence[i])"
   ],
   "metadata": {
    "collapsed": false,
    "pycharm": {
     "name": "#%%\n"
    }
   }
  },
  {
   "cell_type": "markdown",
   "source": [
    "#Normalization:\n",
    "Since all the messages are of different lengths also the sequences are of different length, so we have to padding the sequences with 0 to get equal length. Otherwise the sequences would not be compatible for the model!"
   ],
   "metadata": {
    "collapsed": false
   }
  },
  {
   "cell_type": "code",
   "execution_count": 48,
   "outputs": [
    {
     "data": {
      "text/plain": "array([[     0,      0,      0, ...,    563,  80618,   5663],\n       [     0,      0,      0, ...,  11705,    162,  24818],\n       [     0,      0,      0, ...,  18758,   1776,  80619],\n       ...,\n       [     0,      0,      0, ...,     80, 159660, 159661],\n       [     0,      0,      0, ...,    102,  10684,    883],\n       [     0,      0,      0, ...,     85, 159663,    226]], dtype=int32)"
     },
     "execution_count": 48,
     "metadata": {},
     "output_type": "execute_result"
    }
   ],
   "source": [
    "max_length_sequence = max([len(i) for i in text_to_sequence]) # finding the length of largest sequence\n",
    "padded_sequence = pad_sequences(text_to_sequence, maxlen=max_length_sequence, padding = \"pre\")\n",
    "padded_sequence"
   ],
   "metadata": {
    "collapsed": false,
    "pycharm": {
     "name": "#%%\n"
    }
   }
  },
  {
   "cell_type": "code",
   "execution_count": 49,
   "outputs": [
    {
     "name": "stdout",
     "output_type": "stream",
     "text": [
      "shape 35193 rows x  38067 cols\n"
     ]
    }
   ],
   "source": [
    "print(\"shape\",len(padded_sequence), \"rows x \",len(padded_sequence[0]),\"cols\")"
   ],
   "metadata": {
    "collapsed": false,
    "pycharm": {
     "name": "#%%\n"
    }
   }
  },
  {
   "cell_type": "markdown",
   "source": [
    "#Create LSTM Model:"
   ],
   "metadata": {
    "collapsed": false
   }
  },
  {
   "cell_type": "code",
   "execution_count": 50,
   "outputs": [
    {
     "name": "stdout",
     "output_type": "stream",
     "text": [
      "Model: \"sequential_1\"\n",
      "_________________________________________________________________\n",
      " Layer (type)                Output Shape              Param #   \n",
      "=================================================================\n",
      " embedding_1 (Embedding)     (None, 38067, 32)         5109248   \n",
      "                                                                 \n",
      " lstm_1 (LSTM)               (None, 100)               53200     \n",
      "                                                                 \n",
      " dropout_2 (Dropout)         (None, 100)               0         \n",
      "                                                                 \n",
      " dense_2 (Dense)             (None, 20)                2020      \n",
      "                                                                 \n",
      " dropout_3 (Dropout)         (None, 20)                0         \n",
      "                                                                 \n",
      " dense_3 (Dense)             (None, 1)                 21        \n",
      "                                                                 \n",
      "=================================================================\n",
      "Total params: 5,164,489\n",
      "Trainable params: 5,164,489\n",
      "Non-trainable params: 0\n",
      "_________________________________________________________________\n"
     ]
    }
   ],
   "source": [
    "TOT_SIZE = len(tokenizer.word_index)+1\n",
    "\n",
    "\n",
    "def create_model():\n",
    "      lstm_model = Sequential()\n",
    "      lstm_model.add(Embedding(TOT_SIZE, 32, input_length=max_length_sequence))\n",
    "      lstm_model.add(LSTM(100))\n",
    "      lstm_model.add(Dropout(0.4))\n",
    "      lstm_model.add(Dense(20, activation=\"relu\"))\n",
    "      lstm_model.add(Dropout(0.3))\n",
    "      lstm_model.add(Dense(1, activation = \"sigmoid\"))\n",
    "      return lstm_model\n",
    "\n",
    "\n",
    "lstm_model = create_model()\n",
    "lstm_model.compile(loss = \"binary_crossentropy\", optimizer = \"adam\", metrics = [\"accuracy\"])\n",
    "\n",
    "lstm_model.summary()"
   ],
   "metadata": {
    "collapsed": false,
    "pycharm": {
     "name": "#%%\n"
    }
   }
  },
  {
   "cell_type": "markdown",
   "source": [
    "#Train Test Split"
   ],
   "metadata": {
    "collapsed": false
   }
  },
  {
   "cell_type": "code",
   "execution_count": 51,
   "outputs": [],
   "source": [
    "from sklearn.model_selection import train_test_split\n",
    "X=padded_sequence\n",
    "y=df[\"label\"]\n",
    "X_train, X_test, y_train, y_test = train_test_split(X, y, test_size=0.25, random_state=42)"
   ],
   "metadata": {
    "collapsed": false,
    "pycharm": {
     "name": "#%%\n"
    }
   }
  },
  {
   "cell_type": "code",
   "execution_count": 52,
   "outputs": [
    {
     "data": {
      "text/plain": "array([[    0,     0,     0, ...,   853, 63697,   853],\n       [    0,     0,     0, ...,  2152,  1230,   853],\n       [    0,     0,     0, ...,  3752,   442,   378],\n       ...,\n       [    0,     0,     0, ...,  1187,    66,   117],\n       [    0,     0,     0, ..., 81029,  9369,  1173],\n       [    0,     0,     0, ..., 69698, 69699,   916]], dtype=int32)"
     },
     "execution_count": 52,
     "metadata": {},
     "output_type": "execute_result"
    }
   ],
   "source": [
    "X_train"
   ],
   "metadata": {
    "collapsed": false,
    "pycharm": {
     "name": "#%%\n"
    }
   }
  },
  {
   "cell_type": "code",
   "execution_count": 53,
   "outputs": [
    {
     "data": {
      "text/plain": "8114     0\n12923    0\n3978     0\n19283    0\n26255    1\n        ..\n16850    0\n6265     0\n11284    0\n860      0\n15795    1\nName: label, Length: 26394, dtype: int64"
     },
     "execution_count": 53,
     "metadata": {},
     "output_type": "execute_result"
    }
   ],
   "source": [
    "y_train"
   ],
   "metadata": {
    "collapsed": false,
    "pycharm": {
     "name": "#%%\n"
    }
   }
  },
  {
   "cell_type": "code",
   "execution_count": null,
   "outputs": [
    {
     "name": "stdout",
     "output_type": "stream",
     "text": [
      " 50/825 [>.............................] - ETA: 10:31:49 - loss: 0.6671 - accuracy: 0.6006"
     ]
    }
   ],
   "source": [
    "from keras.callbacks import EarlyStopping\n",
    "\n",
    "lstm_model.fit(X_train ,\n",
    "               y_train,\n",
    "               epochs=1,\n",
    "               callbacks=[EarlyStopping(monitor='val_loss',min_delta=0.0001)])"
   ],
   "metadata": {
    "collapsed": false,
    "pycharm": {
     "name": "#%%\n",
     "is_executing": true
    }
   }
  },
  {
   "cell_type": "code",
   "execution_count": null,
   "outputs": [],
   "source": [
    "scores = lstm_model.evaluate(X_test, y_test, verbose=0)\n",
    "print(\"Test Accuracy: %.2f%%\" % (scores[1]*100))"
   ],
   "metadata": {
    "collapsed": false,
    "pycharm": {
     "name": "#%%\n"
    }
   }
  },
  {
   "cell_type": "markdown",
   "source": [
    "#RESULT:\n",
    "\n",
    "Executed with google Colab:\n",
    "\n",
    "Using the preprocessed file:    Test Accuracy: 97.40%\n",
    "\n",
    "Using the unpreprocessed file:  Google Colabs 12GB of RAM are not enough - my machine uses 14GB but takes forever so I am running it with only 1 epoch..."
   ],
   "metadata": {
    "collapsed": false
   }
  }
 ],
 "metadata": {
  "kernelspec": {
   "display_name": "Python 3",
   "language": "python",
   "name": "python3"
  },
  "language_info": {
   "codemirror_mode": {
    "name": "ipython",
    "version": 2
   },
   "file_extension": ".py",
   "mimetype": "text/x-python",
   "name": "python",
   "nbconvert_exporter": "python",
   "pygments_lexer": "ipython2",
   "version": "2.7.6"
  }
 },
 "nbformat": 4,
 "nbformat_minor": 0
}