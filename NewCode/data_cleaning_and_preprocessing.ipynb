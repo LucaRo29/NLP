{
 "cells": [
  {
   "cell_type": "markdown",
   "source": [
    "Initial Setup:"
   ],
   "metadata": {
    "collapsed": false
   }
  },
  {
   "cell_type": "code",
   "execution_count": 23,
   "metadata": {
    "collapsed": true
   },
   "outputs": [],
   "source": [
    "import pandas as pd\n",
    "import nltk"
   ]
  },
  {
   "cell_type": "markdown",
   "source": [
    "Read Data:"
   ],
   "metadata": {
    "collapsed": false
   }
  },
  {
   "cell_type": "code",
   "execution_count": 24,
   "outputs": [
    {
     "name": "stdout",
     "output_type": "stream",
     "text": [
      "<class 'pandas.core.frame.DataFrame'>\n",
      "RangeIndex: 5572 entries, 0 to 5571\n",
      "Data columns (total 2 columns):\n",
      " #   Column  Non-Null Count  Dtype \n",
      "---  ------  --------------  ----- \n",
      " 0   label   5572 non-null   object\n",
      " 1   text    5572 non-null   object\n",
      "dtypes: object(2)\n",
      "memory usage: 87.2+ KB\n"
     ]
    },
    {
     "data": {
      "text/plain": "  label                                               text\n0   ham  Go until jurong point, crazy.. Available only ...\n1   ham                      Ok lar... Joking wif u oni...\n2  spam  Free entry in 2 a wkly comp to win FA Cup fina...\n3   ham  U dun say so early hor... U c already then say...\n4   ham  Nah I don't think he goes to usf, he lives aro...",
      "text/html": "<div>\n<style scoped>\n    .dataframe tbody tr th:only-of-type {\n        vertical-align: middle;\n    }\n\n    .dataframe tbody tr th {\n        vertical-align: top;\n    }\n\n    .dataframe thead th {\n        text-align: right;\n    }\n</style>\n<table border=\"1\" class=\"dataframe\">\n  <thead>\n    <tr style=\"text-align: right;\">\n      <th></th>\n      <th>label</th>\n      <th>text</th>\n    </tr>\n  </thead>\n  <tbody>\n    <tr>\n      <th>0</th>\n      <td>ham</td>\n      <td>Go until jurong point, crazy.. Available only ...</td>\n    </tr>\n    <tr>\n      <th>1</th>\n      <td>ham</td>\n      <td>Ok lar... Joking wif u oni...</td>\n    </tr>\n    <tr>\n      <th>2</th>\n      <td>spam</td>\n      <td>Free entry in 2 a wkly comp to win FA Cup fina...</td>\n    </tr>\n    <tr>\n      <th>3</th>\n      <td>ham</td>\n      <td>U dun say so early hor... U c already then say...</td>\n    </tr>\n    <tr>\n      <th>4</th>\n      <td>ham</td>\n      <td>Nah I don't think he goes to usf, he lives aro...</td>\n    </tr>\n  </tbody>\n</table>\n</div>"
     },
     "execution_count": 24,
     "metadata": {},
     "output_type": "execute_result"
    }
   ],
   "source": [
    "data_path1 = \"../Data/raw/spam.csv\"\n",
    "df_1 = pd.read_csv(data_path1, encoding = \"latin-1\")\n",
    "\n",
    "df_1.info()\n",
    "df_1.head()"
   ],
   "metadata": {
    "collapsed": false,
    "pycharm": {
     "name": "#%%\n"
    }
   }
  },
  {
   "cell_type": "markdown",
   "source": [
    "**Data Cleaning Step 1.1:**\n",
    "\n",
    "Change label encoding to:\n",
    "\n",
    "0 - ham\n",
    "\n",
    "1 - spam"
   ],
   "metadata": {
    "collapsed": false
   }
  },
  {
   "cell_type": "code",
   "execution_count": 25,
   "outputs": [
    {
     "data": {
      "text/plain": "   label                                               text\n0      0  Go until jurong point, crazy.. Available only ...\n1      0                      Ok lar... Joking wif u oni...\n2      1  Free entry in 2 a wkly comp to win FA Cup fina...\n3      0  U dun say so early hor... U c already then say...\n4      0  Nah I don't think he goes to usf, he lives aro...",
      "text/html": "<div>\n<style scoped>\n    .dataframe tbody tr th:only-of-type {\n        vertical-align: middle;\n    }\n\n    .dataframe tbody tr th {\n        vertical-align: top;\n    }\n\n    .dataframe thead th {\n        text-align: right;\n    }\n</style>\n<table border=\"1\" class=\"dataframe\">\n  <thead>\n    <tr style=\"text-align: right;\">\n      <th></th>\n      <th>label</th>\n      <th>text</th>\n    </tr>\n  </thead>\n  <tbody>\n    <tr>\n      <th>0</th>\n      <td>0</td>\n      <td>Go until jurong point, crazy.. Available only ...</td>\n    </tr>\n    <tr>\n      <th>1</th>\n      <td>0</td>\n      <td>Ok lar... Joking wif u oni...</td>\n    </tr>\n    <tr>\n      <th>2</th>\n      <td>1</td>\n      <td>Free entry in 2 a wkly comp to win FA Cup fina...</td>\n    </tr>\n    <tr>\n      <th>3</th>\n      <td>0</td>\n      <td>U dun say so early hor... U c already then say...</td>\n    </tr>\n    <tr>\n      <th>4</th>\n      <td>0</td>\n      <td>Nah I don't think he goes to usf, he lives aro...</td>\n    </tr>\n  </tbody>\n</table>\n</div>"
     },
     "execution_count": 25,
     "metadata": {},
     "output_type": "execute_result"
    }
   ],
   "source": [
    "from sklearn.preprocessing import LabelEncoder\n",
    "encoder = LabelEncoder()\n",
    "\n",
    "df_1['label'] = encoder.fit_transform(df_1['label'])\n",
    "df_1.head()"
   ],
   "metadata": {
    "collapsed": false,
    "pycharm": {
     "name": "#%%\n"
    }
   }
  },
  {
   "cell_type": "markdown",
   "source": [
    "Data Cleaning Step 1.2:\n",
    "\n",
    "Null values analysis"
   ],
   "metadata": {
    "collapsed": false
   }
  },
  {
   "cell_type": "code",
   "execution_count": 26,
   "outputs": [
    {
     "data": {
      "text/plain": "label    0\ntext     0\ndtype: int64"
     },
     "execution_count": 26,
     "metadata": {},
     "output_type": "execute_result"
    }
   ],
   "source": [
    "# missing values\n",
    "df_1.isnull().sum()"
   ],
   "metadata": {
    "collapsed": false,
    "pycharm": {
     "name": "#%%\n"
    }
   }
  },
  {
   "cell_type": "markdown",
   "source": [
    "**Data Cleaning Step 1.3: **\n",
    "\n",
    "Check for duplicates and remove them"
   ],
   "metadata": {
    "collapsed": false
   }
  },
  {
   "cell_type": "code",
   "execution_count": 27,
   "outputs": [
    {
     "name": "stdout",
     "output_type": "stream",
     "text": [
      "delete  415 duplicates...\n",
      "Remaining duplicates:  0\n"
     ]
    }
   ],
   "source": [
    "# check for duplicate values and delete them\n",
    "print(\"delete \", df_1.duplicated().sum(), \"duplicates...\")\n",
    "df_1 = df_1.drop_duplicates(keep='first')\n",
    "print(\"Remaining duplicates: \",df_1.duplicated().sum())"
   ],
   "metadata": {
    "collapsed": false,
    "pycharm": {
     "name": "#%%\n"
    }
   }
  },
  {
   "cell_type": "markdown",
   "source": [
    "**Data Cleaning Step 2.1: **"
   ],
   "metadata": {
    "collapsed": false
   }
  },
  {
   "cell_type": "code",
   "execution_count": 28,
   "outputs": [
    {
     "name": "stdout",
     "output_type": "stream",
     "text": [
      "<class 'pandas.core.frame.DataFrame'>\n",
      "RangeIndex: 33716 entries, 0 to 33715\n",
      "Data columns (total 5 columns):\n",
      " #   Column      Non-Null Count  Dtype \n",
      "---  ------      --------------  ----- \n",
      " 0   Message ID  33716 non-null  int64 \n",
      " 1   Subject     33427 non-null  object\n",
      " 2   Message     33345 non-null  object\n",
      " 3   Spam/Ham    33716 non-null  object\n",
      " 4   Date        33716 non-null  object\n",
      "dtypes: int64(1), object(4)\n",
      "memory usage: 1.3+ MB\n"
     ]
    },
    {
     "data": {
      "text/plain": "   Message ID                       Subject  \\\n0           0  christmas tree farm pictures   \n1           1      vastar resources , inc .   \n2           2  calpine daily gas nomination   \n3           3                    re : issue   \n4           4     meter 7268 nov allocation   \n\n                                             Message Spam/Ham        Date  \n0                                                NaN      ham  1999-12-10  \n1  gary , production from the high island larger ...      ham  1999-12-13  \n2             - calpine daily gas nomination 1 . doc      ham  1999-12-14  \n3  fyi - see note below - already done .\\nstella\\...      ham  1999-12-14  \n4  fyi .\\n- - - - - - - - - - - - - - - - - - - -...      ham  1999-12-14  ",
      "text/html": "<div>\n<style scoped>\n    .dataframe tbody tr th:only-of-type {\n        vertical-align: middle;\n    }\n\n    .dataframe tbody tr th {\n        vertical-align: top;\n    }\n\n    .dataframe thead th {\n        text-align: right;\n    }\n</style>\n<table border=\"1\" class=\"dataframe\">\n  <thead>\n    <tr style=\"text-align: right;\">\n      <th></th>\n      <th>Message ID</th>\n      <th>Subject</th>\n      <th>Message</th>\n      <th>Spam/Ham</th>\n      <th>Date</th>\n    </tr>\n  </thead>\n  <tbody>\n    <tr>\n      <th>0</th>\n      <td>0</td>\n      <td>christmas tree farm pictures</td>\n      <td>NaN</td>\n      <td>ham</td>\n      <td>1999-12-10</td>\n    </tr>\n    <tr>\n      <th>1</th>\n      <td>1</td>\n      <td>vastar resources , inc .</td>\n      <td>gary , production from the high island larger ...</td>\n      <td>ham</td>\n      <td>1999-12-13</td>\n    </tr>\n    <tr>\n      <th>2</th>\n      <td>2</td>\n      <td>calpine daily gas nomination</td>\n      <td>- calpine daily gas nomination 1 . doc</td>\n      <td>ham</td>\n      <td>1999-12-14</td>\n    </tr>\n    <tr>\n      <th>3</th>\n      <td>3</td>\n      <td>re : issue</td>\n      <td>fyi - see note below - already done .\\nstella\\...</td>\n      <td>ham</td>\n      <td>1999-12-14</td>\n    </tr>\n    <tr>\n      <th>4</th>\n      <td>4</td>\n      <td>meter 7268 nov allocation</td>\n      <td>fyi .\\n- - - - - - - - - - - - - - - - - - - -...</td>\n      <td>ham</td>\n      <td>1999-12-14</td>\n    </tr>\n  </tbody>\n</table>\n</div>"
     },
     "execution_count": 28,
     "metadata": {},
     "output_type": "execute_result"
    }
   ],
   "source": [
    "data_path2 = \"../Data/raw/enron_spam_data.csv\"\n",
    "df_2 = pd.read_csv(data_path2, encoding = \"latin-1\")\n",
    "\n",
    "df_2.info()\n",
    "df_2.head()"
   ],
   "metadata": {
    "collapsed": false,
    "pycharm": {
     "name": "#%%\n"
    }
   }
  },
  {
   "cell_type": "code",
   "execution_count": 29,
   "outputs": [
    {
     "name": "stdout",
     "output_type": "stream",
     "text": [
      "<class 'pandas.core.frame.DataFrame'>\n",
      "Int64Index: 33107 entries, 1 to 33715\n",
      "Data columns (total 5 columns):\n",
      " #   Column      Non-Null Count  Dtype \n",
      "---  ------      --------------  ----- \n",
      " 0   Message ID  33107 non-null  int64 \n",
      " 1   Subject     33107 non-null  object\n",
      " 2   Message     33107 non-null  object\n",
      " 3   Spam/Ham    33107 non-null  object\n",
      " 4   Date        33107 non-null  object\n",
      "dtypes: int64(1), object(4)\n",
      "memory usage: 1.5+ MB\n"
     ]
    },
    {
     "data": {
      "text/plain": "(33107, 5)"
     },
     "execution_count": 29,
     "metadata": {},
     "output_type": "execute_result"
    }
   ],
   "source": [
    "#Drop rows with null elements\n",
    "df_2.dropna(inplace=True)\n",
    "df_2.info()\n",
    "df_2.shape"
   ],
   "metadata": {
    "collapsed": false,
    "pycharm": {
     "name": "#%%\n"
    }
   }
  },
  {
   "cell_type": "code",
   "execution_count": 30,
   "outputs": [
    {
     "data": {
      "text/plain": "   Message ID                       Subject  \\\n1           1      vastar resources , inc .   \n2           2  calpine daily gas nomination   \n3           3                    re : issue   \n4           4     meter 7268 nov allocation   \n5           5      mcmullen gas for 11 / 99   \n\n                                             Message Spam/Ham        Date  \n1  gary , production from the high island larger ...      ham  1999-12-13  \n2             - calpine daily gas nomination 1 . doc      ham  1999-12-14  \n3  fyi - see note below - already done .\\nstella\\...      ham  1999-12-14  \n4  fyi .\\n- - - - - - - - - - - - - - - - - - - -...      ham  1999-12-14  \n5  jackie ,\\nsince the inlet to 3 river plant is ...      ham  1999-12-14  ",
      "text/html": "<div>\n<style scoped>\n    .dataframe tbody tr th:only-of-type {\n        vertical-align: middle;\n    }\n\n    .dataframe tbody tr th {\n        vertical-align: top;\n    }\n\n    .dataframe thead th {\n        text-align: right;\n    }\n</style>\n<table border=\"1\" class=\"dataframe\">\n  <thead>\n    <tr style=\"text-align: right;\">\n      <th></th>\n      <th>Message ID</th>\n      <th>Subject</th>\n      <th>Message</th>\n      <th>Spam/Ham</th>\n      <th>Date</th>\n    </tr>\n  </thead>\n  <tbody>\n    <tr>\n      <th>1</th>\n      <td>1</td>\n      <td>vastar resources , inc .</td>\n      <td>gary , production from the high island larger ...</td>\n      <td>ham</td>\n      <td>1999-12-13</td>\n    </tr>\n    <tr>\n      <th>2</th>\n      <td>2</td>\n      <td>calpine daily gas nomination</td>\n      <td>- calpine daily gas nomination 1 . doc</td>\n      <td>ham</td>\n      <td>1999-12-14</td>\n    </tr>\n    <tr>\n      <th>3</th>\n      <td>3</td>\n      <td>re : issue</td>\n      <td>fyi - see note below - already done .\\nstella\\...</td>\n      <td>ham</td>\n      <td>1999-12-14</td>\n    </tr>\n    <tr>\n      <th>4</th>\n      <td>4</td>\n      <td>meter 7268 nov allocation</td>\n      <td>fyi .\\n- - - - - - - - - - - - - - - - - - - -...</td>\n      <td>ham</td>\n      <td>1999-12-14</td>\n    </tr>\n    <tr>\n      <th>5</th>\n      <td>5</td>\n      <td>mcmullen gas for 11 / 99</td>\n      <td>jackie ,\\nsince the inlet to 3 river plant is ...</td>\n      <td>ham</td>\n      <td>1999-12-14</td>\n    </tr>\n  </tbody>\n</table>\n</div>"
     },
     "execution_count": 30,
     "metadata": {},
     "output_type": "execute_result"
    }
   ],
   "source": [
    "df_2.head()"
   ],
   "metadata": {
    "collapsed": false,
    "pycharm": {
     "name": "#%%\n"
    }
   }
  },
  {
   "cell_type": "code",
   "execution_count": 31,
   "outputs": [
    {
     "data": {
      "text/plain": "                                                 Subject  \\\n19407                          re : another said : i bet   \n16412  reply me after reading my mail from mrs margar...   \n23010              consolidated london doorstep findings   \n25240           are you listed in major search engines ?   \n10156  the thing is that a great errrection is provid...   \n\n                                                 Message Spam/Ham  \n19407  over 1 , 600 , ooo males in the world used our...     spam  \n16412  barr : margaret milakovich\\nmartin chambers ,\\...     spam  \n23010  attached is the spreadsheet requested that con...      ham  \n25240  submitting your website in search engines may ...     spam  \n10156  excellent everyday low prices on brand name an...     spam  ",
      "text/html": "<div>\n<style scoped>\n    .dataframe tbody tr th:only-of-type {\n        vertical-align: middle;\n    }\n\n    .dataframe tbody tr th {\n        vertical-align: top;\n    }\n\n    .dataframe thead th {\n        text-align: right;\n    }\n</style>\n<table border=\"1\" class=\"dataframe\">\n  <thead>\n    <tr style=\"text-align: right;\">\n      <th></th>\n      <th>Subject</th>\n      <th>Message</th>\n      <th>Spam/Ham</th>\n    </tr>\n  </thead>\n  <tbody>\n    <tr>\n      <th>19407</th>\n      <td>re : another said : i bet</td>\n      <td>over 1 , 600 , ooo males in the world used our...</td>\n      <td>spam</td>\n    </tr>\n    <tr>\n      <th>16412</th>\n      <td>reply me after reading my mail from mrs margar...</td>\n      <td>barr : margaret milakovich\\nmartin chambers ,\\...</td>\n      <td>spam</td>\n    </tr>\n    <tr>\n      <th>23010</th>\n      <td>consolidated london doorstep findings</td>\n      <td>attached is the spreadsheet requested that con...</td>\n      <td>ham</td>\n    </tr>\n    <tr>\n      <th>25240</th>\n      <td>are you listed in major search engines ?</td>\n      <td>submitting your website in search engines may ...</td>\n      <td>spam</td>\n    </tr>\n    <tr>\n      <th>10156</th>\n      <td>the thing is that a great errrection is provid...</td>\n      <td>excellent everyday low prices on brand name an...</td>\n      <td>spam</td>\n    </tr>\n  </tbody>\n</table>\n</div>"
     },
     "execution_count": 31,
     "metadata": {},
     "output_type": "execute_result"
    }
   ],
   "source": [
    " # drop last 2 cols\n",
    "df_2.drop(columns=['Message ID','Date'],inplace=True)\n",
    "df_2.sample(5)"
   ],
   "metadata": {
    "collapsed": false,
    "pycharm": {
     "name": "#%%\n"
    }
   }
  },
  {
   "cell_type": "code",
   "execution_count": 32,
   "outputs": [
    {
     "data": {
      "text/plain": "                                                    sub  \\\n249                    fw : whose needs ? ? ? ? ? ? ? ?   \n1319                        hpl nom for august 2 , 2000   \n12094                        fw : originations schedule   \n8180                                      fyi : forward   \n29518  your r _ x order is ready for refill from 96 but   \n\n                                                     msg label  \n249    > perfect ! ! ! ! ! ! ! ! !\\n>\\n> * * propriet...   ham  \n1319   ( see attached file : hplo 802 . xls )\\n- hplo...   ham  \n12094  faith ,\\nper our discussion , enovate and cent...   ham  \n8180   hi vince ,\\nthe following is what i wrote to m...   ham  \n29518  bandstand tenant castanet creon\\nasetar , \"\\nw...  spam  ",
      "text/html": "<div>\n<style scoped>\n    .dataframe tbody tr th:only-of-type {\n        vertical-align: middle;\n    }\n\n    .dataframe tbody tr th {\n        vertical-align: top;\n    }\n\n    .dataframe thead th {\n        text-align: right;\n    }\n</style>\n<table border=\"1\" class=\"dataframe\">\n  <thead>\n    <tr style=\"text-align: right;\">\n      <th></th>\n      <th>sub</th>\n      <th>msg</th>\n      <th>label</th>\n    </tr>\n  </thead>\n  <tbody>\n    <tr>\n      <th>249</th>\n      <td>fw : whose needs ? ? ? ? ? ? ? ?</td>\n      <td>&gt; perfect ! ! ! ! ! ! ! ! !\\n&gt;\\n&gt; * * propriet...</td>\n      <td>ham</td>\n    </tr>\n    <tr>\n      <th>1319</th>\n      <td>hpl nom for august 2 , 2000</td>\n      <td>( see attached file : hplo 802 . xls )\\n- hplo...</td>\n      <td>ham</td>\n    </tr>\n    <tr>\n      <th>12094</th>\n      <td>fw : originations schedule</td>\n      <td>faith ,\\nper our discussion , enovate and cent...</td>\n      <td>ham</td>\n    </tr>\n    <tr>\n      <th>8180</th>\n      <td>fyi : forward</td>\n      <td>hi vince ,\\nthe following is what i wrote to m...</td>\n      <td>ham</td>\n    </tr>\n    <tr>\n      <th>29518</th>\n      <td>your r _ x order is ready for refill from 96 but</td>\n      <td>bandstand tenant castanet creon\\nasetar , \"\\nw...</td>\n      <td>spam</td>\n    </tr>\n  </tbody>\n</table>\n</div>"
     },
     "execution_count": 32,
     "metadata": {},
     "output_type": "execute_result"
    }
   ],
   "source": [
    "# renaming the cols\n",
    "df_2.rename(columns={'Subject':'sub','Message':'msg','Spam/Ham':'label'},inplace=True)\n",
    "df_2.sample(5)"
   ],
   "metadata": {
    "collapsed": false,
    "pycharm": {
     "name": "#%%\n"
    }
   }
  },
  {
   "cell_type": "code",
   "execution_count": 33,
   "outputs": [
    {
     "data": {
      "text/plain": "                                        sub  \\\n710                  organizational changes   \n12103                       prc contingency   \n25252             are you ready to get it ?   \n30080  pls call me : 0027 - 73 - 6373 - 227   \n3984              hard even after you cuumm   \n\n                                                     msg  label  \n710    - - - - - - - - - - - - - - - - - - - - - - fo...      0  \n12103  louise ,\\nas of today , i intend to be at mond...      0  \n25252  hello !\\nviagra is the # 1 med to struggle wit...      1  \n30080  philip wonyane\\n23 b gateway avenue\\ngauteng j...      1  \n3984   do not leave\\nthem hanging tonight ! ! ! ! ! !...      1  ",
      "text/html": "<div>\n<style scoped>\n    .dataframe tbody tr th:only-of-type {\n        vertical-align: middle;\n    }\n\n    .dataframe tbody tr th {\n        vertical-align: top;\n    }\n\n    .dataframe thead th {\n        text-align: right;\n    }\n</style>\n<table border=\"1\" class=\"dataframe\">\n  <thead>\n    <tr style=\"text-align: right;\">\n      <th></th>\n      <th>sub</th>\n      <th>msg</th>\n      <th>label</th>\n    </tr>\n  </thead>\n  <tbody>\n    <tr>\n      <th>710</th>\n      <td>organizational changes</td>\n      <td>- - - - - - - - - - - - - - - - - - - - - - fo...</td>\n      <td>0</td>\n    </tr>\n    <tr>\n      <th>12103</th>\n      <td>prc contingency</td>\n      <td>louise ,\\nas of today , i intend to be at mond...</td>\n      <td>0</td>\n    </tr>\n    <tr>\n      <th>25252</th>\n      <td>are you ready to get it ?</td>\n      <td>hello !\\nviagra is the # 1 med to struggle wit...</td>\n      <td>1</td>\n    </tr>\n    <tr>\n      <th>30080</th>\n      <td>pls call me : 0027 - 73 - 6373 - 227</td>\n      <td>philip wonyane\\n23 b gateway avenue\\ngauteng j...</td>\n      <td>1</td>\n    </tr>\n    <tr>\n      <th>3984</th>\n      <td>hard even after you cuumm</td>\n      <td>do not leave\\nthem hanging tonight ! ! ! ! ! !...</td>\n      <td>1</td>\n    </tr>\n  </tbody>\n</table>\n</div>"
     },
     "execution_count": 33,
     "metadata": {},
     "output_type": "execute_result"
    }
   ],
   "source": [
    "df_2['label'] = encoder.fit_transform(df_2['label'])\n",
    "df_2.sample(5)"
   ],
   "metadata": {
    "collapsed": false,
    "pycharm": {
     "name": "#%%\n"
    }
   }
  },
  {
   "cell_type": "code",
   "execution_count": 34,
   "outputs": [
    {
     "name": "stdout",
     "output_type": "stream",
     "text": [
      "found  3071 dubs\n",
      "dubs remain:  0\n"
     ]
    }
   ],
   "source": [
    "#search dubs\n",
    "print(\"found \", df_2.duplicated().sum(), \"dubs\")\n",
    "df_2 = df_2.drop_duplicates(keep='first')\n",
    "print(\"dubs remain: \",df_2.duplicated().sum())"
   ],
   "metadata": {
    "collapsed": false,
    "pycharm": {
     "name": "#%%\n"
    }
   }
  },
  {
   "cell_type": "code",
   "execution_count": 35,
   "outputs": [
    {
     "data": {
      "text/plain": "       label                                               text\n9344       0  re : willow and pathstar evaluations ok - than...\n16784      0  damn the weather ! ! ! ! hey there ! !\\noh i w...\n7197       0  bollerslev seminar vince :\\ni don ' t know if ...\n1716       0  cornhusker contract information rick ,\\nattach...\n9216       0  re : from a previous summer intern dear giusep...",
      "text/html": "<div>\n<style scoped>\n    .dataframe tbody tr th:only-of-type {\n        vertical-align: middle;\n    }\n\n    .dataframe tbody tr th {\n        vertical-align: top;\n    }\n\n    .dataframe thead th {\n        text-align: right;\n    }\n</style>\n<table border=\"1\" class=\"dataframe\">\n  <thead>\n    <tr style=\"text-align: right;\">\n      <th></th>\n      <th>label</th>\n      <th>text</th>\n    </tr>\n  </thead>\n  <tbody>\n    <tr>\n      <th>9344</th>\n      <td>0</td>\n      <td>re : willow and pathstar evaluations ok - than...</td>\n    </tr>\n    <tr>\n      <th>16784</th>\n      <td>0</td>\n      <td>damn the weather ! ! ! ! hey there ! !\\noh i w...</td>\n    </tr>\n    <tr>\n      <th>7197</th>\n      <td>0</td>\n      <td>bollerslev seminar vince :\\ni don ' t know if ...</td>\n    </tr>\n    <tr>\n      <th>1716</th>\n      <td>0</td>\n      <td>cornhusker contract information rick ,\\nattach...</td>\n    </tr>\n    <tr>\n      <th>9216</th>\n      <td>0</td>\n      <td>re : from a previous summer intern dear giusep...</td>\n    </tr>\n  </tbody>\n</table>\n</div>"
     },
     "execution_count": 35,
     "metadata": {},
     "output_type": "execute_result"
    }
   ],
   "source": [
    "#merge sub + msg\n",
    "\n",
    "df_2['text'] = df_2['sub'] + \" \" +  df_2['msg']\n",
    "df_2.drop(columns=['msg','sub'],inplace=True)\n",
    "df_2.sample(5)"
   ],
   "metadata": {
    "collapsed": false,
    "pycharm": {
     "name": "#%%\n"
    }
   }
  },
  {
   "cell_type": "markdown",
   "source": [
    "Merging the two datasets:"
   ],
   "metadata": {
    "collapsed": false
   }
  },
  {
   "cell_type": "code",
   "execution_count": 36,
   "outputs": [
    {
     "data": {
      "text/plain": "(35193, 2)"
     },
     "execution_count": 36,
     "metadata": {},
     "output_type": "execute_result"
    }
   ],
   "source": [
    "df = pd.concat([df_1, df_2])\n",
    "df.shape"
   ],
   "metadata": {
    "collapsed": false,
    "pycharm": {
     "name": "#%%\n"
    }
   }
  },
  {
   "cell_type": "code",
   "execution_count": 37,
   "outputs": [
    {
     "data": {
      "text/plain": "       label                                               text\n23087      0  emily ' s first pictures just so you can see w...\n18614      1  fw : your email address . save on prescription...\n4213       1  Missed call alert. These numbers called but le...\n9870       1  international calls for only 33 cents per minu...\n16247      1  re : award claim final notfication . el - gord...",
      "text/html": "<div>\n<style scoped>\n    .dataframe tbody tr th:only-of-type {\n        vertical-align: middle;\n    }\n\n    .dataframe tbody tr th {\n        vertical-align: top;\n    }\n\n    .dataframe thead th {\n        text-align: right;\n    }\n</style>\n<table border=\"1\" class=\"dataframe\">\n  <thead>\n    <tr style=\"text-align: right;\">\n      <th></th>\n      <th>label</th>\n      <th>text</th>\n    </tr>\n  </thead>\n  <tbody>\n    <tr>\n      <th>23087</th>\n      <td>0</td>\n      <td>emily ' s first pictures just so you can see w...</td>\n    </tr>\n    <tr>\n      <th>18614</th>\n      <td>1</td>\n      <td>fw : your email address . save on prescription...</td>\n    </tr>\n    <tr>\n      <th>4213</th>\n      <td>1</td>\n      <td>Missed call alert. These numbers called but le...</td>\n    </tr>\n    <tr>\n      <th>9870</th>\n      <td>1</td>\n      <td>international calls for only 33 cents per minu...</td>\n    </tr>\n    <tr>\n      <th>16247</th>\n      <td>1</td>\n      <td>re : award claim final notfication . el - gord...</td>\n    </tr>\n  </tbody>\n</table>\n</div>"
     },
     "execution_count": 37,
     "metadata": {},
     "output_type": "execute_result"
    }
   ],
   "source": [
    "df.sample(5)"
   ],
   "metadata": {
    "collapsed": false,
    "pycharm": {
     "name": "#%%\n"
    }
   }
  },
  {
   "cell_type": "code",
   "execution_count": 38,
   "outputs": [
    {
     "data": {
      "text/plain": "label    0\ntext     0\ndtype: int64"
     },
     "execution_count": 38,
     "metadata": {},
     "output_type": "execute_result"
    }
   ],
   "source": [
    "df.isnull().sum()"
   ],
   "metadata": {
    "collapsed": false,
    "pycharm": {
     "name": "#%%\n"
    }
   }
  },
  {
   "cell_type": "code",
   "execution_count": 39,
   "outputs": [],
   "source": [
    "df.to_csv(\"Data/merged_cleaned.csv\", index=False)"
   ],
   "metadata": {
    "collapsed": false,
    "pycharm": {
     "name": "#%%\n"
    }
   }
  },
  {
   "cell_type": "markdown",
   "source": [
    "# Data preprocessing:\n",
    "\n",
    "The following function applies the following preprocessing steps to a text:\n",
    "\n",
    "*   lowecase\n",
    "*   tokenization (using nltk word tokenizer)\n",
    "*   removing special characters and punctuation (actually all characters except numbers and letters)\n",
    "*   removing stopwords (using nltk stopword list)\n",
    "*   normalizing words using lematization (using nltk WordNetLemmatizer)"
   ],
   "metadata": {
    "collapsed": false
   }
  },
  {
   "cell_type": "code",
   "execution_count": 40,
   "outputs": [
    {
     "name": "stderr",
     "output_type": "stream",
     "text": [
      "[nltk_data] Downloading package stopwords to\n",
      "[nltk_data]     /Users/elsandner/nltk_data...\n",
      "[nltk_data]   Package stopwords is already up-to-date!\n",
      "[nltk_data] Downloading package wordnet to\n",
      "[nltk_data]     /Users/elsandner/nltk_data...\n",
      "[nltk_data]   Package wordnet is already up-to-date!\n"
     ]
    }
   ],
   "source": [
    "from nltk.corpus import stopwords\n",
    "nltk.download('stopwords')\n",
    "nltk.download('wordnet')\n",
    "\n",
    "#from nltk.stem.porter import PorterStemmer\n",
    "#ps = PorterStemmer()\n",
    "\n",
    "from nltk.stem import WordNetLemmatizer\n",
    "lemmatizer = WordNetLemmatizer()\n",
    "import string\n",
    "\n",
    "def transform_text(text):\n",
    "    text = text.lower()\n",
    "    text = nltk.word_tokenize(text)\n",
    "\n",
    "    #retaining only numbers and alphabets\n",
    "    y = []\n",
    "    for i in text:\n",
    "        if i.isalpha():\n",
    "            y.append(i)\n",
    "\n",
    "    #clone copy of list y\n",
    "    text = y[:]\n",
    "    y.clear()\n",
    "\n",
    "    #stopwords removal\n",
    "    for i in text:\n",
    "        if i not in stopwords.words('english') and i not in string.punctuation:\n",
    "            y.append(i)\n",
    "\n",
    "    text = y[:]\n",
    "    y.clear()\n",
    "\n",
    "    #leammtization\n",
    "    for i in text:\n",
    "        #y.append(ps.stem(i))\n",
    "        y.append(lemmatizer.lemmatize(i))\n",
    "\n",
    "    return \" \".join(y)"
   ],
   "metadata": {
    "collapsed": false,
    "pycharm": {
     "name": "#%%\n"
    }
   }
  },
  {
   "cell_type": "code",
   "execution_count": 41,
   "outputs": [
    {
     "data": {
      "text/plain": "   label                                               text  \\\n0      0  Go until jurong point, crazy.. Available only ...   \n1      0                      Ok lar... Joking wif u oni...   \n2      1  Free entry in 2 a wkly comp to win FA Cup fina...   \n3      0  U dun say so early hor... U c already then say...   \n4      0  Nah I don't think he goes to usf, he lives aro...   \n\n                                    transformed_text  \n0  go jurong point crazy available bugis n great ...  \n1                            ok lar joking wif u oni  \n2  free entry wkly comp win fa cup final tkts may...  \n3                u dun say early hor u c already say  \n4                nah think go usf life around though  ",
      "text/html": "<div>\n<style scoped>\n    .dataframe tbody tr th:only-of-type {\n        vertical-align: middle;\n    }\n\n    .dataframe tbody tr th {\n        vertical-align: top;\n    }\n\n    .dataframe thead th {\n        text-align: right;\n    }\n</style>\n<table border=\"1\" class=\"dataframe\">\n  <thead>\n    <tr style=\"text-align: right;\">\n      <th></th>\n      <th>label</th>\n      <th>text</th>\n      <th>transformed_text</th>\n    </tr>\n  </thead>\n  <tbody>\n    <tr>\n      <th>0</th>\n      <td>0</td>\n      <td>Go until jurong point, crazy.. Available only ...</td>\n      <td>go jurong point crazy available bugis n great ...</td>\n    </tr>\n    <tr>\n      <th>1</th>\n      <td>0</td>\n      <td>Ok lar... Joking wif u oni...</td>\n      <td>ok lar joking wif u oni</td>\n    </tr>\n    <tr>\n      <th>2</th>\n      <td>1</td>\n      <td>Free entry in 2 a wkly comp to win FA Cup fina...</td>\n      <td>free entry wkly comp win fa cup final tkts may...</td>\n    </tr>\n    <tr>\n      <th>3</th>\n      <td>0</td>\n      <td>U dun say so early hor... U c already then say...</td>\n      <td>u dun say early hor u c already say</td>\n    </tr>\n    <tr>\n      <th>4</th>\n      <td>0</td>\n      <td>Nah I don't think he goes to usf, he lives aro...</td>\n      <td>nah think go usf life around though</td>\n    </tr>\n  </tbody>\n</table>\n</div>"
     },
     "execution_count": 41,
     "metadata": {},
     "output_type": "execute_result"
    }
   ],
   "source": [
    "df['transformed_text'] = df['text'].apply(transform_text)\n",
    "df.head()"
   ],
   "metadata": {
    "collapsed": false,
    "pycharm": {
     "name": "#%%\n"
    }
   }
  },
  {
   "cell_type": "code",
   "execution_count": 42,
   "outputs": [
    {
     "data": {
      "text/plain": "   label                                   transformed_text\n0      0  go jurong point crazy available bugis n great ...\n1      0                            ok lar joking wif u oni\n2      1  free entry wkly comp win fa cup final tkts may...\n3      0                u dun say early hor u c already say\n4      0                nah think go usf life around though",
      "text/html": "<div>\n<style scoped>\n    .dataframe tbody tr th:only-of-type {\n        vertical-align: middle;\n    }\n\n    .dataframe tbody tr th {\n        vertical-align: top;\n    }\n\n    .dataframe thead th {\n        text-align: right;\n    }\n</style>\n<table border=\"1\" class=\"dataframe\">\n  <thead>\n    <tr style=\"text-align: right;\">\n      <th></th>\n      <th>label</th>\n      <th>transformed_text</th>\n    </tr>\n  </thead>\n  <tbody>\n    <tr>\n      <th>0</th>\n      <td>0</td>\n      <td>go jurong point crazy available bugis n great ...</td>\n    </tr>\n    <tr>\n      <th>1</th>\n      <td>0</td>\n      <td>ok lar joking wif u oni</td>\n    </tr>\n    <tr>\n      <th>2</th>\n      <td>1</td>\n      <td>free entry wkly comp win fa cup final tkts may...</td>\n    </tr>\n    <tr>\n      <th>3</th>\n      <td>0</td>\n      <td>u dun say early hor u c already say</td>\n    </tr>\n    <tr>\n      <th>4</th>\n      <td>0</td>\n      <td>nah think go usf life around though</td>\n    </tr>\n  </tbody>\n</table>\n</div>"
     },
     "execution_count": 42,
     "metadata": {},
     "output_type": "execute_result"
    }
   ],
   "source": [
    "df.drop(columns=['text'],inplace=True)\n",
    "df.head()"
   ],
   "metadata": {
    "collapsed": false,
    "pycharm": {
     "name": "#%%\n"
    }
   }
  },
  {
   "cell_type": "code",
   "execution_count": 43,
   "outputs": [
    {
     "data": {
      "text/plain": "   label                                               text\n0      0  go jurong point crazy available bugis n great ...\n1      0                            ok lar joking wif u oni\n2      1  free entry wkly comp win fa cup final tkts may...\n3      0                u dun say early hor u c already say\n4      0                nah think go usf life around though",
      "text/html": "<div>\n<style scoped>\n    .dataframe tbody tr th:only-of-type {\n        vertical-align: middle;\n    }\n\n    .dataframe tbody tr th {\n        vertical-align: top;\n    }\n\n    .dataframe thead th {\n        text-align: right;\n    }\n</style>\n<table border=\"1\" class=\"dataframe\">\n  <thead>\n    <tr style=\"text-align: right;\">\n      <th></th>\n      <th>label</th>\n      <th>text</th>\n    </tr>\n  </thead>\n  <tbody>\n    <tr>\n      <th>0</th>\n      <td>0</td>\n      <td>go jurong point crazy available bugis n great ...</td>\n    </tr>\n    <tr>\n      <th>1</th>\n      <td>0</td>\n      <td>ok lar joking wif u oni</td>\n    </tr>\n    <tr>\n      <th>2</th>\n      <td>1</td>\n      <td>free entry wkly comp win fa cup final tkts may...</td>\n    </tr>\n    <tr>\n      <th>3</th>\n      <td>0</td>\n      <td>u dun say early hor u c already say</td>\n    </tr>\n    <tr>\n      <th>4</th>\n      <td>0</td>\n      <td>nah think go usf life around though</td>\n    </tr>\n  </tbody>\n</table>\n</div>"
     },
     "execution_count": 43,
     "metadata": {},
     "output_type": "execute_result"
    }
   ],
   "source": [
    "df.rename(columns={'transformed_text':'text'},inplace=True)\n",
    "df.head()"
   ],
   "metadata": {
    "collapsed": false,
    "pycharm": {
     "name": "#%%\n"
    }
   }
  },
  {
   "cell_type": "code",
   "execution_count": 44,
   "outputs": [
    {
     "data": {
      "text/plain": "label    0\ntext     0\ndtype: int64"
     },
     "execution_count": 44,
     "metadata": {},
     "output_type": "execute_result"
    }
   ],
   "source": [
    "df.isnull().sum()"
   ],
   "metadata": {
    "collapsed": false,
    "pycharm": {
     "name": "#%%\n"
    }
   }
  },
  {
   "cell_type": "code",
   "execution_count": 45,
   "outputs": [],
   "source": [
    "df.to_csv(\"Data/merged_cleaned_preprocessed.csv\", index=False)"
   ],
   "metadata": {
    "collapsed": false,
    "pycharm": {
     "name": "#%%\n"
    }
   }
  },
  {
   "cell_type": "markdown",
   "source": [
    "#Feature Engineering"
   ],
   "metadata": {
    "collapsed": false
   }
  },
  {
   "cell_type": "code",
   "execution_count": 47,
   "outputs": [
    {
     "data": {
      "text/plain": "<AxesSubplot:xlabel='label', ylabel='count'>"
     },
     "execution_count": 47,
     "metadata": {},
     "output_type": "execute_result"
    },
    {
     "data": {
      "text/plain": "<Figure size 432x288 with 1 Axes>",
      "image/png": "[encoded data removed]"
     },
     "metadata": {
      "needs_background": "light"
     },
     "output_type": "display_data"
    }
   ],
   "source": [
    "import seaborn as sns\n",
    "sns.countplot(x=df[\"label\"])"
   ],
   "metadata": {
    "collapsed": false,
    "pycharm": {
     "name": "#%%\n"
    }
   }
  },
  {
   "cell_type": "markdown",
   "source": [
    "0..ham 1..spam"
   ],
   "metadata": {
    "collapsed": false,
    "pycharm": {
     "name": "#%% md\n"
    }
   }
  }
 ],
 "metadata": {
  "kernelspec": {
   "display_name": "Python 3",
   "language": "python",
   "name": "python3"
  },
  "language_info": {
   "codemirror_mode": {
    "name": "ipython",
    "version": 2
   },
   "file_extension": ".py",
   "mimetype": "text/x-python",
   "name": "python",
   "nbconvert_exporter": "python",
   "pygments_lexer": "ipython2",
   "version": "2.7.6"
  }
 },
 "nbformat": 4,
 "nbformat_minor": 0
}