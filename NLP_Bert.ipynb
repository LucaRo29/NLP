{
  "nbformat": 4,
  "nbformat_minor": 0,
  "metadata": {
    "colab": {
      "name": "NLP_Bert.ipynb",
      "provenance": [],
      "mount_file_id": "1qlvJl-40_csmolKRCUtZOJPgDayH3Ndb",
      "authorship_tag": "ABX9TyNBMbJz5ZdO4U4tQVgitx3k",
      "include_colab_link": true
    },
    "kernelspec": {
      "name": "python3",
      "display_name": "Python 3"
    },
    "language_info": {
      "name": "python"
    }
  },
  "cells": [
    {
      "cell_type": "markdown",
      "metadata": {
        "id": "view-in-github",
        "colab_type": "text"
      },
      "source": [
        "<a href=\"https://colab.research.google.com/github/LucaRo29/NLP/blob/luca/NLP_Bert.ipynb\" target=\"_parent\"><img src=\"https://colab.research.google.com/assets/colab-badge.svg\" alt=\"Open In Colab\"/></a>"
      ]
    },
    {
      "cell_type": "code",
      "source": [
        "!pip install tensorflow_text "
      ],
      "metadata": {
        "id": "p6LpWi75NU0_",
        "colab": {
          "base_uri": "https://localhost:8080/"
        },
        "outputId": "4e0f75c4-efc3-49d5-a27a-9cbd79f89dcb"
      },
      "execution_count": null,
      "outputs": [
        {
          "output_type": "stream",
          "name": "stdout",
          "text": [
            "Looking in indexes: https://pypi.org/simple, https://us-python.pkg.dev/colab-wheels/public/simple/\n",
            "Collecting tensorflow_text\n",
            "  Downloading tensorflow_text-2.9.0-cp37-cp37m-manylinux_2_17_x86_64.manylinux2014_x86_64.whl (4.6 MB)\n",
            "\u001b[K     |████████████████████████████████| 4.6 MB 14.2 MB/s \n",
            "\u001b[?25hRequirement already satisfied: tensorflow-hub>=0.8.0 in /usr/local/lib/python3.7/dist-packages (from tensorflow_text) (0.12.0)\n",
            "Collecting tensorflow<2.10,>=2.9.0\n",
            "  Downloading tensorflow-2.9.1-cp37-cp37m-manylinux_2_17_x86_64.manylinux2014_x86_64.whl (511.7 MB)\n",
            "\u001b[K     |████████████████████████████████| 511.7 MB 6.1 kB/s \n",
            "\u001b[?25hRequirement already satisfied: h5py>=2.9.0 in /usr/local/lib/python3.7/dist-packages (from tensorflow<2.10,>=2.9.0->tensorflow_text) (3.1.0)\n",
            "Requirement already satisfied: numpy>=1.20 in /usr/local/lib/python3.7/dist-packages (from tensorflow<2.10,>=2.9.0->tensorflow_text) (1.21.6)\n",
            "Requirement already satisfied: typing-extensions>=3.6.6 in /usr/local/lib/python3.7/dist-packages (from tensorflow<2.10,>=2.9.0->tensorflow_text) (4.2.0)\n",
            "Requirement already satisfied: tensorflow-io-gcs-filesystem>=0.23.1 in /usr/local/lib/python3.7/dist-packages (from tensorflow<2.10,>=2.9.0->tensorflow_text) (0.26.0)\n",
            "Requirement already satisfied: keras-preprocessing>=1.1.1 in /usr/local/lib/python3.7/dist-packages (from tensorflow<2.10,>=2.9.0->tensorflow_text) (1.1.2)\n",
            "Collecting gast<=0.4.0,>=0.2.1\n",
            "  Downloading gast-0.4.0-py3-none-any.whl (9.8 kB)\n",
            "Requirement already satisfied: setuptools in /usr/local/lib/python3.7/dist-packages (from tensorflow<2.10,>=2.9.0->tensorflow_text) (57.4.0)\n",
            "Requirement already satisfied: termcolor>=1.1.0 in /usr/local/lib/python3.7/dist-packages (from tensorflow<2.10,>=2.9.0->tensorflow_text) (1.1.0)\n",
            "Requirement already satisfied: protobuf<3.20,>=3.9.2 in /usr/local/lib/python3.7/dist-packages (from tensorflow<2.10,>=2.9.0->tensorflow_text) (3.17.3)\n",
            "Requirement already satisfied: astunparse>=1.6.0 in /usr/local/lib/python3.7/dist-packages (from tensorflow<2.10,>=2.9.0->tensorflow_text) (1.6.3)\n",
            "Requirement already satisfied: wrapt>=1.11.0 in /usr/local/lib/python3.7/dist-packages (from tensorflow<2.10,>=2.9.0->tensorflow_text) (1.14.1)\n",
            "Collecting tensorflow-estimator<2.10.0,>=2.9.0rc0\n",
            "  Downloading tensorflow_estimator-2.9.0-py2.py3-none-any.whl (438 kB)\n",
            "\u001b[K     |████████████████████████████████| 438 kB 65.6 MB/s \n",
            "\u001b[?25hRequirement already satisfied: grpcio<2.0,>=1.24.3 in /usr/local/lib/python3.7/dist-packages (from tensorflow<2.10,>=2.9.0->tensorflow_text) (1.46.3)\n",
            "Collecting tensorboard<2.10,>=2.9\n",
            "  Downloading tensorboard-2.9.0-py3-none-any.whl (5.8 MB)\n",
            "\u001b[K     |████████████████████████████████| 5.8 MB 58.4 MB/s \n",
            "\u001b[?25hCollecting flatbuffers<2,>=1.12\n",
            "  Downloading flatbuffers-1.12-py2.py3-none-any.whl (15 kB)\n",
            "Requirement already satisfied: packaging in /usr/local/lib/python3.7/dist-packages (from tensorflow<2.10,>=2.9.0->tensorflow_text) (21.3)\n",
            "Requirement already satisfied: libclang>=13.0.0 in /usr/local/lib/python3.7/dist-packages (from tensorflow<2.10,>=2.9.0->tensorflow_text) (14.0.1)\n",
            "Requirement already satisfied: google-pasta>=0.1.1 in /usr/local/lib/python3.7/dist-packages (from tensorflow<2.10,>=2.9.0->tensorflow_text) (0.2.0)\n",
            "Requirement already satisfied: opt-einsum>=2.3.2 in /usr/local/lib/python3.7/dist-packages (from tensorflow<2.10,>=2.9.0->tensorflow_text) (3.3.0)\n",
            "Requirement already satisfied: absl-py>=1.0.0 in /usr/local/lib/python3.7/dist-packages (from tensorflow<2.10,>=2.9.0->tensorflow_text) (1.0.0)\n",
            "Collecting keras<2.10.0,>=2.9.0rc0\n",
            "  Downloading keras-2.9.0-py2.py3-none-any.whl (1.6 MB)\n",
            "\u001b[K     |████████████████████████████████| 1.6 MB 49.9 MB/s \n",
            "\u001b[?25hRequirement already satisfied: six>=1.12.0 in /usr/local/lib/python3.7/dist-packages (from tensorflow<2.10,>=2.9.0->tensorflow_text) (1.15.0)\n",
            "Requirement already satisfied: wheel<1.0,>=0.23.0 in /usr/local/lib/python3.7/dist-packages (from astunparse>=1.6.0->tensorflow<2.10,>=2.9.0->tensorflow_text) (0.37.1)\n",
            "Requirement already satisfied: cached-property in /usr/local/lib/python3.7/dist-packages (from h5py>=2.9.0->tensorflow<2.10,>=2.9.0->tensorflow_text) (1.5.2)\n",
            "Requirement already satisfied: google-auth<3,>=1.6.3 in /usr/local/lib/python3.7/dist-packages (from tensorboard<2.10,>=2.9->tensorflow<2.10,>=2.9.0->tensorflow_text) (1.35.0)\n",
            "Requirement already satisfied: requests<3,>=2.21.0 in /usr/local/lib/python3.7/dist-packages (from tensorboard<2.10,>=2.9->tensorflow<2.10,>=2.9.0->tensorflow_text) (2.23.0)\n",
            "Requirement already satisfied: google-auth-oauthlib<0.5,>=0.4.1 in /usr/local/lib/python3.7/dist-packages (from tensorboard<2.10,>=2.9->tensorflow<2.10,>=2.9.0->tensorflow_text) (0.4.6)\n",
            "Requirement already satisfied: markdown>=2.6.8 in /usr/local/lib/python3.7/dist-packages (from tensorboard<2.10,>=2.9->tensorflow<2.10,>=2.9.0->tensorflow_text) (3.3.7)\n",
            "Requirement already satisfied: werkzeug>=1.0.1 in /usr/local/lib/python3.7/dist-packages (from tensorboard<2.10,>=2.9->tensorflow<2.10,>=2.9.0->tensorflow_text) (1.0.1)\n",
            "Requirement already satisfied: tensorboard-plugin-wit>=1.6.0 in /usr/local/lib/python3.7/dist-packages (from tensorboard<2.10,>=2.9->tensorflow<2.10,>=2.9.0->tensorflow_text) (1.8.1)\n",
            "Requirement already satisfied: tensorboard-data-server<0.7.0,>=0.6.0 in /usr/local/lib/python3.7/dist-packages (from tensorboard<2.10,>=2.9->tensorflow<2.10,>=2.9.0->tensorflow_text) (0.6.1)\n",
            "Requirement already satisfied: cachetools<5.0,>=2.0.0 in /usr/local/lib/python3.7/dist-packages (from google-auth<3,>=1.6.3->tensorboard<2.10,>=2.9->tensorflow<2.10,>=2.9.0->tensorflow_text) (4.2.4)\n",
            "Requirement already satisfied: rsa<5,>=3.1.4 in /usr/local/lib/python3.7/dist-packages (from google-auth<3,>=1.6.3->tensorboard<2.10,>=2.9->tensorflow<2.10,>=2.9.0->tensorflow_text) (4.8)\n",
            "Requirement already satisfied: pyasn1-modules>=0.2.1 in /usr/local/lib/python3.7/dist-packages (from google-auth<3,>=1.6.3->tensorboard<2.10,>=2.9->tensorflow<2.10,>=2.9.0->tensorflow_text) (0.2.8)\n",
            "Requirement already satisfied: requests-oauthlib>=0.7.0 in /usr/local/lib/python3.7/dist-packages (from google-auth-oauthlib<0.5,>=0.4.1->tensorboard<2.10,>=2.9->tensorflow<2.10,>=2.9.0->tensorflow_text) (1.3.1)\n",
            "Requirement already satisfied: importlib-metadata>=4.4 in /usr/local/lib/python3.7/dist-packages (from markdown>=2.6.8->tensorboard<2.10,>=2.9->tensorflow<2.10,>=2.9.0->tensorflow_text) (4.11.4)\n",
            "Requirement already satisfied: zipp>=0.5 in /usr/local/lib/python3.7/dist-packages (from importlib-metadata>=4.4->markdown>=2.6.8->tensorboard<2.10,>=2.9->tensorflow<2.10,>=2.9.0->tensorflow_text) (3.8.0)\n",
            "Requirement already satisfied: pyasn1<0.5.0,>=0.4.6 in /usr/local/lib/python3.7/dist-packages (from pyasn1-modules>=0.2.1->google-auth<3,>=1.6.3->tensorboard<2.10,>=2.9->tensorflow<2.10,>=2.9.0->tensorflow_text) (0.4.8)\n",
            "Requirement already satisfied: idna<3,>=2.5 in /usr/local/lib/python3.7/dist-packages (from requests<3,>=2.21.0->tensorboard<2.10,>=2.9->tensorflow<2.10,>=2.9.0->tensorflow_text) (2.10)\n",
            "Requirement already satisfied: urllib3!=1.25.0,!=1.25.1,<1.26,>=1.21.1 in /usr/local/lib/python3.7/dist-packages (from requests<3,>=2.21.0->tensorboard<2.10,>=2.9->tensorflow<2.10,>=2.9.0->tensorflow_text) (1.24.3)\n",
            "Requirement already satisfied: certifi>=2017.4.17 in /usr/local/lib/python3.7/dist-packages (from requests<3,>=2.21.0->tensorboard<2.10,>=2.9->tensorflow<2.10,>=2.9.0->tensorflow_text) (2022.5.18.1)\n",
            "Requirement already satisfied: chardet<4,>=3.0.2 in /usr/local/lib/python3.7/dist-packages (from requests<3,>=2.21.0->tensorboard<2.10,>=2.9->tensorflow<2.10,>=2.9.0->tensorflow_text) (3.0.4)\n",
            "Requirement already satisfied: oauthlib>=3.0.0 in /usr/local/lib/python3.7/dist-packages (from requests-oauthlib>=0.7.0->google-auth-oauthlib<0.5,>=0.4.1->tensorboard<2.10,>=2.9->tensorflow<2.10,>=2.9.0->tensorflow_text) (3.2.0)\n",
            "Requirement already satisfied: pyparsing!=3.0.5,>=2.0.2 in /usr/local/lib/python3.7/dist-packages (from packaging->tensorflow<2.10,>=2.9.0->tensorflow_text) (3.0.9)\n",
            "Installing collected packages: tensorflow-estimator, tensorboard, keras, gast, flatbuffers, tensorflow, tensorflow-text\n",
            "  Attempting uninstall: tensorflow-estimator\n",
            "    Found existing installation: tensorflow-estimator 2.8.0\n",
            "    Uninstalling tensorflow-estimator-2.8.0:\n",
            "      Successfully uninstalled tensorflow-estimator-2.8.0\n",
            "  Attempting uninstall: tensorboard\n",
            "    Found existing installation: tensorboard 2.8.0\n",
            "    Uninstalling tensorboard-2.8.0:\n",
            "      Successfully uninstalled tensorboard-2.8.0\n",
            "  Attempting uninstall: keras\n",
            "    Found existing installation: keras 2.8.0\n",
            "    Uninstalling keras-2.8.0:\n",
            "      Successfully uninstalled keras-2.8.0\n",
            "  Attempting uninstall: gast\n",
            "    Found existing installation: gast 0.5.3\n",
            "    Uninstalling gast-0.5.3:\n",
            "      Successfully uninstalled gast-0.5.3\n",
            "  Attempting uninstall: flatbuffers\n",
            "    Found existing installation: flatbuffers 2.0\n",
            "    Uninstalling flatbuffers-2.0:\n",
            "      Successfully uninstalled flatbuffers-2.0\n",
            "  Attempting uninstall: tensorflow\n",
            "    Found existing installation: tensorflow 2.8.2+zzzcolab20220527125636\n",
            "    Uninstalling tensorflow-2.8.2+zzzcolab20220527125636:\n",
            "      Successfully uninstalled tensorflow-2.8.2+zzzcolab20220527125636\n",
            "Successfully installed flatbuffers-1.12 gast-0.4.0 keras-2.9.0 tensorboard-2.9.0 tensorflow-2.9.1 tensorflow-estimator-2.9.0 tensorflow-text-2.9.0\n"
          ]
        }
      ]
    },
    {
      "cell_type": "code",
      "source": [
        "import keras\n",
        "import tensorflow as tf\n",
        "import tensorflow_hub as hub\n",
        "import tensorflow_text as text\n",
        "import pandas as pd\n",
        "import matplotlib.pyplot as plt\n",
        "from sklearn.model_selection import train_test_split\n",
        "from sklearn.metrics import confusion_matrix, classification_report\n",
        "from keras.callbacks import EarlyStopping\n",
        "import numpy as np\n",
        "import seaborn as sns"
      ],
      "metadata": {
        "id": "_ZaqB3eiJHaJ"
      },
      "execution_count": null,
      "outputs": []
    },
    {
      "cell_type": "code",
      "source": [
        "device_name = tf.test.gpu_device_name()\n",
        "if device_name != '/device:GPU:0':\n",
        "  raise SystemError('GPU device not found')\n",
        "print('Found GPU at: {}'.format(device_name))"
      ],
      "metadata": {
        "colab": {
          "base_uri": "https://localhost:8080/"
        },
        "id": "MS7KKNwfJyLL",
        "outputId": "4f962e6d-a73d-4d7a-a651-2d0125d5d644"
      },
      "execution_count": null,
      "outputs": [
        {
          "output_type": "stream",
          "name": "stdout",
          "text": [
            "Found GPU at: /device:GPU:0\n"
          ]
        }
      ]
    },
    {
      "cell_type": "code",
      "source": [
        "\n",
        "df = pd.read_csv('/content/drive/MyDrive/enron_prep.csv', index_col=False)\n",
        "\n",
        "new_model = True\n",
        "\n",
        "\n",
        "# check count and unique and top values and their frequency\n",
        "df['label'].value_counts()\n",
        "\n",
        "# creating 2 new dataframe as df_ham , df_spam\n",
        "df_spam = df[df['label'] == 1]\n",
        "df_ham = df[df['label'] == 0]\n",
        "\n",
        "df_ham_downsampled = df_ham.sample(df_spam.shape[0])\n",
        "\n",
        "\n",
        "# concating both dataset - df_spam and df_ham_balanced to create df_balanced dataset\n",
        "df_balanced = pd.concat([df_spam, df_ham_downsampled])\n",
        "\n",
        "\n",
        "df_balanced.dropna(inplace=True)\n",
        "\n",
        "# df = df.sample(100)\n",
        "# print('data is downsampled')\n",
        "\n",
        "#df_balanced = df_balanced.sample(100)\n",
        "X_train, X_val, y_train, y_val = train_test_split(df_balanced['transformed_text'], df_balanced['label'], train_size=0.7)\n",
        "X_val, X_test, y_val, y_test = train_test_split(X_val, y_val, train_size=0.5)\n"
      ],
      "metadata": {
        "id": "YteMNt4DLikZ"
      },
      "execution_count": null,
      "outputs": []
    },
    {
      "cell_type": "code",
      "execution_count": null,
      "metadata": {
        "colab": {
          "base_uri": "https://localhost:8080/"
        },
        "id": "XKs35o9MINRZ",
        "outputId": "1db69e5b-56cd-4e99-9161-5f47c091ce48"
      },
      "outputs": [
        {
          "output_type": "stream",
          "name": "stdout",
          "text": [
            "Generating new model\n",
            "WARNING:tensorflow:Compiled the loaded model, but the compiled metrics have yet to be built. `model.compile_metrics` will be empty until you train or evaluate the model.\n"
          ]
        },
        {
          "output_type": "stream",
          "name": "stderr",
          "text": [
            "WARNING:tensorflow:Compiled the loaded model, but the compiled metrics have yet to be built. `model.compile_metrics` will be empty until you train or evaluate the model.\n",
            "WARNING:absl:Function `_wrapped_model` contains input name(s) Inputs with unsupported characters which will be renamed to inputs in the SavedModel.\n",
            "WARNING:absl:Found untraced functions such as restored_function_body, restored_function_body, restored_function_body, restored_function_body, restored_function_body while saving (showing 5 of 366). These functions will not be directly callable after loading.\n"
          ]
        },
        {
          "output_type": "stream",
          "name": "stdout",
          "text": [
            "INFO:tensorflow:Assets written to: ../content/Model/assets\n"
          ]
        },
        {
          "output_type": "stream",
          "name": "stderr",
          "text": [
            "INFO:tensorflow:Assets written to: ../content/Model/assets\n"
          ]
        },
        {
          "output_type": "stream",
          "name": "stdout",
          "text": [
            "Model: \"model\"\n",
            "__________________________________________________________________________________________________\n",
            " Layer (type)                   Output Shape         Param #     Connected to                     \n",
            "==================================================================================================\n",
            " Inputs (InputLayer)            [(None,)]            0           []                               \n",
            "                                                                                                  \n",
            " keras_layer (KerasLayer)       {'input_mask': (Non  0           ['Inputs[0][0]']                 \n",
            "                                e, 128),                                                          \n",
            "                                 'input_word_ids':                                                \n",
            "                                (None, 128),                                                      \n",
            "                                 'input_type_ids':                                                \n",
            "                                (None, 128)}                                                      \n",
            "                                                                                                  \n",
            " keras_layer_1 (KerasLayer)     {'sequence_output':  109482241   ['keras_layer[0][0]',            \n",
            "                                 (None, 128, 768),                'keras_layer[0][1]',            \n",
            "                                 'encoder_outputs':               'keras_layer[0][2]']            \n",
            "                                 [(None, 128, 768),                                               \n",
            "                                 (None, 128, 768),                                                \n",
            "                                 (None, 128, 768),                                                \n",
            "                                 (None, 128, 768),                                                \n",
            "                                 (None, 128, 768),                                                \n",
            "                                 (None, 128, 768),                                                \n",
            "                                 (None, 128, 768),                                                \n",
            "                                 (None, 128, 768),                                                \n",
            "                                 (None, 128, 768),                                                \n",
            "                                 (None, 128, 768),                                                \n",
            "                                 (None, 128, 768),                                                \n",
            "                                 (None, 128, 768)],                                               \n",
            "                                 'pooled_output': (                                               \n",
            "                                None, 768),                                                       \n",
            "                                 'default': (None,                                                \n",
            "                                768)}                                                             \n",
            "                                                                                                  \n",
            " Dropout (Dropout)              (None, 768)          0           ['keras_layer_1[0][13]']         \n",
            "                                                                                                  \n",
            " dense (Dense)                  (None, 64)           49216       ['Dropout[0][0]']                \n",
            "                                                                                                  \n",
            " Dense (Dense)                  (None, 1)            65          ['dense[0][0]']                  \n",
            "                                                                                                  \n",
            "==================================================================================================\n",
            "Total params: 109,531,522\n",
            "Trainable params: 49,281\n",
            "Non-trainable params: 109,482,241\n",
            "__________________________________________________________________________________________________\n",
            "None\n",
            "Epoch 1/100\n",
            "319/319 [==============================] - 215s 645ms/step - loss: 0.5595 - accuracy: 0.7132 - precision: 0.7122 - recall: 0.7205 - val_loss: 0.4534 - val_accuracy: 0.7879 - val_precision: 0.7065 - val_recall: 0.9793\n",
            "Epoch 2/100\n",
            "319/319 [==============================] - 202s 635ms/step - loss: 0.4791 - accuracy: 0.7784 - precision: 0.7747 - recall: 0.7882 - val_loss: 0.3645 - val_accuracy: 0.8589 - val_precision: 0.8505 - val_recall: 0.8681\n",
            "Epoch 3/100\n",
            "319/319 [==============================] - 203s 636ms/step - loss: 0.4530 - accuracy: 0.7932 - precision: 0.7924 - recall: 0.7976 - val_loss: 0.3302 - val_accuracy: 0.8821 - val_precision: 0.9036 - val_recall: 0.8533\n",
            "Epoch 4/100\n",
            "319/319 [==============================] - 202s 633ms/step - loss: 0.4469 - accuracy: 0.7956 - precision: 0.7953 - recall: 0.7990 - val_loss: 0.3160 - val_accuracy: 0.8827 - val_precision: 0.8958 - val_recall: 0.8640\n",
            "Epoch 5/100\n",
            "319/319 [==============================] - 201s 632ms/step - loss: 0.4438 - accuracy: 0.7932 - precision: 0.7934 - recall: 0.7957 - val_loss: 0.3175 - val_accuracy: 0.8824 - val_precision: 0.8479 - val_recall: 0.9296\n",
            "Epoch 6/100\n",
            "319/319 [==============================] - 202s 633ms/step - loss: 0.4247 - accuracy: 0.8048 - precision: 0.8060 - recall: 0.8054 - val_loss: 0.3149 - val_accuracy: 0.8833 - val_precision: 0.8387 - val_recall: 0.9468\n",
            "Epoch 7/100\n",
            "319/319 [==============================] - 201s 632ms/step - loss: 0.4152 - accuracy: 0.8115 - precision: 0.8112 - recall: 0.8146 - val_loss: 0.3117 - val_accuracy: 0.8859 - val_precision: 0.8419 - val_recall: 0.9480\n",
            "Epoch 8/100\n",
            "319/319 [==============================] - 201s 630ms/step - loss: 0.4012 - accuracy: 0.8162 - precision: 0.8154 - recall: 0.8199 - val_loss: 0.3198 - val_accuracy: 0.8821 - val_precision: 0.8303 - val_recall: 0.9580\n",
            "Epoch 9/100\n",
            "319/319 [==============================] - 201s 631ms/step - loss: 0.4020 - accuracy: 0.8172 - precision: 0.8174 - recall: 0.8193 - val_loss: 0.3084 - val_accuracy: 0.8830 - val_precision: 0.9211 - val_recall: 0.8356\n",
            "Epoch 10/100\n",
            "319/319 [==============================] - 203s 637ms/step - loss: 0.4013 - accuracy: 0.8198 - precision: 0.8199 - recall: 0.8219 - val_loss: 0.2949 - val_accuracy: 0.8909 - val_precision: 0.8980 - val_recall: 0.8800\n",
            "Epoch 11/100\n",
            "319/319 [==============================] - 208s 651ms/step - loss: 0.3958 - accuracy: 0.8222 - precision: 0.8210 - recall: 0.8263 - val_loss: 0.2881 - val_accuracy: 0.8941 - val_precision: 0.9035 - val_recall: 0.8805\n",
            "Epoch 12/100\n",
            "319/319 [==============================] - 208s 651ms/step - loss: 0.4010 - accuracy: 0.8176 - precision: 0.8165 - recall: 0.8219 - val_loss: 0.2937 - val_accuracy: 0.8906 - val_precision: 0.8956 - val_recall: 0.8823\n",
            "Epoch 13/100\n",
            "319/319 [==============================] - 208s 651ms/step - loss: 0.3926 - accuracy: 0.8204 - precision: 0.8213 - recall: 0.8214 - val_loss: 0.2838 - val_accuracy: 0.8912 - val_precision: 0.9074 - val_recall: 0.8693\n",
            "Epoch 14/100\n",
            "319/319 [==============================] - 205s 643ms/step - loss: 0.3938 - accuracy: 0.8200 - precision: 0.8173 - recall: 0.8266 - val_loss: 0.2845 - val_accuracy: 0.8965 - val_precision: 0.8894 - val_recall: 0.9036\n",
            "Epoch 15/100\n",
            "319/319 [==============================] - 202s 634ms/step - loss: 0.3905 - accuracy: 0.8232 - precision: 0.8208 - recall: 0.8291 - val_loss: 0.3255 - val_accuracy: 0.8633 - val_precision: 0.7989 - val_recall: 0.9681\n",
            "Epoch 16/100\n",
            "319/319 [==============================] - 201s 632ms/step - loss: 0.3886 - accuracy: 0.8243 - precision: 0.8207 - recall: 0.8323 - val_loss: 0.2870 - val_accuracy: 0.8973 - val_precision: 0.8678 - val_recall: 0.9355\n",
            "Epoch 17/100\n",
            "319/319 [==============================] - 201s 632ms/step - loss: 0.3804 - accuracy: 0.8250 - precision: 0.8215 - recall: 0.8328 - val_loss: 0.2859 - val_accuracy: 0.8938 - val_precision: 0.8536 - val_recall: 0.9486\n",
            "Epoch 18/100\n",
            "319/319 [==============================] - 201s 629ms/step - loss: 0.3796 - accuracy: 0.8285 - precision: 0.8273 - recall: 0.8324 - val_loss: 0.2823 - val_accuracy: 0.8909 - val_precision: 0.8529 - val_recall: 0.9426\n",
            "Epoch 19/100\n",
            "319/319 [==============================] - 202s 632ms/step - loss: 0.3767 - accuracy: 0.8307 - precision: 0.8265 - recall: 0.8393 - val_loss: 0.2754 - val_accuracy: 0.9017 - val_precision: 0.8988 - val_recall: 0.9036\n",
            "Epoch 20/100\n",
            "319/319 [==============================] - 202s 632ms/step - loss: 0.3754 - accuracy: 0.8318 - precision: 0.8285 - recall: 0.8391 - val_loss: 0.2799 - val_accuracy: 0.8973 - val_precision: 0.8782 - val_recall: 0.9208\n",
            "Epoch 21/100\n",
            "319/319 [==============================] - 202s 632ms/step - loss: 0.3736 - accuracy: 0.8322 - precision: 0.8278 - recall: 0.8412 - val_loss: 0.2796 - val_accuracy: 0.8906 - val_precision: 0.8415 - val_recall: 0.9604\n",
            "Epoch 22/100\n",
            "319/319 [==============================] - 202s 633ms/step - loss: 0.3674 - accuracy: 0.8375 - precision: 0.8326 - recall: 0.8470 - val_loss: 0.3098 - val_accuracy: 0.8721 - val_precision: 0.8090 - val_recall: 0.9716\n",
            "Epoch 23/100\n",
            "319/319 [==============================] - 201s 632ms/step - loss: 0.3746 - accuracy: 0.8308 - precision: 0.8269 - recall: 0.8389 - val_loss: 0.3319 - val_accuracy: 0.8700 - val_precision: 0.8098 - val_recall: 0.9645\n",
            "Epoch 24/100\n",
            "319/319 [==============================] - 206s 646ms/step - loss: 0.3711 - accuracy: 0.8365 - precision: 0.8318 - recall: 0.8457 - val_loss: 0.2753 - val_accuracy: 0.9006 - val_precision: 0.8832 - val_recall: 0.9213\n",
            "Epoch 25/100\n",
            "319/319 [==============================] - 208s 651ms/step - loss: 0.3667 - accuracy: 0.8383 - precision: 0.8346 - recall: 0.8458 - val_loss: 0.2737 - val_accuracy: 0.9017 - val_precision: 0.8738 - val_recall: 0.9373\n",
            "Epoch 26/100\n",
            "319/319 [==============================] - 207s 650ms/step - loss: 0.3749 - accuracy: 0.8300 - precision: 0.8259 - recall: 0.8385 - val_loss: 0.2823 - val_accuracy: 0.8909 - val_precision: 0.9048 - val_recall: 0.8717\n",
            "Epoch 27/100\n",
            "319/319 [==============================] - ETA: 0s - loss: 0.3668 - accuracy: 0.8327 - precision: 0.8296 - recall: 0.8395Restoring model weights from the end of the best epoch: 22.\n",
            "319/319 [==============================] - 208s 652ms/step - loss: 0.3668 - accuracy: 0.8327 - precision: 0.8296 - recall: 0.8395 - val_loss: 0.2745 - val_accuracy: 0.8921 - val_precision: 0.8487 - val_recall: 0.9521\n",
            "Epoch 27: early stopping\n",
            "107/107 [==============================] - 37s 338ms/step\n"
          ]
        }
      ],
      "source": [
        "model = None\n",
        "if (new_model):\n",
        "\n",
        "    print('Generating new model')\n",
        "    bert_preprocessor = hub.KerasLayer('https://tfhub.dev/tensorflow/bert_en_uncased_preprocess/3')\n",
        "    bert_encoder = hub.KerasLayer('https://tfhub.dev/tensorflow/bert_en_uncased_L-12_H-768_A-12/4')\n",
        "\n",
        "    text_input = tf.keras.layers.Input(shape=(), dtype=tf.string, name='Inputs')\n",
        "    preprocessed_text = bert_preprocessor(text_input)\n",
        "    embed = bert_encoder(preprocessed_text)\n",
        "    dropout = tf.keras.layers.Dropout(0.5, name='Dropout')(embed['pooled_output'])\n",
        "    x = tf.keras.layers.Dense(64, activation='relu')(dropout)\n",
        "    outputs = tf.keras.layers.Dense(1, activation='sigmoid', name='Dense')(x)\n",
        "\n",
        "    # creating final model\n",
        "    model = tf.keras.Model(inputs=[text_input], outputs=[outputs])\n",
        "\n",
        "    model.save(\"../content/Model\")\n",
        "else:\n",
        "    print('Loading old model')\n",
        "    model = keras.models.load_model(\"../Bert/Model\")\n",
        "\n",
        "# if (model is None):\n",
        "#     print(\"Error: No model\")\n",
        "#     return\n",
        "\n",
        "print(model.summary())\n",
        "\n",
        "Metrics = [tf.keras.metrics.BinaryAccuracy(name='accuracy'),\n",
        "            tf.keras.metrics.Precision(name='precision'),\n",
        "            tf.keras.metrics.Recall(name='recall')\n",
        "            ]\n",
        "\n",
        "# compiling our model\n",
        "model.compile(optimizer='adam',loss='binary_crossentropy',  metrics=Metrics)\n",
        "\n",
        "es = EarlyStopping(patience=5, verbose=1, min_delta=0.001, monitor='loss', mode='auto',\n",
        "                       restore_best_weights=True)\n",
        "\n",
        "num_epochs = 100\n",
        "history = model.fit(X_train, y_train, epochs=num_epochs, validation_data=(X_val, y_val),batch_size = 50,\n",
        "                    callbacks=[es],shuffle= True)\n",
        "\n",
        "\n",
        "if es.stopped_epoch > 0:\n",
        "  num_epochs = es.stopped_epoch\n",
        "\n",
        "\n",
        "# model.evaluate(X_test, y_test)\n",
        "\n",
        "\n",
        "# getting y_pred by predicting over X_text and flattening it\n",
        "y_pred = model.predict(X_test)\n",
        "y_pred = y_pred.flatten()  # require to be in one-dimensional array , for easy manipulation\n",
        "\n",
        "# y_test = y_test.to_numpy()\n",
        "y_pred = np.where(y_pred > 0.5, 1, 0)\n"
      ]
    },
    {
      "cell_type": "code",
      "source": [
        "model.save('/content/drive/MyDrive/NLP/Bert_enron')\n"
      ],
      "metadata": {
        "id": "7RbiDMQFJso3",
        "colab": {
          "base_uri": "https://localhost:8080/"
        },
        "outputId": "3cd18492-0ef8-4d8c-94d6-48033cf20458"
      },
      "execution_count": null,
      "outputs": [
        {
          "output_type": "stream",
          "name": "stderr",
          "text": [
            "WARNING:absl:Function `_wrapped_model` contains input name(s) Inputs with unsupported characters which will be renamed to inputs in the SavedModel.\n",
            "WARNING:absl:Found untraced functions such as restored_function_body, restored_function_body, restored_function_body, restored_function_body, restored_function_body while saving (showing 5 of 366). These functions will not be directly callable after loading.\n"
          ]
        },
        {
          "output_type": "stream",
          "name": "stdout",
          "text": [
            "INFO:tensorflow:Assets written to: /content/drive/MyDrive/NLP/Bert_enron/assets\n"
          ]
        },
        {
          "output_type": "stream",
          "name": "stderr",
          "text": [
            "INFO:tensorflow:Assets written to: /content/drive/MyDrive/NLP/Bert_enron/assets\n"
          ]
        }
      ]
    },
    {
      "cell_type": "code",
      "source": [
        "# creating confusion matrix\n",
        "\n",
        "cm = confusion_matrix(y_test, y_pred)\n",
        "\n",
        "\n",
        "#creating a graph out of confusion matrix\n",
        "sns.heatmap(cm, annot=True, fmt='d')\n",
        "plt.xlabel('Predicted')\n",
        "plt.ylabel('Actual')\n",
        "# plt.savefig('../Bert/Data/bert_CM.png')\n",
        "plt.savefig('/content/drive/MyDrive/NLP/Bert_enron/bert_CM.png')\n",
        "plt.show()\n",
        "\n",
        "#epochs = range(1, num_epochs+1)\n",
        "#print(epochs)\n",
        "plt.plot(history.history['loss'], 'g', label='Training loss')\n",
        "plt.plot(history.history['val_loss'], 'b', label='validation loss')\n",
        "plt.axvline(x=num_epochs, color='b', label='best_epoch')\n",
        "plt.title('Training and Validation loss')\n",
        "plt.xlabel('Epochs')\n",
        "plt.ylabel('Loss')\n",
        "plt.legend()\n",
        "plt.savefig('/content/drive/MyDrive/NLP/Bert_enron/bert_loss.png')\n",
        "plt.show()\n",
        "\n",
        "\n",
        "\n",
        "#epochs = range(1, num_epochs+1)\n",
        "plt.plot(history.history['precision'], 'g', label='Training precision')\n",
        "plt.plot(history.history['val_precision'], 'b', label='validation precision')\n",
        "plt.axvline(x=num_epochs, color='b', label='best_epoch')\n",
        "plt.title('Training and Validation precision')\n",
        "plt.xlabel('Epochs')\n",
        "plt.ylabel('Loss')\n",
        "plt.legend()\n",
        "plt.savefig('/content/drive/MyDrive/NLP/Bert_enron/bert_precision.png')\n",
        "# plt.savefig('../Bert/Data/bert_precision.png')\n",
        "plt.show()\n",
        "\n",
        "\n",
        "plt.plot( history.history['accuracy'], 'g', label='Training accuracy')\n",
        "plt.plot(history.history['val_accuracy'], 'b', label='validation accuracy')\n",
        "plt.axvline(x=num_epochs, color='b', label='best_epoch')\n",
        "plt.title('Training and Validation accuracy')\n",
        "plt.xlabel('Epochs')\n",
        "plt.ylabel('Loss')\n",
        "plt.legend()\n",
        "plt.savefig('/content/drive/MyDrive/NLP/Bert_enron/bert_accuracy.png')\n",
        "# plt.savefig('../Bert/Data/bert_accuracy.png')\n",
        "plt.show()\n",
        "\n",
        "# printing classification report\n",
        "print(classification_report(y_test, y_pred))\n",
        "\n",
        "predict_text = [\n",
        "    # Spam\n",
        "    'We’d all like to get a $10,000 deposit on our bank accounts out of the blue, but winning a prize—especially if you’ve never entered a contest',\n",
        "    'Netflix is sending you a refund of $12.99. Please reply with your bank account and routing number to verify and get your refund',\n",
        "    'Your account is temporarily frozen. Please log in to to secure your account ',\n",
        "    # ham\n",
        "    'The article was published on 18th August itself',\n",
        "    'Although we are unable to give you an exact time-frame at the moment, I would request you to stay tuned for any updates.',\n",
        "    'The image you sent is a UI bug, I can check that your article is marked as regular and is not in the monetization program.'\n",
        "]\n",
        "test_results = model.predict(predict_text)\n",
        "output = np.where(test_results > 0.5, 'spam', 'ham')\n",
        "print(output)"
      ],
      "metadata": {
        "colab": {
          "base_uri": "https://localhost:8080/",
          "height": 236
        },
        "id": "b5yId04wBhNz",
        "outputId": "2ad901db-d5fd-4a04-cbc5-d2557b2fe9f7"
      },
      "execution_count": null,
      "outputs": [
        {
          "output_type": "error",
          "ename": "NameError",
          "evalue": "ignored",
          "traceback": [
            "\u001b[0;31m---------------------------------------------------------------------------\u001b[0m",
            "\u001b[0;31mNameError\u001b[0m                                 Traceback (most recent call last)",
            "\u001b[0;32m<ipython-input-1-b0d5d0e24956>\u001b[0m in \u001b[0;36m<module>\u001b[0;34m()\u001b[0m\n\u001b[1;32m      1\u001b[0m \u001b[0;31m# creating confusion matrix\u001b[0m\u001b[0;34m\u001b[0m\u001b[0;34m\u001b[0m\u001b[0;34m\u001b[0m\u001b[0m\n\u001b[1;32m      2\u001b[0m \u001b[0;34m\u001b[0m\u001b[0m\n\u001b[0;32m----> 3\u001b[0;31m \u001b[0mcm\u001b[0m \u001b[0;34m=\u001b[0m \u001b[0mconfusion_matrix\u001b[0m\u001b[0;34m(\u001b[0m\u001b[0my_test\u001b[0m\u001b[0;34m,\u001b[0m \u001b[0my_pred\u001b[0m\u001b[0;34m)\u001b[0m\u001b[0;34m\u001b[0m\u001b[0;34m\u001b[0m\u001b[0m\n\u001b[0m\u001b[1;32m      4\u001b[0m \u001b[0;34m\u001b[0m\u001b[0m\n\u001b[1;32m      5\u001b[0m \u001b[0;34m\u001b[0m\u001b[0m\n",
            "\u001b[0;31mNameError\u001b[0m: name 'confusion_matrix' is not defined"
          ]
        }
      ]
    }
  ]
}